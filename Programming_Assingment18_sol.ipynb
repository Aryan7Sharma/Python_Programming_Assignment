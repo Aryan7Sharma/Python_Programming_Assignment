{
 "cells": [
  {
   "cell_type": "markdown",
   "id": "56693423",
   "metadata": {},
   "source": [
    "# Programming_Assingment18_Solutions"
   ]
  },
  {
   "cell_type": "markdown",
   "id": "4bb0ab0f",
   "metadata": {},
   "source": [
    "    Question 1\n",
    "    Create a function that takes a list of non-negative integers and strings and return a new list without the strings.\n",
    "    Examples\n",
    "    filter_list([1, 2, \"a\", \"b\"]) ➞ [1, 2]\n",
    "\n",
    "    filter_list([1, \"a\", \"b\", 0, 15]) ➞ [1, 0, 15]\n",
    "\n",
    "    filter_list([1, 2, \"aasf\", \"1\", \"123\", 123]) ➞ [1, 2, 123]\n",
    "\n",
    "    Question 2\n",
    "    The \"Reverser\" takes a string as input and returns that string in reverse order, with the opposite case.\n",
    "    Examples\n",
    "    reverse(\"Hello World\") ➞ \"DLROw OLLEh\"\n",
    "\n",
    "    reverse(\"ReVeRsE\") ➞ \"eSrEvEr\"\n",
    "\n",
    "    reverse(\"Radar\") ➞ \"RADAr\"\n",
    "\n",
    "    Question 3\n",
    "    You can assign variables from lists like this:\n",
    "    lst = [1, 2, 3, 4, 5, 6]\n",
    "    first = lst[0]\n",
    "    middle = lst[1:-1]\n",
    "    last = lst[-1]\n",
    "\n",
    "    print(first) ➞ outputs 1\n",
    "    print(middle) ➞ outputs [2, 3, 4, 5]\n",
    "    print(last) ➞ outputs 6\n",
    "    With Python 3, you can assign variables from lists in a much more succinct way. Create variables first, middle and last from the given list using destructuring assignment (check the Resources tab for some examples), where:\n",
    "    first  ➞ 1\n",
    "\n",
    "    middle ➞ [2, 3, 4, 5]\n",
    "\n",
    "    last ➞ 6\n",
    "    Your task is to unpack the list writeyourcodehere into three variables, being first, middle, and last, with middle being everything in between the first and last element. Then print all three variables.\n",
    "\n",
    "    Question 4\n",
    "    Write a function that calculates the factorial of a number recursively.\n",
    "    Examples\n",
    "    factorial(5) ➞ 120\n",
    "\n",
    "    factorial(3) ➞ 6\n",
    "\n",
    "    factorial(1) ➞ 1\n",
    "\n",
    "    factorial(0) ➞ 1\n",
    "\n",
    "    Question 5\n",
    "    Write a function that moves all elements of one type to the end of the list.\n",
    "    Examples\n",
    "    move_to_end([1, 3, 2, 4, 4, 1], 1) ➞ [3, 2, 4, 4, 1, 1]\n",
    "    \n",
    "# Move all the 1s to the end of the array.\n",
    "\n",
    "    move_to_end([7, 8, 9, 1, 2, 3, 4], 9) ➞ [7, 8, 1, 2, 3, 4, 9]\n",
    "\n",
    "    move_to_end([\"a\", \"a\", \"a\", \"b\"], \"a\") ➞ [\"b\", \"a\", \"a\", \"a\"]\n",
    "\n"
   ]
  },
  {
   "cell_type": "code",
   "execution_count": 77,
   "id": "f3e381a2",
   "metadata": {},
   "outputs": [],
   "source": [
    "class Assingment18:\n",
    "    import logging as lg\n",
    "    lg.basicConfig(filename=\"Ass18_info\",format='%(name)s - %(levelname)s - %(message)s',filemode='w')\n",
    "    log=lg.getLogger()\n",
    "    log.setLevel(lg.ERROR)\n",
    "    \n",
    "    \n",
    "    def filter_list(self,l):\n",
    "        try:\n",
    "            res=[]\n",
    "            for i in l:\n",
    "                if type(i)==int:res.append(i)\n",
    "            return res\n",
    "        except Exception as e:\n",
    "            self.log.error(e)\n",
    "            return(\"Error Type---> \",e)\n",
    "        \n",
    "        \n",
    "    def reverse(self,stri):\n",
    "        try:\n",
    "            s=\"\"\n",
    "            for i in range(len(stri)-1,-1,-1):\n",
    "                if stri[i]==stri[i].lower():s+=stri[i].upper()\n",
    "                else:s+=stri[i].lower()\n",
    "            return s\n",
    "        except Exception as e:\n",
    "            self.log.error(e)\n",
    "            return(\"Error Type---> \",e)\n",
    "        \n",
    "        \n",
    "    def unpack_the_list(self,l):\n",
    "        first,middle,last=0,0,0\n",
    "        try:\n",
    "            self.lst=l\n",
    "            self.first,*self.middle,self.last=self.lst\n",
    "            return \"lst  =  {0},  first  =  {1},  middle  =  {2},  last  =  {3}\".format(self.lst,self.first,self.middle,self.last)\n",
    "        except Exception as e:\n",
    "            self.log.error(e)\n",
    "            return(\"Error Type---> \",e)\n",
    "        \n",
    "        \n",
    "    def factorial(self,num):\n",
    "        try:\n",
    "            if num<=1:return 1\n",
    "            return num*self.factorial(num-1)\n",
    "        except Exception as e:\n",
    "            self.log.error(e)\n",
    "            return(\"Error Type---> \",e)\n",
    "        \n",
    "        \n",
    "    def move_to_end(self,arr,n):\n",
    "        try:\n",
    "            index=arr.index(n)\n",
    "            temp=arr.pop(index)\n",
    "            arr.append(n)\n",
    "            return arr\n",
    "        except Exception as e:\n",
    "            self.log.error(e)\n",
    "            return(\"Error Type---> \",e)\n",
    "\n",
    "\n",
    "    def __str__(self):\n",
    "        return\"This Class Contains a  Methods or Functions for Assignments_18 Solutions\"  \n",
    "    \n",
    "\n",
    "obj=Assingment18()"
   ]
  },
  {
   "cell_type": "code",
   "execution_count": 78,
   "id": "ed639929",
   "metadata": {},
   "outputs": [
    {
     "name": "stdout",
     "output_type": "stream",
     "text": [
      "[1, 2]\n",
      "[1, 0, 15]\n",
      "[1, 2, 123]\n"
     ]
    }
   ],
   "source": [
    "print(obj.filter_list([1, 2, \"a\", \"b\"]))\n",
    "print(obj.filter_list([1, \"a\", \"b\", 0, 15]))\n",
    "print(obj.filter_list([1, 2, \"aasf\", \"1\", \"123\", 123]))"
   ]
  },
  {
   "cell_type": "code",
   "execution_count": 79,
   "id": "9f20a1be",
   "metadata": {},
   "outputs": [
    {
     "name": "stdout",
     "output_type": "stream",
     "text": [
      "DLROw OLLEh\n",
      "eSrEvEr\n",
      "RADAr\n"
     ]
    }
   ],
   "source": [
    "#2\n",
    "print(obj.reverse(\"Hello World\"))\n",
    "print(obj.reverse(\"ReVeRsE\"))\n",
    "print(obj.reverse(\"Radar\"))"
   ]
  },
  {
   "cell_type": "code",
   "execution_count": 80,
   "id": "89346730",
   "metadata": {},
   "outputs": [
    {
     "name": "stdout",
     "output_type": "stream",
     "text": [
      "lst  =  [1, 2, 3, 4, 5, 6],  first  =  1,  middle  =  [2, 3, 4, 5],  last  =  6\n",
      "[1, 2, 3, 4, 5, 6]\n",
      "1\n",
      "[2, 3, 4, 5]\n",
      "6\n"
     ]
    }
   ],
   "source": [
    "#3\n",
    "lst=[1, 2, 3, 4, 5, 6]\n",
    "print(obj.unpack_the_list(lst))\n",
    "print(obj.lst)\n",
    "print(obj.first)\n",
    "print(obj.middle)\n",
    "print(obj.last)"
   ]
  },
  {
   "cell_type": "code",
   "execution_count": 81,
   "id": "d81f0cc2",
   "metadata": {},
   "outputs": [
    {
     "name": "stdout",
     "output_type": "stream",
     "text": [
      "120\n",
      "6\n",
      "1\n",
      "1\n"
     ]
    }
   ],
   "source": [
    "#4\n",
    "print(obj.factorial(5))\n",
    "print(obj.factorial(3))\n",
    "print(obj.factorial(1))\n",
    "print(obj.factorial(0))"
   ]
  },
  {
   "cell_type": "code",
   "execution_count": 82,
   "id": "3841c81e",
   "metadata": {},
   "outputs": [
    {
     "name": "stdout",
     "output_type": "stream",
     "text": [
      "[3, 2, 4, 4, 1, 1]\n",
      "[7, 8, 1, 2, 3, 4, 9]\n",
      "['a', 'a', 'b', 'a']\n"
     ]
    }
   ],
   "source": [
    "#5\n",
    "print(obj.move_to_end([1, 3, 2, 4, 4, 1], 1))\n",
    "print(obj.move_to_end([7, 8, 9, 1, 2, 3, 4], 9))\n",
    "print(obj.move_to_end([\"a\", \"a\", \"a\", \"b\"], \"a\"))"
   ]
  },
  {
   "cell_type": "code",
   "execution_count": null,
   "id": "67a0b962",
   "metadata": {},
   "outputs": [],
   "source": []
  }
 ],
 "metadata": {
  "kernelspec": {
   "display_name": "Python 3 (ipykernel)",
   "language": "python",
   "name": "python3"
  },
  "language_info": {
   "codemirror_mode": {
    "name": "ipython",
    "version": 3
   },
   "file_extension": ".py",
   "mimetype": "text/x-python",
   "name": "python",
   "nbconvert_exporter": "python",
   "pygments_lexer": "ipython3",
   "version": "3.9.7"
  }
 },
 "nbformat": 4,
 "nbformat_minor": 5
}
