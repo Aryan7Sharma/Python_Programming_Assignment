{
 "cells": [
  {
   "cell_type": "markdown",
   "id": "0bed6bad",
   "metadata": {},
   "source": [
    "# Programming_Assingment24_Solutions"
   ]
  },
  {
   "cell_type": "raw",
   "id": "29180a59",
   "metadata": {},
   "source": [
    "Question1\n",
    "Create a function that takes an integer and returns a list from 1 to the given number, where:\n",
    "    1. If the number can be divided evenly by 4, amplify it by 10 (i.e. return 10 times the number).\n",
    "    2. If the number cannot be divided evenly by 4, simply return the number.\n",
    "Examples\n",
    "amplify(4) ➞ [1, 2, 3, 40]\n",
    "\n",
    "amplify(3) ➞ [1, 2, 3]\n",
    "\n",
    "amplify(25) ➞ [1, 2, 3, 40, 5, 6, 7, 80, 9, 10, 11, 120, 13, 14, 15, 160, 17, 18, 19, 200, 21, 22, 23, 240, 25]\n",
    "Notes\n",
    "    • The given integer will always be equal to or greater than 1.\n",
    "    • Include the number (see example above).\n",
    "    • To perform this problem with its intended purpose, try doing it with list comprehensions. If that's too difficult, just solve the challenge any way you can.\n",
    "\n",
    "\n",
    "\n",
    "\n",
    "\n",
    "\n",
    "\n",
    "Question2\n",
    "Create a function that takes a list of numbers and return the number that's unique.\n",
    "Examples\n",
    "unique([3, 3, 3, 7, 3, 3]) ➞ 7\n",
    "\n",
    "unique([0, 0, 0.77, 0, 0]) ➞ 0.77\n",
    "\n",
    "unique([0, 1, 1, 1, 1, 1, 1, 1]) ➞ 0\n",
    "Notes\n",
    "Test cases will always have exactly one unique number while all others are the same.\n",
    "\n",
    "\n",
    "\n",
    "\n",
    "\n",
    "\n",
    "\n",
    "\n",
    "Question3\n",
    "Your task is to create a Circle constructor that creates a circle with a radius provided by an argument. The circles constructed must have two getters getArea() (PIr^2) and getPerimeter() (2PI*r) which give both respective areas and perimeter (circumference).\n",
    "For help with this class, I have provided you with a Rectangle constructor which you can use as a base example.\n",
    "Examples\n",
    "circy = Circle(11)\n",
    "circy.getArea()\n",
    "\n",
    "# Should return 380.132711084365\n",
    "\n",
    "circy = Circle(4.44)\n",
    "circy.getPerimeter()\n",
    "\n",
    "# Should return 27.897342763877365\n",
    "Notes\n",
    "Round results up to the nearest integer.\n",
    "\n",
    "\n",
    "\n",
    "\n",
    "\n",
    "\n",
    "\n",
    "\n",
    "\n",
    "Question4\n",
    "Create a function that takes a list of strings and return a list, sorted from shortest to longest.\n",
    "Examples\n",
    "sort_by_length([\"Google\", \"Apple\", \"Microsoft\"])\n",
    "➞ [\"Apple\", \"Google\", \"Microsoft\"]\n",
    "\n",
    "sort_by_length([\"Leonardo\", \"Michelangelo\", \"Raphael\", \"Donatello\"])\n",
    "➞ [\"Raphael\", \"Leonardo\", \"Donatello\", \"Michelangelo\"]\n",
    "\n",
    "sort_by_length([\"Turing\", \"Einstein\", \"Jung\"])\n",
    "➞ [\"Jung\", \"Turing\", \"Einstein\"]\n",
    "Notes\n",
    "All test cases contain lists with strings of different lengths, so you won't have to deal with multiple strings of the same length.\n",
    "\n",
    "\n",
    "\n",
    "\n",
    "\n",
    "\n",
    "\n",
    "\n",
    "Question5\n",
    "Create a function that validates whether three given integers form a Pythagorean triplet. The sum of the squares of the two smallest integers must equal the square of the largest number to be validated.\n",
    "\n",
    "\n",
    "Examples\n",
    "#\n",
    "Notes\n",
    "Numbers may not be given in a sorted order.\n",
    "\n"
   ]
  },
  {
   "cell_type": "code",
   "execution_count": 39,
   "id": "f9486e4a",
   "metadata": {},
   "outputs": [],
   "source": [
    "class Assingment24:\n",
    "    import logging as lg\n",
    "    lg.basicConfig(filename=\"Ass24_info\",format='%(name)s - %(levelname)s - %(message)s',filemode='w')\n",
    "    log=lg.getLogger()\n",
    "    log.setLevel(lg.ERROR)\n",
    "    \n",
    "    \n",
    "    def amplify(self,num):\n",
    "        try:\n",
    "            return [i if i%4!=0 else i*10 for i in range(1,num+1) ]\n",
    "        except Exception as e:\n",
    "            self.log.error(e)\n",
    "            return(\"Error Type---> \",e)\n",
    "        \n",
    "        \n",
    "    def unique(self,arr):\n",
    "        try:\n",
    "            temp=list(set(arr))\n",
    "            if arr.count(temp[0])==1:return temp[0]\n",
    "            return temp[1]   \n",
    "        except Exception as e:\n",
    "            self.log.error(e)\n",
    "            return(\"Error Type---> \",e)\n",
    "        \n",
    "        \n",
    "    def sort_by_length0(self,arr):\n",
    "        try:\n",
    "            hashmap={}\n",
    "            for i in arr:\n",
    "                hashmap[len(i)]=i\n",
    "            return [hashmap[key] for key in sorted(hashmap)]\n",
    "        except Exception as e:\n",
    "            self.log.error(e)\n",
    "            return(\"Error Type---> \",e)\n",
    "        \n",
    "    def sort_by_length1(self,arr):\n",
    "        # one more approach\n",
    "        try:\n",
    "            res=[]\n",
    "            for i in range(len(arr)):\n",
    "                temp=min(arr,key=len)\n",
    "                res.append(temp)\n",
    "                arr.remove(temp)\n",
    "            return res\n",
    "        except Exception as e:\n",
    "            self.log.error(e)\n",
    "            return(\"Error Type---> \",e)\n",
    "        \n",
    "        \n",
    "    def is_triplet(self,a,b,c):\n",
    "        try:\n",
    "            if a>b and a>c:\n",
    "                if b**2+c**2==a*a:return True\n",
    "                return False\n",
    "            elif b>a and b>c:\n",
    "                if a**2+c**2==b*b:return True \n",
    "                return False\n",
    "            else:\n",
    "                if a**2+b**2==c*c:return True\n",
    "                return False\n",
    "        except Exception as e:\n",
    "            self.log.error(e)\n",
    "            return(\"Error Type---> \",e)\n",
    "\n",
    "\n",
    "    def __str__(self):\n",
    "        return\"This Class Contains a  Methods or Functions for Assignments_24 Solutions\"  \n",
    "    \n",
    "\n",
    "obj=Assingment24()"
   ]
  },
  {
   "cell_type": "code",
   "execution_count": 40,
   "id": "9633fc81",
   "metadata": {},
   "outputs": [
    {
     "name": "stdout",
     "output_type": "stream",
     "text": [
      "[1, 2, 3, 40]\n",
      "[1, 2, 3]\n",
      "[1, 2, 3, 40, 5, 6, 7, 80, 9, 10, 11, 120, 13, 14, 15, 160, 17, 18, 19, 200, 21, 22, 23, 240, 25]\n"
     ]
    }
   ],
   "source": [
    "#1\n",
    "print(obj.amplify(4))\n",
    "print(obj.amplify(3))\n",
    "print(obj.amplify(25))"
   ]
  },
  {
   "cell_type": "code",
   "execution_count": 41,
   "id": "0db5443e",
   "metadata": {},
   "outputs": [
    {
     "name": "stdout",
     "output_type": "stream",
     "text": [
      "7\n",
      "0.77\n",
      "0\n"
     ]
    }
   ],
   "source": [
    "#2\n",
    "print(obj.unique([3, 3, 3, 7, 3, 3]))\n",
    "print(obj.unique([0, 0, 0.77, 0, 0]))\n",
    "print(obj.unique([0, 1, 1, 1, 1, 1, 1, 1]))"
   ]
  },
  {
   "cell_type": "code",
   "execution_count": 50,
   "id": "50ca4f07",
   "metadata": {},
   "outputs": [],
   "source": [
    "#3\n",
    "class Circle:\n",
    "    pi=3.141592653589793\n",
    "    def __init__(self,r):\n",
    "        self._radius=r\n",
    "      \n",
    "\n",
    "    def getArea(self): # getter method\n",
    "        return self.pi*self._radius**2\n",
    "    \n",
    "    \n",
    "    def getPerimeter(self): # getter method\n",
    "        return 2*self.pi*self._radius\n",
    "\n",
    "    "
   ]
  },
  {
   "cell_type": "code",
   "execution_count": 51,
   "id": "8aa5d540",
   "metadata": {},
   "outputs": [
    {
     "name": "stdout",
     "output_type": "stream",
     "text": [
      "380.132711084365\n"
     ]
    }
   ],
   "source": [
    "obj1=Circle(11)\n",
    "print(obj1.getArea())"
   ]
  },
  {
   "cell_type": "code",
   "execution_count": 52,
   "id": "7b9ede01",
   "metadata": {},
   "outputs": [
    {
     "name": "stdout",
     "output_type": "stream",
     "text": [
      "27.897342763877365\n"
     ]
    }
   ],
   "source": [
    "obj1=Circle(4.44)\n",
    "print(obj1.getPerimeter())"
   ]
  },
  {
   "cell_type": "code",
   "execution_count": 45,
   "id": "111d7820",
   "metadata": {},
   "outputs": [
    {
     "name": "stdout",
     "output_type": "stream",
     "text": [
      "['Apple', 'Google', 'Microsoft']\n",
      "['Raphael', 'Leonardo', 'Donatello', 'Michelangelo']\n",
      "['Jung', 'Turing', 'Einstein']\n",
      "['Apple', 'Google', 'Microsoft']\n",
      "['Raphael', 'Leonardo', 'Donatello', 'Michelangelo']\n",
      "['Jung', 'Turing', 'Einstein']\n"
     ]
    }
   ],
   "source": [
    "#4\n",
    "print(obj.sort_by_length0([\"Google\", \"Apple\", \"Microsoft\"]))\n",
    "print(obj.sort_by_length0([\"Leonardo\", \"Michelangelo\", \"Raphael\", \"Donatello\"]))\n",
    "print(obj.sort_by_length0([\"Turing\", \"Einstein\", \"Jung\"]))\n",
    "\n",
    "\n",
    "\n",
    "print(obj.sort_by_length1([\"Google\", \"Apple\", \"Microsoft\"]))\n",
    "print(obj.sort_by_length1([\"Leonardo\", \"Michelangelo\", \"Raphael\", \"Donatello\"]))\n",
    "print(obj.sort_by_length1([\"Turing\", \"Einstein\", \"Jung\"]))"
   ]
  },
  {
   "cell_type": "code",
   "execution_count": 53,
   "id": "019e499b",
   "metadata": {},
   "outputs": [
    {
     "name": "stdout",
     "output_type": "stream",
     "text": [
      "True\n",
      "True\n",
      "False\n"
     ]
    }
   ],
   "source": [
    "#5\n",
    "print(obj.is_triplet(3, 4, 5))\n",
    "print(obj.is_triplet(13, 5, 12))\n",
    "print(obj.is_triplet(1, 2, 3))"
   ]
  },
  {
   "cell_type": "code",
   "execution_count": 54,
   "id": "66e2a79c",
   "metadata": {},
   "outputs": [
    {
     "name": "stdout",
     "output_type": "stream",
     "text": [
      "This Class Contains a  Methods or Functions for Assignments_24 Solutions\n"
     ]
    }
   ],
   "source": [
    "print(obj)"
   ]
  },
  {
   "cell_type": "code",
   "execution_count": null,
   "id": "0671f15a",
   "metadata": {},
   "outputs": [],
   "source": []
  }
 ],
 "metadata": {
  "kernelspec": {
   "display_name": "Python 3 (ipykernel)",
   "language": "python",
   "name": "python3"
  },
  "language_info": {
   "codemirror_mode": {
    "name": "ipython",
    "version": 3
   },
   "file_extension": ".py",
   "mimetype": "text/x-python",
   "name": "python",
   "nbconvert_exporter": "python",
   "pygments_lexer": "ipython3",
   "version": "3.9.7"
  }
 },
 "nbformat": 4,
 "nbformat_minor": 5
}
