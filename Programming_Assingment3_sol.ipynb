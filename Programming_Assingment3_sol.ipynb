{
 "cells": [
  {
   "cell_type": "markdown",
   "id": "03701c66",
   "metadata": {},
   "source": [
    "# Programming_Assingment3_Solutions"
   ]
  },
  {
   "cell_type": "markdown",
   "id": "b6bc7a2e",
   "metadata": {},
   "source": [
    "1.Write a Python Program to Check if a Number is Positive, Negative or Zero?"
   ]
  },
  {
   "cell_type": "code",
   "execution_count": null,
   "id": "1c985021",
   "metadata": {},
   "outputs": [],
   "source": [
    "def check_number(n):\n",
    "    if n%2==0 and n!=0:return(str(n)+\" is Positive\")\n",
    "    elif n%2!=0:return(str(n)+\" is Negative\")\n",
    "    else:return \"Zero\"\n",
    "n=int(input())\n",
    "print(check_number(n))"
   ]
  },
  {
   "cell_type": "markdown",
   "id": "71d24fb2",
   "metadata": {},
   "source": [
    "2.Write a Python Program to Check if a Number is Odd or Even?"
   ]
  },
  {
   "cell_type": "code",
   "execution_count": null,
   "id": "e2729a22",
   "metadata": {},
   "outputs": [],
   "source": [
    "def check_oddeven(n):\n",
    "    if n%2==0:return (str(n)+\" is Even\")\n",
    "    else:return(str(n)+\" is odd\")\n",
    "n=int(input())\n",
    "print(check_oddeven(n))"
   ]
  },
  {
   "cell_type": "markdown",
   "id": "d4925941",
   "metadata": {},
   "source": [
    "3.Write a Python Program to Check Leap Year?"
   ]
  },
  {
   "cell_type": "code",
   "execution_count": null,
   "id": "31036e63",
   "metadata": {},
   "outputs": [],
   "source": [
    "def check_leapyear(year):\n",
    "    if (year%400==0 or year%4==0) and year%100!=0:return str(year)+\" is a Leap Year\"\n",
    "    else:return str(year)+\" is not a Leap Year\"\n",
    "year=int(input())\n",
    "print(check_leapyear(year))"
   ]
  },
  {
   "cell_type": "markdown",
   "id": "814fcb81",
   "metadata": {},
   "source": [
    "4.Write a Python Program to Check Prime Number?"
   ]
  },
  {
   "cell_type": "code",
   "execution_count": null,
   "id": "9a70f444",
   "metadata": {},
   "outputs": [],
   "source": [
    "def check_prime_num(n):\n",
    "    if n==0 or n==1:return \"Number is not Prime\"\n",
    "    flag=0\n",
    "    for i in range(2,n):\n",
    "        if n%i==0:flag=1\n",
    "    if flag!=0:return str(n)+\" is not a prime Number\"\n",
    "    else:return str(n)+\" is a prime Number\"\n",
    "n=int(input())\n",
    "print(check_prime_num(n))"
   ]
  },
  {
   "cell_type": "markdown",
   "id": "a5ade7d5",
   "metadata": {},
   "source": [
    "5.Write a Python Program to Print all Prime Numbers in an Interval of 1-10000?"
   ]
  },
  {
   "cell_type": "code",
   "execution_count": null,
   "id": "b02a3573",
   "metadata": {},
   "outputs": [],
   "source": [
    "def check_prime_num(n):\n",
    "    flag=0\n",
    "    for i in range(2,n):\n",
    "        if n%i==0:flag=1\n",
    "    if flag==0:print(n,end=\" \")\n",
    "for i in range(1,10000):check_prime_num(i)"
   ]
  }
 ],
 "metadata": {
  "kernelspec": {
   "display_name": "Python 3 (ipykernel)",
   "language": "python",
   "name": "python3"
  },
  "language_info": {
   "codemirror_mode": {
    "name": "ipython",
    "version": 3
   },
   "file_extension": ".py",
   "mimetype": "text/x-python",
   "name": "python",
   "nbconvert_exporter": "python",
   "pygments_lexer": "ipython3",
   "version": "3.9.7"
  }
 },
 "nbformat": 4,
 "nbformat_minor": 5
}
