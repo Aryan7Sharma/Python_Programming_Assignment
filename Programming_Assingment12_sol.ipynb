{
 "cells": [
  {
   "cell_type": "markdown",
   "id": "29478076",
   "metadata": {},
   "source": [
    "# Programming_Assingment12_Solutions"
   ]
  },
  {
   "cell_type": "markdown",
   "id": "e4e2664f",
   "metadata": {},
   "source": [
    "    1. Write a Python program to Extract Unique values dictionary values?\n",
    "    2. Write a Python program to find the sum of all items in a dictionary?\n",
    "    3. Write a Python program to Merging two Dictionaries?\n",
    "    4. Write a Python program to convert key-values list to flat dictionary?\n",
    "    5. Write a Python program to insertion at the beginning in OrderedDict?\n",
    "    6. Write a Python program to check order of character in string using OrderedDict()?\n",
    "    7. Write a Python program to sort Python Dictionaries by Key or Value?"
   ]
  },
  {
   "cell_type": "code",
   "execution_count": 269,
   "id": "8ea3c70b",
   "metadata": {},
   "outputs": [],
   "source": [
    "class Assingment12:\n",
    "    \n",
    "    def unique_dict_val(self,hashmap):\n",
    "        try:\n",
    "            res=list(sorted({i for val in hashmap.values() for i in val}))\n",
    "            return \"After Extracting Unique dictionary values --{0}--\".format(res)\n",
    "        except Exception as e:\n",
    "            return(\"Error Type---> \",e)\n",
    "        \n",
    "    def sum_ofdicti(self,hashmap):\n",
    "        try:\n",
    "            return sum(hashmap.values())\n",
    "        except Exception as e:\n",
    "            return(\"Error Type---> \",e)\n",
    "        \n",
    "    def merging_twodict(self,hash1,hash2):\n",
    "        try:\n",
    "            return({**hash1,**hash2})\n",
    "        except Exception as e:\n",
    "            return(\"Error Type---> \",e)\n",
    "        \n",
    "    def convert_list_toflat(self,hashmap):\n",
    "        from itertools import product\n",
    "        try:\n",
    "            l=hashmap.keys()\n",
    "            res=dict(zip(hashmap[list(l)[0]],hashmap[list(l)[1]]))\n",
    "            return res\n",
    "        except Exception as e:\n",
    "            return(\"Error Type---> \",e)\n",
    "        \n",
    "    def insertion_atbegg(self,hashmap,n):\n",
    "        from collections import OrderedDict\n",
    "        try:\n",
    "            nhash=OrderedDict(hashmap.items())\n",
    "            l=n.keys()\n",
    "            nhash.update(n)\n",
    "            nhash.move_to_end(list(l)[-1],last=False)\n",
    "            return dict(nhash)\n",
    "            \n",
    "        except Exception as e:\n",
    "            return(\"Error Type---> \",e)\n",
    "        \n",
    "    def check_order(self,string,char):\n",
    "        from collections import OrderedDict\n",
    "        try:\n",
    "            temp=OrderedDict.fromkeys(string)\n",
    "            seq=0\n",
    "            for key,value in temp.items():\n",
    "                if key==char[seq]:seq+=1\n",
    "                if seq==len(char):return True\n",
    "            return False\n",
    "        except Exception as e:\n",
    "            return(\"Error Type---> \",e)\n",
    "        \n",
    "    def sort_dicti(self,hashmap):\n",
    "        try:\n",
    "            return \"Sorted Keys --{0}--, Sorted Values --{1}-- \".format(sorted(hashmap.keys()),sorted(hashmap.values()))\n",
    "        except Exception as e:\n",
    "            return(\"Error Type---> \",e)\n",
    "    \n",
    "    def __str__(self):\n",
    "        return\"This Class Contains a  Methods or Functions for Assignments_12 Solutions\"  \n",
    "\n",
    "obj=Assingment12()"
   ]
  },
  {
   "cell_type": "code",
   "execution_count": 270,
   "id": "24b1b8a8",
   "metadata": {},
   "outputs": [
    {
     "name": "stdout",
     "output_type": "stream",
     "text": [
      "After Extracting Unique dictionary values --[10, 15, 20, 30, 40, 45, 50, 60, 70, 80, 90]--\n",
      "After Extracting Unique dictionary values --['aryan', 'ineuron', 'krishna', 'rohan', 'tushar']--\n"
     ]
    }
   ],
   "source": [
    "#1. Write a Python program to Extract Unique values dictionary values?\n",
    "hashmap1={'Marks1':[20,40,10,45,30],'Marks2':[20,40,15,45,30],'Marks3':[80,40,70,45,90],'Marks4':[20,60,10,50,30]}\n",
    "hashmap2={'name1':[\"aryan\",\"tushar\",\"rohan\",\"ineuron\"],'name2':[\"aryan\",\"krishna\",\"rohan\",\"ineuron\"]}\n",
    "print(obj.unique_dict_val(hashmap1))\n",
    "print(obj.unique_dict_val(hashmap2))"
   ]
  },
  {
   "cell_type": "code",
   "execution_count": 271,
   "id": "b013c4a3",
   "metadata": {},
   "outputs": [
    {
     "data": {
      "text/plain": [
       "83"
      ]
     },
     "execution_count": 271,
     "metadata": {},
     "output_type": "execute_result"
    }
   ],
   "source": [
    "#2. Write a Python program to find the sum of all items in a dictionary?\n",
    "\n",
    "hashmap={\"a\":8,\"b\":6,\"c\":7,\"d\":2,\"e\":6,\"f\":4,\"g\":10,\"h\":9,\"i\":8,\"j\":7,\"k\":3,\"l\":8,\"m\":5}\n",
    "obj.sum_ofdicti(hashmap)"
   ]
  },
  {
   "cell_type": "code",
   "execution_count": 272,
   "id": "05cbaa2b",
   "metadata": {},
   "outputs": [
    {
     "data": {
      "text/plain": [
       "{'Marks1': [20, 40, 10, 45, 30],\n",
       " 'Marks2': [20, 40, 15, 45, 30],\n",
       " 'Marks3': [80, 40, 70, 45, 90],\n",
       " 'Marks4': [20, 60, 10, 50, 30],\n",
       " 'name1': ['aryan', 'tushar', 'rohan', 'ineuron'],\n",
       " 'name2': ['aryan', 'krishna', 'rohan', 'ineuron']}"
      ]
     },
     "execution_count": 272,
     "metadata": {},
     "output_type": "execute_result"
    }
   ],
   "source": [
    "#3. Write a Python program to Merging two Dictionaries?\n",
    "\n",
    "hashmap1={'Marks1':[20,40,10,45,30],'Marks2':[20,40,15,45,30],'Marks3':[80,40,70,45,90],'Marks4':[20,60,10,50,30]}\n",
    "hashmap2={'name1':[\"aryan\",\"tushar\",\"rohan\",\"ineuron\"],'name2':[\"aryan\",\"krishna\",\"rohan\",\"ineuron\"]}\n",
    "obj.merging_twodict(hashmap1,hashmap2)"
   ]
  },
  {
   "cell_type": "code",
   "execution_count": 273,
   "id": "a9594997",
   "metadata": {},
   "outputs": [
    {
     "data": {
      "text/plain": [
       "{'c++': 7, 'python': 9, 'data_science': 8, 'dsa': 9, 'big_data': 6}"
      ]
     },
     "execution_count": 273,
     "metadata": {},
     "output_type": "execute_result"
    }
   ],
   "source": [
    "#4. Write a Python program to convert key-values list to flat dictionary?\n",
    "\n",
    "hashmap={'subjects':[\"c++\",\"python\",\"data_science\",\"dsa\",\"big_data\"],'marks':[7,9,8,9,6]}\n",
    "obj.convert_list_toflat(hashmap)"
   ]
  },
  {
   "cell_type": "code",
   "execution_count": 274,
   "id": "fe1ab301",
   "metadata": {},
   "outputs": [
    {
     "data": {
      "text/plain": [
       "{'index': [1, 2, 3, 4, 5],\n",
       " 'subjects': ['c++', 'python', 'data_science', 'dsa', 'big_data'],\n",
       " 'marks': [7, 9, 8, 9, 6]}"
      ]
     },
     "execution_count": 274,
     "metadata": {},
     "output_type": "execute_result"
    }
   ],
   "source": [
    "#5. Write a Python program to insertion at the beginning in OrderedDict?\n",
    "\n",
    "hashmap={'subjects':[\"c++\",\"python\",\"data_science\",\"dsa\",\"big_data\"],'marks':[7,9,8,9,6]}\n",
    "n={'index':[1,2,3,4,5]}\n",
    "obj.insertion_atbegg(hashmap,n)"
   ]
  },
  {
   "cell_type": "code",
   "execution_count": 275,
   "id": "d88b4621",
   "metadata": {},
   "outputs": [
    {
     "name": "stdout",
     "output_type": "stream",
     "text": [
      "True\n",
      "False\n"
     ]
    }
   ],
   "source": [
    "#6. Write a Python program to check order of character in string using OrderedDict()?\n",
    "\n",
    "string=\"iNeuron Rock\"\n",
    "char=\"eck\"\n",
    "char1=\"ekc\"\n",
    "print(obj.check_order(string,char))\n",
    "print(obj.check_order(string,char1))"
   ]
  },
  {
   "cell_type": "code",
   "execution_count": 280,
   "id": "fe28590d",
   "metadata": {},
   "outputs": [
    {
     "data": {
      "text/plain": [
       "'Sorted Keys --[1, 2, 3, 4, 5, 6]--, Sorted Values --[2, 12, 18, 24, 56, 323]-- '"
      ]
     },
     "execution_count": 280,
     "metadata": {},
     "output_type": "execute_result"
    }
   ],
   "source": [
    "#7. Write a Python program to sort Python Dictionaries by Key or Value?\n",
    "\n",
    "hashmap={2: 56, 1: 2, 5: 12, 4: 24, 6: 18, 3: 323}\n",
    "obj.sort_dicti(hashmap)"
   ]
  }
 ],
 "metadata": {
  "kernelspec": {
   "display_name": "Python 3 (ipykernel)",
   "language": "python",
   "name": "python3"
  },
  "language_info": {
   "codemirror_mode": {
    "name": "ipython",
    "version": 3
   },
   "file_extension": ".py",
   "mimetype": "text/x-python",
   "name": "python",
   "nbconvert_exporter": "python",
   "pygments_lexer": "ipython3",
   "version": "3.9.7"
  }
 },
 "nbformat": 4,
 "nbformat_minor": 5
}
