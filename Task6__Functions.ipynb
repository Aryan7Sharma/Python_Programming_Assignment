{
 "cells": [
  {
   "cell_type": "markdown",
   "id": "dbe812f0",
   "metadata": {},
   "source": [
    "# Task6__Functions"
   ]
  },
  {
   "cell_type": "code",
   "execution_count": 16,
   "id": "d7650f88",
   "metadata": {},
   "outputs": [
    {
     "name": "stdout",
     "output_type": "stream",
     "text": [
      "2  3  5  7  11  13  17  19  23  29  31  37  41  43  47  53  59  61  67  71  73  79  83  89  97  101  103  107  109  113  127  131  137  139  149  151  157  163  167  173  179  181  191  193  197  199  211  223  227  229  233  239  241  251  257  263  269  271  277  281  283  293  307  311  313  317  331  337  347  349  353  359  367  373  379  383  389  397  401  409  419  421  431  433  439  443  449  457  461  463  467  479  487  491  499  503  509  521  523  541  547  557  563  569  571  577  587  593  599  601  607  613  617  619  631  641  643  647  653  659  661  673  677  683  691  701  709  719  727  733  739  743  751  757  761  769  773  787  797  809  811  821  823  827  829  839  853  857  859  863  877  881  883  887  907  911  919  929  937  941  947  953  967  971  977  983  991  997  "
     ]
    }
   ],
   "source": [
    "#-1 Try to print a prime number in between 1 to 1000\n",
    "def isprime(n):\n",
    "    for i in range(2,n):\n",
    "        if n%i==0:return False\n",
    "    return True\n",
    "\n",
    "for i in range(2,1000):\n",
    "    if isprime(i):print(i,end=\"  \")"
   ]
  },
  {
   "cell_type": "code",
   "execution_count": 20,
   "id": "518ae9c1",
   "metadata": {},
   "outputs": [
    {
     "data": {
      "text/plain": [
       "(('Hello World',),)"
      ]
     },
     "execution_count": 20,
     "metadata": {},
     "output_type": "execute_result"
    }
   ],
   "source": [
    "#-2 Try to print a function which is eqivalent to print function in python:\n",
    "def Print(*a):\n",
    "    return a\n",
    "\n",
    "Print(\"Hello World\")"
   ]
  },
  {
   "cell_type": "code",
   "execution_count": 21,
   "id": "9c5a2763",
   "metadata": {},
   "outputs": [
    {
     "data": {
      "text/plain": [
       "(1, 2, 3, 4, 5)"
      ]
     },
     "execution_count": 21,
     "metadata": {},
     "output_type": "execute_result"
    }
   ],
   "source": [
    "Print(1,2,3,4,5)"
   ]
  },
  {
   "cell_type": "code",
   "execution_count": 22,
   "id": "eeb870b3",
   "metadata": {},
   "outputs": [
    {
     "data": {
      "text/plain": [
       "(('Hello World',),)"
      ]
     },
     "execution_count": 22,
     "metadata": {},
     "output_type": "execute_result"
    }
   ],
   "source": [
    "Print(Print(\"Hello World\"))"
   ]
  },
  {
   "cell_type": "code",
   "execution_count": 44,
   "id": "2b9103b0",
   "metadata": {},
   "outputs": [],
   "source": [
    "#-3 Try to write a function which is a replicate of list append , extend and pop function.\n",
    "def append(List,val):\n",
    "    List+=[0]\n",
    "    List[-1]=val\n",
    "    return List \n",
    "\n",
    "def extend(List,val):\n",
    "    List[len(List)::]=val[0::]\n",
    "    return List\n",
    "\n",
    "def pop(List):\n",
    "    pop=List[-1]\n",
    "    List=List[0:-1]\n",
    "    return pop,List"
   ]
  },
  {
   "cell_type": "code",
   "execution_count": 45,
   "id": "85d8904b",
   "metadata": {},
   "outputs": [
    {
     "name": "stdout",
     "output_type": "stream",
     "text": [
      "[1, 2, 3, 4, 5, 6]\n",
      "[1, 2, 3, 4, 5, 6, 2, 3, 4]\n",
      "(4, [1, 2, 3, 4, 5, 6, 2, 3])\n",
      "[1, 2, 3, 4, 5, 6, 2, 3, 4]\n"
     ]
    }
   ],
   "source": [
    "l=[1,2,3,4,5]\n",
    "print(append(l,6))\n",
    "\n",
    "print(extend(l,[2,3,4]))\n",
    "\n",
    "print(pop(l))"
   ]
  },
  {
   "cell_type": "code",
   "execution_count": 36,
   "id": "6b531060",
   "metadata": {},
   "outputs": [
    {
     "data": {
      "text/plain": [
       "'iNeuron'"
      ]
     },
     "execution_count": 36,
     "metadata": {},
     "output_type": "execute_result"
    }
   ],
   "source": [
    "#-4 Try to write a lambda function which can return a concatination of all the string that we will pass.\n",
    "\n",
    "l=[\"i\",\"N\",\"e\",\"u\",\"r\",\"o\",\"n\"]\n",
    "\n",
    "\"\".join(map(lambda x:x,l))"
   ]
  },
  {
   "cell_type": "code",
   "execution_count": 63,
   "id": "6d6b4da6",
   "metadata": {},
   "outputs": [
    {
     "name": "stdout",
     "output_type": "stream",
     "text": [
      "[1, 4, 9, 16, 25, 36, 49, 64, 81, 100, 121, 144, 169, 196, 225, 256, 289, 324, 361, 400, 441, 484, 529, 576, 625, 676, 729, 784, 841, 900, 961, 1024, 1089, 1156, 1225, 1296, 1369, 1444, 1521, 1600, 1681, 1764, 1849, 1936, 2025, 2116, 2209, 2304, 2401, 2500, 2601, 2704, 2809, 2916, 3025, 3136, 3249, 3364, 3481, 3600, 3721, 3844, 3969, 4096, 4225, 4356, 4489, 4624, 4761, 4900, 5041, 5184, 5329, 5476, 5625, 5776, 5929, 6084, 6241, 6400, 6561, 6724, 6889, 7056, 7225, 7396, 7569, 7744, 7921, 8100, 8281, 8464, 8649, 8836, 9025, 9216, 9409, 9604, 9801] "
     ]
    }
   ],
   "source": [
    "#-5 Try to write a lambda function which can return a list of square of all data between 1-100.\n",
    "l=list(range(1,100))\n",
    "a=list(map(lambda x:x*x,l))\n",
    "print(a,end=\" \")"
   ]
  },
  {
   "cell_type": "code",
   "execution_count": 72,
   "id": "c73c8625",
   "metadata": {},
   "outputs": [
    {
     "data": {
      "text/plain": [
       "'https://drive.google.com/drive/folders/13lLLwtHm4RV3HXGRICcU_WZH7s7WF6lI?usp=sharing\\n'"
      ]
     },
     "execution_count": 72,
     "metadata": {},
     "output_type": "execute_result"
    }
   ],
   "source": [
    "#-7 Try to write a function which can perform  a read operations from .txt file\n",
    "with open(\"link.txt\",\"r\") as file:\n",
    "    data=file.read()\n",
    "data"
   ]
  },
  {
   "cell_type": "code",
   "execution_count": 46,
   "id": "0a9076f5",
   "metadata": {},
   "outputs": [
    {
     "name": "stdout",
     "output_type": "stream",
     "text": [
      "aryan\n"
     ]
    }
   ],
   "source": [
    "#-6 Try to Write a 10 Different different example of lambda functions with a choice of your task.\n",
    "\n",
    "s=\"aryan\"\n",
    "(lambda x:print(x))(s)"
   ]
  },
  {
   "cell_type": "code",
   "execution_count": 45,
   "id": "d7256923",
   "metadata": {},
   "outputs": [
    {
     "data": {
      "text/plain": [
       "'iNeuron'"
      ]
     },
     "execution_count": 45,
     "metadata": {},
     "output_type": "execute_result"
    }
   ],
   "source": [
    "li=[\"i\",\"N\",\"e\",\"u\",\"r\",\"o\",\"n\"]\n",
    "\n",
    "a=lambda x:\"\".join(x)\n",
    "a(li)"
   ]
  },
  {
   "cell_type": "code",
   "execution_count": 50,
   "id": "cbc4da68",
   "metadata": {},
   "outputs": [
    {
     "name": "stdout",
     "output_type": "stream",
     "text": [
      "hello\n",
      "Not Valid!\n"
     ]
    }
   ],
   "source": [
    "a=lambda x:print(x) if type (x)==str else print(\"Not Valid!\")\n",
    "a(\"hello\")\n",
    "a(23)"
   ]
  },
  {
   "cell_type": "code",
   "execution_count": 60,
   "id": "b7dfe379",
   "metadata": {},
   "outputs": [
    {
     "data": {
      "text/plain": [
       "45"
      ]
     },
     "execution_count": 60,
     "metadata": {},
     "output_type": "execute_result"
    }
   ],
   "source": [
    "a=lambda x:sum(x)\n",
    "x=[1,2,3,4,5,6,7,8,9]\n",
    "a(x)"
   ]
  },
  {
   "cell_type": "code",
   "execution_count": 68,
   "id": "a5e85500",
   "metadata": {},
   "outputs": [
    {
     "name": "stdout",
     "output_type": "stream",
     "text": [
      "10\n",
      "20\n",
      "30\n",
      "40\n",
      "50\n",
      "60\n",
      "70\n",
      "80\n",
      "90\n",
      "100\n"
     ]
    }
   ],
   "source": [
    "a=[lambda x=x:x*10 for x in range(1,11)]\n",
    "for i in a:print(i())"
   ]
  },
  {
   "cell_type": "code",
   "execution_count": 85,
   "id": "bf675603",
   "metadata": {},
   "outputs": [],
   "source": [
    "short=lambda x:(sorted(i)for i in x)\n",
    "a=short([[1,2,7,4,5],[2,3,8,9,5,4,5],[1,9,8,7,6,5,4]])# generator"
   ]
  },
  {
   "cell_type": "code",
   "execution_count": 86,
   "id": "fef041b3",
   "metadata": {},
   "outputs": [
    {
     "name": "stdout",
     "output_type": "stream",
     "text": [
      "[1, 2, 4, 5, 7]\n",
      "[2, 3, 4, 5, 5, 8, 9]\n",
      "[1, 4, 5, 6, 7, 8, 9]\n"
     ]
    }
   ],
   "source": [
    "for i in a:print(i)"
   ]
  },
  {
   "cell_type": "code",
   "execution_count": 88,
   "id": "bf534781",
   "metadata": {},
   "outputs": [
    {
     "data": {
      "text/plain": [
       "[2, 4, 4]"
      ]
     },
     "execution_count": 88,
     "metadata": {},
     "output_type": "execute_result"
    }
   ],
   "source": [
    "a=lambda x,y:[i[min(i)] for i in y(x)]\n",
    "List=[[1,2,7,4,5],[2,3,8,9,5,4,5],[1,9,8,7,6,5,4]]\n",
    "a(List,short)"
   ]
  },
  {
   "cell_type": "code",
   "execution_count": 90,
   "id": "e4b8e4f9",
   "metadata": {},
   "outputs": [
    {
     "data": {
      "text/plain": [
       "256"
      ]
     },
     "execution_count": 90,
     "metadata": {},
     "output_type": "execute_result"
    }
   ],
   "source": [
    "a=lambda x,y:x**y\n",
    "a(2,8)"
   ]
  },
  {
   "cell_type": "code",
   "execution_count": 96,
   "id": "965cd505",
   "metadata": {},
   "outputs": [
    {
     "data": {
      "text/plain": [
       "[1, 7, 5]"
      ]
     },
     "execution_count": 96,
     "metadata": {},
     "output_type": "execute_result"
    }
   ],
   "source": [
    "a=lambda x:[i for i in x if i%2!=0]\n",
    "List=[1,2,6,7,8,5,4]\n",
    "a(List)"
   ]
  },
  {
   "cell_type": "code",
   "execution_count": 99,
   "id": "333bd8f4",
   "metadata": {},
   "outputs": [
    {
     "data": {
      "text/plain": [
       "['hello', 'iNeuron']"
      ]
     },
     "execution_count": 99,
     "metadata": {},
     "output_type": "execute_result"
    }
   ],
   "source": [
    "a=lambda x:[i for i in x if type(i)==str]\n",
    "List=[1,2,6,\"hello\",7,8,\"iNeuron\",5,4]\n",
    "a(List)"
   ]
  },
  {
   "cell_type": "code",
   "execution_count": null,
   "id": "48608c40",
   "metadata": {},
   "outputs": [],
   "source": []
  }
 ],
 "metadata": {
  "kernelspec": {
   "display_name": "Python 3 (ipykernel)",
   "language": "python",
   "name": "python3"
  },
  "language_info": {
   "codemirror_mode": {
    "name": "ipython",
    "version": 3
   },
   "file_extension": ".py",
   "mimetype": "text/x-python",
   "name": "python",
   "nbconvert_exporter": "python",
   "pygments_lexer": "ipython3",
   "version": "3.9.7"
  }
 },
 "nbformat": 4,
 "nbformat_minor": 5
}
