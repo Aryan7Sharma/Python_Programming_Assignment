{
 "cells": [
  {
   "cell_type": "markdown",
   "id": "29a0a9a8",
   "metadata": {},
   "source": [
    "# Programming_Assingment4_Solutions"
   ]
  },
  {
   "cell_type": "markdown",
   "id": "cac0e08a",
   "metadata": {},
   "source": [
    "1. Write a Python Program to Find the Factorial of a Number?\n",
    "2. Write a Python Program to Display the multiplication Table?\n",
    "3. Write a Python Program to Print the Fibonacci sequence?\n",
    "4. Write a Python Program to Check Armstrong Number?\n",
    "5. Write a Python Program to Find Armstrong Number in an Interval?\n",
    "6. Write a Python Program to Find the Sum of Natural Numbers?"
   ]
  },
  {
   "cell_type": "code",
   "execution_count": null,
   "id": "ba3d1bb9",
   "metadata": {},
   "outputs": [],
   "source": [
    "#1. Write a Python Program to Find the Factorial of a Number?\n",
    "\n",
    "def factorial(num):\n",
    "    if num<=1:return 1\n",
    "    return num*factorial(num-1)\n",
    "fact=int(input())\n",
    "print(factorial(fact))"
   ]
  },
  {
   "cell_type": "code",
   "execution_count": null,
   "id": "a1588d8a",
   "metadata": {},
   "outputs": [],
   "source": [
    "#2. Write a Python Program to Display the multiplication Table?\n",
    "\n",
    "def multi_table(n):\n",
    "    for i in range(1,11):\n",
    "        print(n, 'x', i, '=', n*i)\n",
    "n=int(input())\n",
    "print(multi_table(n))"
   ]
  },
  {
   "cell_type": "code",
   "execution_count": null,
   "id": "a5a5ae27",
   "metadata": {},
   "outputs": [],
   "source": [
    "#3. Write a Python Program to Print the Fibonacci sequence?\n",
    "\n",
    "def Fibonacci_sequ(num):\n",
    "    a,b=0,1\n",
    "    count=0\n",
    "    if num<=0:return \"Please Enter a Valid Number\"\n",
    "    elif num==1:return 1\n",
    "    else:\n",
    "        while count<num:\n",
    "            print(a,end=\" \")\n",
    "            a,b=b,b+a\n",
    "            count+=1\n",
    "        return \"<------ Fibonacci sequence\"\n",
    "num=int(input())\n",
    "print(Fibonacci_sequ(num))  "
   ]
  },
  {
   "cell_type": "code",
   "execution_count": null,
   "id": "95b4252e",
   "metadata": {},
   "outputs": [],
   "source": [
    "#4. Write a Python Program to Check Armstrong Number?\n",
    "\n",
    "def armstrong_num(num):\n",
    "    power=len(str(num))\n",
    "    if power==1:return True\n",
    "    check=0\n",
    "    for i in (str(num)):\n",
    "        check+=int(i)**power\n",
    "    if num==check:return True\n",
    "    else:return False\n",
    "n=int(input())\n",
    "print(armstrong_num(n))"
   ]
  },
  {
   "cell_type": "code",
   "execution_count": null,
   "id": "b01c1262",
   "metadata": {},
   "outputs": [],
   "source": [
    "#5. Write a Python Program to Find Armstrong Number in an Interval?\n",
    "\n",
    "def armstrong_num(num):\n",
    "    power=len(str(num))\n",
    "    if power==1:return True\n",
    "    check=0\n",
    "    for i in (str(num)):\n",
    "        check+=int(i)**power\n",
    "    if num==check:print(num,end=\" \")\n",
    "def find_armstrong(interbal):\n",
    "    interbal=interbal\n",
    "    if interbal<=0:return\"Invalid Interval\" \n",
    "    for i in range(interbal):armstrong_num(i)\n",
    "    return \"<----- Armstrong Numbers in an Interval \"+str(interbal)\n",
    "n=int(input())\n",
    "print(find_armstrong(n))"
   ]
  },
  {
   "cell_type": "code",
   "execution_count": null,
   "id": "edcd0f27",
   "metadata": {},
   "outputs": [],
   "source": [
    "#6. Write a Python Program to Find the Sum of Natural Numbers?\n",
    "\n",
    "def sumof_naturalnum(num):\n",
    "    if num<0:return\"!Please Enter a Positive Number\"\n",
    "    return num*(num+1)//2\n",
    "n=int(input())\n",
    "print(sumof_naturalnum(n))"
   ]
  },
  {
   "cell_type": "code",
   "execution_count": null,
   "id": "f3c6fb48",
   "metadata": {},
   "outputs": [],
   "source": []
  }
 ],
 "metadata": {
  "kernelspec": {
   "display_name": "Python 3 (ipykernel)",
   "language": "python",
   "name": "python3"
  },
  "language_info": {
   "codemirror_mode": {
    "name": "ipython",
    "version": 3
   },
   "file_extension": ".py",
   "mimetype": "text/x-python",
   "name": "python",
   "nbconvert_exporter": "python",
   "pygments_lexer": "ipython3",
   "version": "3.9.7"
  }
 },
 "nbformat": 4,
 "nbformat_minor": 5
}
