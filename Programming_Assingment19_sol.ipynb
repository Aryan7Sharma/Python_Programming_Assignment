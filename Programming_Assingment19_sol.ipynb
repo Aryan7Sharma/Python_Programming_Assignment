{
 "cells": [
  {
   "cell_type": "markdown",
   "id": "2b022962",
   "metadata": {},
   "source": [
    "# Programming_Assingment19_Solutions"
   ]
  },
  {
   "cell_type": "raw",
   "id": "6d1cdacb",
   "metadata": {},
   "source": [
    "Question1\n",
    "Create a function that takes a string and returns a string in which each character is repeated once.\n",
    "Examples\n",
    "double_char(\"String\") ➞ \"SSttrriinngg\"\n",
    "\n",
    "double_char(\"Hello World!\") ➞ \"HHeelllloo  WWoorrlldd!!\"\n",
    "\n",
    "double_char(\"1234!_ \") ➞ \"11223344!!__  \"\n",
    "\n",
    "\n",
    "\n",
    "\n",
    "Question2\n",
    "Create a function that reverses a boolean value and returns the string \"boolean expected\" if another variable type is given.\n",
    "Examples\n",
    "reverse(True) ➞ False\n",
    "\n",
    "reverse(False) ➞ True\n",
    "\n",
    "reverse(0) ➞ \"boolean expected\"\n",
    "\n",
    "reverse(None) ➞ \"boolean expected\"\n",
    "\n",
    "\n",
    "\n",
    "\n",
    "Question3\n",
    "Create a function that returns the thickness (in meters) of a piece of paper after folding it n number of times. The paper starts off with a thickness of 0.5mm.\n",
    "Examples\n",
    "num_layers(1) ➞ \"0.001m\"\n",
    "# Paper folded once is 1mm (equal to 0.001m)\n",
    "\n",
    "num_layers(4) ➞ \"0.008m\"\n",
    "# Paper folded 4 times is 8mm (equal to 0.008m)\n",
    "\n",
    "num_layers(21) ➞ \"1048.576m\"\n",
    "# Paper folded 21 times is 1048576mm (equal to 1048.576m)\n",
    "\n",
    "\n",
    "\n",
    "\n",
    "\n",
    "Question4\n",
    "Create a function that takes a single string as argument and returns an ordered list containing the indices of all capital letters in the string.\n",
    "Examples\n",
    "index_of_caps(\"eDaBiT\") ➞ [1, 3, 5]\n",
    "\n",
    "index_of_caps(\"eQuINoX\") ➞ [1, 3, 4, 6]\n",
    "\n",
    "index_of_caps(\"determine\") ➞ []\n",
    "\n",
    "index_of_caps(\"STRIKE\") ➞ [0, 1, 2, 3, 4, 5]\n",
    "\n",
    "index_of_caps(\"sUn\") ➞ [1]\n",
    "\n",
    "\n",
    "\n",
    "\n",
    "Question5\n",
    "Using list comprehensions, create a function that finds all even numbers from 1 to the given number.\n",
    "Examples\n",
    "find_even_nums(8) ➞ [2, 4, 6, 8]\n",
    "\n",
    "find_even_nums(4) ➞ [2, 4]\n",
    "\n",
    "find_even_nums(2) ➞ [2]"
   ]
  },
  {
   "cell_type": "code",
   "execution_count": 36,
   "id": "236b77bd",
   "metadata": {},
   "outputs": [],
   "source": [
    "class Assingment19:\n",
    "    import logging as lg\n",
    "    lg.basicConfig(filename=\"Ass19_info\",format='%(name)s - %(levelname)s - %(message)s',filemode='w')\n",
    "    log=lg.getLogger()\n",
    "    log.setLevel(lg.ERROR)\n",
    "    \n",
    "    \n",
    "    def double_char(self,s):\n",
    "        try:\n",
    "            res=\"\"\n",
    "            for i in s:res+=i*2\n",
    "            return res\n",
    "        except Exception as e:\n",
    "            self.log.error(e)\n",
    "            return(\"Error Type---> \",e)\n",
    "        \n",
    "        \n",
    "    def reverse(self,x):\n",
    "        try:\n",
    "            if type(x)==bool:\n",
    "                return not x\n",
    "            else:\n",
    "                return\"boolean expected\"\n",
    "        except Exception as e:\n",
    "            self.log.error(e)\n",
    "            return(\"Error Type---> \",e)\n",
    "        \n",
    "        \n",
    "    def num_layers(self,n):\n",
    "        #1meter=1000mm\n",
    "        try:\n",
    "            mm=2**(n-1)\n",
    "            res=mm/1000\n",
    "            return str(res)+\"m\"\n",
    "        except Exception as e:\n",
    "            self.log.error(e)\n",
    "            return(\"Error Type---> \",e)\n",
    "        \n",
    "        \n",
    "    def index_of_caps(self,stri):\n",
    "        try:\n",
    "            res=[]\n",
    "            for i in range(len(stri)):\n",
    "                if stri[i] == stri[i].upper():res.append(i)\n",
    "            return res\n",
    "        except Exception as e:\n",
    "            self.log.error(e)\n",
    "            return(\"Error Type---> \",e)\n",
    "        \n",
    "        \n",
    "    def find_even_nums(self,n):\n",
    "        try:\n",
    "            return [x for x in range(1,n+1)if x%2==0]\n",
    "        except Exception as e:\n",
    "            self.log.error(e)\n",
    "            return(\"Error Type---> \",e)\n",
    "\n",
    "\n",
    "    def __str__(self):\n",
    "        return\"This Class Contains a  Methods or Functions for Assignments_19 Solutions\"  \n",
    "    \n",
    "\n",
    "obj=Assingment19()"
   ]
  },
  {
   "cell_type": "code",
   "execution_count": 37,
   "id": "25efc2ef",
   "metadata": {},
   "outputs": [
    {
     "name": "stdout",
     "output_type": "stream",
     "text": [
      "SSttrriinngg\n",
      "HHeelllloo  WWoorrlldd!!\n",
      "11223344!!__  \n"
     ]
    }
   ],
   "source": [
    "#1\n",
    "print(obj.double_char(\"String\"))\n",
    "print(obj.double_char(\"Hello World!\"))\n",
    "print(obj.double_char(\"1234!_ \"))"
   ]
  },
  {
   "cell_type": "code",
   "execution_count": 38,
   "id": "9431e38f",
   "metadata": {},
   "outputs": [
    {
     "name": "stdout",
     "output_type": "stream",
     "text": [
      "False\n",
      "True\n",
      "boolean expected\n",
      "boolean expected\n"
     ]
    }
   ],
   "source": [
    "#2\n",
    "print(obj.reverse(True))\n",
    "print(obj.reverse(False))\n",
    "print(obj.reverse(0))\n",
    "print(obj.reverse(None))"
   ]
  },
  {
   "cell_type": "code",
   "execution_count": 39,
   "id": "f55d3566",
   "metadata": {},
   "outputs": [
    {
     "name": "stdout",
     "output_type": "stream",
     "text": [
      "0.001m\n",
      "0.008m\n",
      "1048.576m\n"
     ]
    }
   ],
   "source": [
    "#3\n",
    "print(obj.num_layers(1))\n",
    "print(obj.num_layers(4))\n",
    "print(obj.num_layers(21))"
   ]
  },
  {
   "cell_type": "code",
   "execution_count": 40,
   "id": "6a08d8ae",
   "metadata": {},
   "outputs": [
    {
     "name": "stdout",
     "output_type": "stream",
     "text": [
      "[1, 3, 4, 6]\n",
      "[]\n",
      "[0, 1, 2, 3, 4, 5]\n",
      "[1]\n"
     ]
    }
   ],
   "source": [
    "#4\n",
    "print(obj.index_of_caps(\"eQuINoX\"))\n",
    "print(obj.index_of_caps(\"determine\"))\n",
    "print(obj.index_of_caps(\"STRIKE\"))\n",
    "print(obj.index_of_caps(\"sUn\"))"
   ]
  },
  {
   "cell_type": "code",
   "execution_count": 41,
   "id": "f6726208",
   "metadata": {},
   "outputs": [
    {
     "name": "stdout",
     "output_type": "stream",
     "text": [
      "[2, 4, 6, 8]\n",
      "[2, 4]\n",
      "[2]\n"
     ]
    }
   ],
   "source": [
    "#5\n",
    "print(obj.find_even_nums(8))\n",
    "print(obj.find_even_nums(4))\n",
    "print(obj.find_even_nums(2))"
   ]
  }
 ],
 "metadata": {
  "kernelspec": {
   "display_name": "Python 3 (ipykernel)",
   "language": "python",
   "name": "python3"
  },
  "language_info": {
   "codemirror_mode": {
    "name": "ipython",
    "version": 3
   },
   "file_extension": ".py",
   "mimetype": "text/x-python",
   "name": "python",
   "nbconvert_exporter": "python",
   "pygments_lexer": "ipython3",
   "version": "3.9.7"
  }
 },
 "nbformat": 4,
 "nbformat_minor": 5
}
