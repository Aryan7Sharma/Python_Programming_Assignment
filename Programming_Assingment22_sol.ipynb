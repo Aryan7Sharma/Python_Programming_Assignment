{
 "cells": [
  {
   "cell_type": "markdown",
   "id": "2c177e33",
   "metadata": {},
   "source": [
    "# Programming_Assingment22_Solutions"
   ]
  },
  {
   "cell_type": "raw",
   "id": "c262f2a2",
   "metadata": {},
   "source": [
    "Question1\n",
    "Create a function that takes three parameters where:\n",
    "    • x is the start of the range (inclusive).\n",
    "    • y is the end of the range (inclusive).\n",
    "    • n is the divisor to be checked against.\n",
    "Return an ordered list with numbers in the range that are divisible by the third parameter n. Return an empty list if there are no numbers that are divisible by n.\n",
    "Examples\n",
    "list_operation(1, 10, 3) ➞ [3, 6, 9]\n",
    "\n",
    "list_operation(7, 9, 2) ➞ [8]\n",
    "\n",
    "list_operation(15, 20, 7) ➞ []\n",
    "\n",
    "\n",
    "\n",
    "\n",
    "Question2\n",
    "Create a function that takes in two lists and returns True if the second list follows the first list by one element, and False otherwise. In other words, determine if the second list is the first list shifted to the right by 1.\n",
    "Examples\n",
    "simon_says([1, 2], [5, 1]) ➞ True\n",
    "\n",
    "simon_says([1, 2], [5, 5]) ➞ False\n",
    "\n",
    "simon_says([1, 2, 3, 4, 5], [0, 1, 2, 3, 4]) ➞ True\n",
    "\n",
    "simon_says([1, 2, 3, 4, 5], [5, 5, 1, 2, 3]) ➞ False\n",
    "Notes\n",
    "    • Both input lists will be of the same length, and will have a minimum length of 2.\n",
    "    • The values of the 0-indexed element in the second list and the n-1th indexed element in the first list do not matter.\n",
    "\n",
    "\n",
    "\n",
    "\n",
    "\n",
    "Question3\n",
    "A group of friends have decided to start a secret society. The name will be the first letter of each of their names, sorted in alphabetical order.\n",
    "Create a function that takes in a list of names and returns the name of the secret society.\n",
    "Examples\n",
    "society_name([\"Adam\", \"Sarah\", \"Malcolm\"]) ➞ \"AMS\"\n",
    "\n",
    "society_name([\"Harry\", \"Newt\", \"Luna\", \"Cho\"]) ➞ \"CHLN\"\n",
    "\n",
    "society_name([\"Phoebe\", \"Chandler\", \"Rachel\", \"Ross\", \"Monica\", \"Joey\"])\n",
    "\n",
    "\n",
    "\n",
    "\n",
    "\n",
    "\n",
    "Question4\n",
    "An isogram is a word that has no duplicate letters. Create a function that takes a string and returns either True or False depending on whether or not it's an \"isogram\".\n",
    "Examples\n",
    "is_isogram(\"Algorism\") ➞ True\n",
    "\n",
    "is_isogram(\"PasSword\") ➞ False\n",
    "# Not case sensitive.\n",
    "\n",
    "is_isogram(\"Consecutive\") ➞ False\n",
    "Notes\n",
    "    • Ignore letter case (should not be case sensitive).\n",
    "    • All test cases contain valid one word strings.\n",
    "\n",
    "\n",
    "\n",
    "\n",
    "\n",
    "\n",
    "Question5\n",
    "Create a function that takes a string and returns True or False, depending on whether the characters are in order or not.\n",
    "Examples\n",
    "is_in_order(\"abc\") ➞ True\n",
    "\n",
    "is_in_order(\"edabit\") ➞ False\n",
    "\n",
    "is_in_order(\"123\") ➞ True\n",
    "\n",
    "is_in_order(\"xyzz\") ➞ True\n",
    "Notes\n",
    "You don't have to handle empty strings.\n"
   ]
  },
  {
   "cell_type": "code",
   "execution_count": 1,
   "id": "034a22e9",
   "metadata": {},
   "outputs": [],
   "source": [
    "class Assingment22:\n",
    "    import logging as lg\n",
    "    lg.basicConfig(filename=\"Ass22_info\",format='%(name)s - %(levelname)s - %(message)s',filemode='w')\n",
    "    log=lg.getLogger()\n",
    "    log.setLevel(lg.ERROR)\n",
    "    \n",
    "    \n",
    "    def list_operation(self,x,y,n):\n",
    "        try:\n",
    "            return [i for i in range(x,y+1) if i%n==0]    \n",
    "        except Exception as e:\n",
    "            self.log.error(e)\n",
    "            return(\"Error Type---> \",e)\n",
    "        \n",
    "        \n",
    "    def simon_says(self,arr1,arr2):\n",
    "        try:\n",
    "            if len(arr1)!=len(arr2) or len(arr1)<2:return \"Invalid Input!\"\n",
    "            for i in range(len(arr1)-1):\n",
    "                if arr1[i]!=arr2[i+1]:return False\n",
    "            return True\n",
    "        except Exception as e:\n",
    "            self.log.error(e)\n",
    "            return(\"Error Type---> \",e)\n",
    "        \n",
    "        \n",
    "    def society_name(self,l_str):\n",
    "        try:\n",
    "            ss=\"\"\n",
    "            for i in sorted(l_str):\n",
    "                ss+=''.join(i)[0]\n",
    "            return ss\n",
    "        except Exception as e:\n",
    "            self.log.error(e)\n",
    "            return(\"Error Type---> \",e)\n",
    "        \n",
    "        \n",
    "    def is_isogram(self,string):\n",
    "        try:\n",
    "            hashmap={}\n",
    "            s=string.lower()\n",
    "            for i in s:\n",
    "                if i not in hashmap:hashmap[i]=1\n",
    "                else:\n",
    "                    return False\n",
    "            return True\n",
    "        except Exception as e:\n",
    "            self.log.error(e)\n",
    "            return(\"Error Type---> \",e)\n",
    "        \n",
    "        \n",
    "    def is_in_order(self,string):\n",
    "        try:\n",
    "            check=''.join(sorted(string))\n",
    "            if string!=check:return False\n",
    "            return True\n",
    "        except Exception as e:\n",
    "            self.log.error(e)\n",
    "            return(\"Error Type---> \",e)\n",
    "\n",
    "\n",
    "    def __str__(self):\n",
    "        return\"This Class Contains a  Methods or Functions for Assignments_22 Solutions\"  \n",
    "    \n",
    "\n",
    "obj=Assingment22()"
   ]
  },
  {
   "cell_type": "code",
   "execution_count": 2,
   "id": "e605af76",
   "metadata": {},
   "outputs": [
    {
     "name": "stdout",
     "output_type": "stream",
     "text": [
      "[3, 6, 9]\n",
      "[8]\n",
      "[]\n"
     ]
    }
   ],
   "source": [
    "#1\n",
    "print(obj.list_operation(1, 10, 3))\n",
    "print(obj.list_operation(7, 9, 2))\n",
    "print(obj.list_operation(15, 20, 7))"
   ]
  },
  {
   "cell_type": "code",
   "execution_count": 3,
   "id": "1c6674c0",
   "metadata": {},
   "outputs": [
    {
     "name": "stdout",
     "output_type": "stream",
     "text": [
      "True\n",
      "False\n",
      "True\n",
      "False\n"
     ]
    }
   ],
   "source": [
    "#2\n",
    "print(obj.simon_says([1, 2], [5, 1]))\n",
    "print(obj.simon_says([1, 2], [5, 5]))\n",
    "print(obj.simon_says([1, 2, 3, 4, 5], [0, 1, 2, 3, 4]))\n",
    "print(obj.simon_says([1, 2, 3, 4, 5], [5, 5, 1, 2, 3]))"
   ]
  },
  {
   "cell_type": "code",
   "execution_count": 4,
   "id": "93422cea",
   "metadata": {},
   "outputs": [
    {
     "name": "stdout",
     "output_type": "stream",
     "text": [
      "AMS\n",
      "CHLN\n",
      "CJMPRR\n"
     ]
    }
   ],
   "source": [
    "#3\n",
    "print(obj.society_name([\"Adam\", \"Sarah\", \"Malcolm\"]))\n",
    "print(obj.society_name([\"Harry\", \"Newt\", \"Luna\", \"Cho\"]))\n",
    "print(obj.society_name([\"Phoebe\", \"Chandler\", \"Rachel\", \"Ross\", \"Monica\", \"Joey\"]))"
   ]
  },
  {
   "cell_type": "code",
   "execution_count": 5,
   "id": "36ac0fb6",
   "metadata": {},
   "outputs": [
    {
     "name": "stdout",
     "output_type": "stream",
     "text": [
      "True\n",
      "False\n",
      "False\n"
     ]
    }
   ],
   "source": [
    "#4\n",
    "print(obj.is_isogram(\"Algorism\"))\n",
    "print(obj.is_isogram(\"PasSword\"))\n",
    "print(obj.is_isogram(\"Consecutive\"))"
   ]
  },
  {
   "cell_type": "code",
   "execution_count": 6,
   "id": "d38a3443",
   "metadata": {},
   "outputs": [
    {
     "name": "stdout",
     "output_type": "stream",
     "text": [
      "True\n",
      "False\n",
      "True\n",
      "True\n"
     ]
    }
   ],
   "source": [
    "#5\n",
    "print(obj.is_in_order(\"abc\"))\n",
    "print(obj.is_in_order(\"edabit\"))\n",
    "print(obj.is_in_order(\"123\"))\n",
    "print(obj.is_in_order(\"xyzz\"))"
   ]
  }
 ],
 "metadata": {
  "kernelspec": {
   "display_name": "Python 3 (ipykernel)",
   "language": "python",
   "name": "python3"
  },
  "language_info": {
   "codemirror_mode": {
    "name": "ipython",
    "version": 3
   },
   "file_extension": ".py",
   "mimetype": "text/x-python",
   "name": "python",
   "nbconvert_exporter": "python",
   "pygments_lexer": "ipython3",
   "version": "3.9.7"
  }
 },
 "nbformat": 4,
 "nbformat_minor": 5
}
