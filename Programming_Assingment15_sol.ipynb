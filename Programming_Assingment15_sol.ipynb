{
 "cells": [
  {
   "cell_type": "markdown",
   "id": "d0cdf88c",
   "metadata": {},
   "source": [
    "# Programming_Assingment15_Solutions"
   ]
  },
  {
   "cell_type": "markdown",
   "id": "a5b020fa",
   "metadata": {},
   "source": [
    "    Question 1:\n",
    "    Please write a program using generator to print the numbers which can be divisible by 5 and 7 between 0 and n in comma separated form while n is input by console.\n",
    "    Example:\n",
    "    If the following n is given as input to the program:\n",
    "    100\n",
    "    Then, the output of the program should be:\n",
    "    0,35,70\n",
    "\n",
    "    Question 2:\n",
    "    Please write a program using generator to print the even numbers between 0 and n in comma separated form while n is input by console.\n",
    "    Example:\n",
    "    If the following n is given as input to the program:\n",
    "    10\n",
    "    Then, the output of the program should be:\n",
    "    0,2,4,6,8,10\n",
    "\n",
    "    Question 3:\n",
    "    The Fibonacci Sequence is computed based on the following formula:\n",
    "    f(n)=0 if n=0\n",
    "    f(n)=1 if n=1\n",
    "    f(n)=f(n-1)+f(n-2) if n>1\n",
    "    Please write a program using list comprehension to print the Fibonacci Sequence in comma separated form with a given n input by console.\n",
    "    Example:\n",
    "    If the following n is given as input to the program:\n",
    "    7\n",
    "\n",
    "    Then, the output of the program should be:\n",
    "    0,1,1,2,3,5,8,13\n",
    "\n",
    "    Question 4:\n",
    "    Assuming that we have some email addresses in the \"username@companyname.com\" format, please write program to print the user name of a given email address. Both user names and company names are composed of letters only.\n",
    "    Example:\n",
    "    If the following email address is given as input to the program:\n",
    "    john@google.com\n",
    "    Then, the output of the program should be:\n",
    "    john\n",
    "\n",
    "    Question 5:\n",
    "    Define a class named Shape and its subclass Square. The Square class has an init function which takes a length as argument. Both classes have a area function which can print the area of the shape where Shape's area is 0 by default.\n"
   ]
  },
  {
   "cell_type": "code",
   "execution_count": 43,
   "id": "36d8cd2b",
   "metadata": {},
   "outputs": [],
   "source": [
    "class Assingment15:\n",
    "    \n",
    "    def sol1(self,n):\n",
    "        try:\n",
    "            for i in range(n):\n",
    "                if i%35==0:yield i\n",
    "        except Exception as e:\n",
    "            return(\"Error Type---> \",e)\n",
    "        \n",
    "    def sol2(self,n):\n",
    "        try:\n",
    "            for i in range(n+1):\n",
    "                if i%2==0:yield i\n",
    "        except Exception as e:\n",
    "            return(\"Error Type---> \",e)\n",
    "        \n",
    "        \n",
    "    def sol3(self,n):\n",
    "        try:\n",
    "            if n==0 or n==1:return n\n",
    "            return self.sol3(n-1)+self.sol3(n-2)\n",
    "        except Exception as e:\n",
    "            return(\"Error Type---> \",e)\n",
    "    def sol4(self,n):\n",
    "        name=n.split(\"@\")[0]\n",
    "        print(name)\n",
    "\n",
    "    def __str__(self):\n",
    "        return\"This Class Contains a  Methods or Functions for Assignments_15 Solutions\"  \n",
    "\n",
    "obj=Assingment15()"
   ]
  },
  {
   "cell_type": "code",
   "execution_count": 9,
   "id": "a167cfff",
   "metadata": {},
   "outputs": [
    {
     "name": "stdout",
     "output_type": "stream",
     "text": [
      "100\n",
      "0,35,70,"
     ]
    }
   ],
   "source": [
    "#1\n",
    "n=int(input())\n",
    "for i in obj.sol1(n):\n",
    "    print(i,end=\",\")"
   ]
  },
  {
   "cell_type": "code",
   "execution_count": 12,
   "id": "a31d5682",
   "metadata": {},
   "outputs": [
    {
     "name": "stdout",
     "output_type": "stream",
     "text": [
      "100\n",
      "0,35,70\n"
     ]
    }
   ],
   "source": [
    "#1\n",
    "n=int(input())\n",
    "l=[]\n",
    "for i in obj.sol1(n):\n",
    "    l.append(str(i))\n",
    "print(\",\".join(l))"
   ]
  },
  {
   "cell_type": "code",
   "execution_count": 17,
   "id": "779414ef",
   "metadata": {},
   "outputs": [
    {
     "name": "stdout",
     "output_type": "stream",
     "text": [
      "10\n",
      "0,2,4,6,8,10\n"
     ]
    }
   ],
   "source": [
    "#2\n",
    "n=int(input())\n",
    "l=[]\n",
    "for i in obj.sol2(n):\n",
    "    l.append(str(i))\n",
    "print(\",\".join(l))"
   ]
  },
  {
   "cell_type": "code",
   "execution_count": 34,
   "id": "155d3d26",
   "metadata": {},
   "outputs": [
    {
     "name": "stdout",
     "output_type": "stream",
     "text": [
      "7\n",
      "0,1,1,2,3,5,8,13\n"
     ]
    }
   ],
   "source": [
    "#3\n",
    "n=int(input())\n",
    "obj.sol3(n)\n",
    "res=[str(obj.sol3(x)) for x in range(0,n+1)]\n",
    "print(\",\".join(res))"
   ]
  },
  {
   "cell_type": "code",
   "execution_count": 44,
   "id": "559adb6f",
   "metadata": {},
   "outputs": [
    {
     "name": "stdout",
     "output_type": "stream",
     "text": [
      "john@google.com\n",
      "john\n"
     ]
    }
   ],
   "source": [
    "#4\n",
    "email=input()\n",
    "obj.sol4(email)"
   ]
  },
  {
   "cell_type": "code",
   "execution_count": 41,
   "id": "ba7c1250",
   "metadata": {},
   "outputs": [
    {
     "name": "stdout",
     "output_type": "stream",
     "text": [
      "0\n",
      "25\n"
     ]
    }
   ],
   "source": [
    "#5\n",
    "class shape:\n",
    "    def area(self):\n",
    "        return 0\n",
    "\n",
    "class square(shape):\n",
    "    def __init__(self,l):\n",
    "        self.length=l\n",
    "    \n",
    "    def area(self):\n",
    "        return self.length*self.length\n",
    "\n",
    "obj1=shape()\n",
    "obj2=square(5)\n",
    "print(obj1.area())\n",
    "print(obj2.area())"
   ]
  },
  {
   "cell_type": "code",
   "execution_count": null,
   "id": "3bb24767",
   "metadata": {},
   "outputs": [],
   "source": []
  }
 ],
 "metadata": {
  "kernelspec": {
   "display_name": "Python 3 (ipykernel)",
   "language": "python",
   "name": "python3"
  },
  "language_info": {
   "codemirror_mode": {
    "name": "ipython",
    "version": 3
   },
   "file_extension": ".py",
   "mimetype": "text/x-python",
   "name": "python",
   "nbconvert_exporter": "python",
   "pygments_lexer": "ipython3",
   "version": "3.9.7"
  }
 },
 "nbformat": 4,
 "nbformat_minor": 5
}
