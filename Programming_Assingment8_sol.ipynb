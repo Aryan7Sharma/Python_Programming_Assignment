{
 "cells": [
  {
   "cell_type": "markdown",
   "id": "68644c84",
   "metadata": {},
   "source": [
    "# Programming_Assingment8_Solutions"
   ]
  },
  {
   "cell_type": "markdown",
   "id": "5838abf3",
   "metadata": {},
   "source": [
    "    1. Write a Python Program to Add Two Matrices?\n",
    "    2. Write a Python Program to Multiply Two Matrices?\n",
    "    3. Write a Python Program to Transpose a Matrix?\n",
    "    4. Write a Python Program to Sort Words in Alphabetic Order?\n",
    "    5. Write a Python Program to Remove Punctuation From a String?"
   ]
  },
  {
   "cell_type": "code",
   "execution_count": 39,
   "id": "93745bb4",
   "metadata": {},
   "outputs": [],
   "source": [
    "class Matrix:\n",
    "    try:\n",
    "        def addition(self,mat1,mat2):\n",
    "            if len(mat1)!=len(mat2) or len(mat1[0])!=len(mat2[0]) :return \"Both Matrices must have the same Dimension\"\n",
    "            res=[[mat1[j][i]+mat2[j][i] for i in range(len(mat1[0]))] for j in range(len(mat1))]\n",
    "            return res\n",
    "    except Exception as e:\n",
    "        print(\"Error --->\",e)\n",
    "    try:\n",
    "        def multi(self,mat1,mat2):\n",
    "            if len(mat1)<=0 or len(mat2)<=0 :return \"Both Matrices must have the have some Elements\"\n",
    "            res=[[sum(i*j for i,j in zip(row,col))  for col in zip(*mat2)]for row in mat1]\n",
    "            return res\n",
    "    except Exception as e:\n",
    "        print(\"Error --->\",e)\n",
    "    try:\n",
    "        def transpose(self,mat):\n",
    "            if len(mat)<=1:return \"Matrice must have more than one Elements\"\n",
    "            for i in range(len(mat)):\n",
    "                for j in range(i,len(mat)):\n",
    "                    mat[i][j],mat[j][i]=mat[j][i],mat[i][j]\n",
    "            return mat\n",
    "    except Exception as e:\n",
    "        print(\"Error --->\",e)\n",
    "        \n",
    "obj=Matrix()"
   ]
  },
  {
   "cell_type": "code",
   "execution_count": 40,
   "id": "98230d50",
   "metadata": {},
   "outputs": [
    {
     "name": "stdout",
     "output_type": "stream",
     "text": [
      "[[17, 15, 4], [10, 12, 9], [11, 13, 18]]\n"
     ]
    }
   ],
   "source": [
    "#1. Write a Python Program to Add Two Matrices?\n",
    "\n",
    "mat1=[[12,7,3],[4 ,5,6],[7 ,8,9]]\n",
    "mat2=[[5,8,1],[6,7,3],[4,5,9]]\n",
    "print(obj.addition(mat1,mat2))"
   ]
  },
  {
   "cell_type": "code",
   "execution_count": 41,
   "id": "7c14854f",
   "metadata": {},
   "outputs": [
    {
     "name": "stdout",
     "output_type": "stream",
     "text": [
      "[[114, 160, 60], [74, 97, 73], [119, 157, 112]]\n"
     ]
    }
   ],
   "source": [
    "#2. Write a Python Program to Multiply Two Matrices?\n",
    "\n",
    "print(obj.multi(mat1,mat2))"
   ]
  },
  {
   "cell_type": "code",
   "execution_count": 42,
   "id": "0afb6e1f",
   "metadata": {},
   "outputs": [
    {
     "name": "stdout",
     "output_type": "stream",
     "text": [
      "[[1, 2, 3], [1, 2, 3], [1, 2, 3]]\n"
     ]
    }
   ],
   "source": [
    "#3. Write a Python Program to Transpose a Matrix?\n",
    "\n",
    "arr=[[1,1,1], [2,2,2], [3,3,3]]\n",
    "print(obj.transpose(arr))"
   ]
  },
  {
   "cell_type": "code",
   "execution_count": 66,
   "id": "1237473b",
   "metadata": {},
   "outputs": [
    {
     "name": "stdout",
     "output_type": "stream",
     "text": [
      "assignment by ineuron is provided team the this "
     ]
    },
    {
     "data": {
      "text/plain": [
       "'Program Executed Successfully'"
      ]
     },
     "execution_count": 66,
     "metadata": {},
     "output_type": "execute_result"
    }
   ],
   "source": [
    "#4. Write a Python Program to Sort Words in Alphabetic Order?\n",
    "\n",
    "def sortwords(para):\n",
    "    try:\n",
    "        word=para.lower().split()\n",
    "        word.sort()\n",
    "        for i in word:\n",
    "            print(i,end=\" \")\n",
    "        return \"Program Executed Successfully\"\n",
    "    except Exception as e:\n",
    "        print(\"Error --->\",e)\n",
    "\n",
    "paragraph=\"This Assignment is Provided by the Ineuron Team\"\n",
    "sortwords(paragraph)"
   ]
  },
  {
   "cell_type": "code",
   "execution_count": 12,
   "id": "4fb740d7",
   "metadata": {},
   "outputs": [
    {
     "data": {
      "text/plain": [
       "'Hello This Assignment is Provided by the Ineuron Team'"
      ]
     },
     "execution_count": 12,
     "metadata": {},
     "output_type": "execute_result"
    }
   ],
   "source": [
    "#5. Write a Python Program to Remove Punctuation From a String?\n",
    "#punctuations = '''!()-[]{};:'\"\\,<>./?@#$%^&*_~'''\n",
    "def rempunc(para):\n",
    "    try:\n",
    "        punct='''!()-[]{};:'\"\\,<>./?@#$%^&*_~'''\n",
    "        res=\"\"\n",
    "        for i in para:\n",
    "            if i not in punct:res+=i\n",
    "        return res\n",
    "    except Exception as e:\n",
    "        print(\"Error --->\",e)\n",
    "\n",
    "paragraph='''\"\"Hello! This -Assignmen@t <i/s> Prov#ided *by the Ineu~ron Te'am\"\"'''\n",
    "rempunc(paragraph)"
   ]
  }
 ],
 "metadata": {
  "kernelspec": {
   "display_name": "Python 3 (ipykernel)",
   "language": "python",
   "name": "python3"
  },
  "language_info": {
   "codemirror_mode": {
    "name": "ipython",
    "version": 3
   },
   "file_extension": ".py",
   "mimetype": "text/x-python",
   "name": "python",
   "nbconvert_exporter": "python",
   "pygments_lexer": "ipython3",
   "version": "3.9.7"
  }
 },
 "nbformat": 4,
 "nbformat_minor": 5
}
