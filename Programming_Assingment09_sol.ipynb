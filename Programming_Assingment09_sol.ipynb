{
 "cells": [
  {
   "cell_type": "markdown",
   "id": "437155fc",
   "metadata": {},
   "source": [
    "# Programming_Assingment9_Solutions"
   ]
  },
  {
   "cell_type": "markdown",
   "id": "4632b945",
   "metadata": {},
   "source": [
    "    1. Write a Python program to check if the given number is a Disarium Number?\n",
    "    2. Write a Python program to print all disarium numbers between 1 to 100?\n",
    "    3. Write a Python program to check if the given number is Happy Number?\n",
    "    4. Write a Python program to print all happy numbers between 1 and 100?\n",
    "    5. Write a Python program to determine whether the given number is a Harshad Number?\n",
    "    6. Write a Python program to print all pronic numbers between 1 and 100?"
   ]
  },
  {
   "cell_type": "code",
   "execution_count": 172,
   "id": "a80cf96d",
   "metadata": {},
   "outputs": [],
   "source": [
    "class Assignment_9:\n",
    "    \n",
    "    def check_disa(self,x):\n",
    "        import math\n",
    "        try:\n",
    "            power,sums=len(str(x)),0\n",
    "            temp=x\n",
    "            while temp!=0:\n",
    "                n=temp%10\n",
    "                sums+=math.pow(n,power)\n",
    "                power-=1\n",
    "                temp//=10\n",
    "            if sums!=x:return False\n",
    "            return True\n",
    "        except Exception as e:\n",
    "            return(\"Error Type---> \",e)\n",
    "        \n",
    "    def print_disa(self):\n",
    "        try:\n",
    "            for i in range(2,100):\n",
    "                if self.check_disa(i):print(i,end=\" \")\n",
    "            return \"<--------Here is your all Disarium Number in between 1 to 100 \"\n",
    "        except Exception as e:\n",
    "            return(\"Error Type---> \",e)\n",
    "        \n",
    "    def square_sum(self,n):\n",
    "            square_sum = 0;\n",
    "            while(n):\n",
    "                square_sum += (n % 10) * (n % 10);\n",
    "                n = int(n / 10);\n",
    "            return square_sum;\n",
    "        \n",
    "    def check_happy(self,n):\n",
    "        try:\n",
    "            st=set()\n",
    "            while (1):\n",
    "                n = self.square_sum(n)\n",
    "                if (n == 1):return True\n",
    "                if n in st:return False\n",
    "                st.add(n)\n",
    "        except Exception as e:\n",
    "            return(\"Error Type---> \",e)\n",
    "      \n",
    "    def print_happy(self):\n",
    "        try:\n",
    "            for i in range(2,100):\n",
    "                if self.check_happy(i):print(i,end=\" \")\n",
    "            return \"<--------Here is your all Happy Number in between 1 to 100 \"\n",
    "        except Exception as e:\n",
    "            return(\"Error Type---> \",e)\n",
    "        \n",
    "    def check_harshad(self,n):\n",
    "        try:\n",
    "            count=len(str(n))\n",
    "            temp=n\n",
    "            sums=0\n",
    "            while count>0:\n",
    "                sums+=temp%10\n",
    "                temp//=10\n",
    "                count-=1\n",
    "            if n%sums!=0:return False\n",
    "            return True\n",
    "        except Exception as e:\n",
    "            return(\"Error Type---> \",e)  \n",
    "        \n",
    "        \n",
    "    def print_pronic(self):\n",
    "        try:\n",
    "            def check_harshad(x):\n",
    "                i=0\n",
    "                while i<=x:\n",
    "                    if x==i*(i+1):return True\n",
    "                    i+=1\n",
    "                return False\n",
    "                \n",
    "            for i in range(2,100):\n",
    "                if check_harshad(i):print(i,end=\" \")\n",
    "            return \"<--------Here is your all Pronic Numbers in between 1 to 100 \"\n",
    "        except Exception as e:\n",
    "            return(\"Error Type---> \",e)  \n",
    "        \n",
    "    def __str__(self):\n",
    "        return\"This Class Contains a  Methods or Functions for Assignments_9 Solutions\"\n",
    "        \n",
    "        \n",
    "obj=Assignment_9()       "
   ]
  },
  {
   "cell_type": "code",
   "execution_count": 173,
   "id": "93153cf0",
   "metadata": {},
   "outputs": [
    {
     "name": "stdout",
     "output_type": "stream",
     "text": [
      "True\n",
      "False\n",
      "('Error Type---> ', TypeError('not all arguments converted during string formatting'))\n"
     ]
    }
   ],
   "source": [
    "#1. Write a Python program to check if the given number is a Disarium Number?\n",
    "\n",
    "print(obj.check_disa(135))\n",
    "print(obj.check_disa(176))\n",
    "print(obj.check_disa('iNeuron'))"
   ]
  },
  {
   "cell_type": "code",
   "execution_count": 174,
   "id": "5a0eefd7",
   "metadata": {},
   "outputs": [
    {
     "name": "stdout",
     "output_type": "stream",
     "text": [
      "2 3 4 5 6 7 8 9 89 <--------Here is your all Disarium Number in between 1 to 100 \n"
     ]
    }
   ],
   "source": [
    "#2. Write a Python program to print all disarium numbers between 1 to 100?\n",
    "\n",
    "print(obj.print_disa())"
   ]
  },
  {
   "cell_type": "code",
   "execution_count": 175,
   "id": "2935e832",
   "metadata": {},
   "outputs": [
    {
     "name": "stdout",
     "output_type": "stream",
     "text": [
      "True\n",
      "False\n"
     ]
    }
   ],
   "source": [
    "#3. Write a Python program to check if the given number is Happy Number?\n",
    "\n",
    "print(obj.check_happy(19))\n",
    "print(obj.check_happy(20))"
   ]
  },
  {
   "cell_type": "code",
   "execution_count": 176,
   "id": "d74c1934",
   "metadata": {},
   "outputs": [
    {
     "name": "stdout",
     "output_type": "stream",
     "text": [
      "7 10 13 19 23 28 31 32 44 49 68 70 79 82 86 91 94 97 <--------Here is your all Happy Number in between 1 to 100 \n"
     ]
    }
   ],
   "source": [
    "#4. Write a Python program to print all happy numbers between 1 and 100?\n",
    "\n",
    "print(obj.print_happy())"
   ]
  },
  {
   "cell_type": "code",
   "execution_count": 177,
   "id": "51c509cf",
   "metadata": {},
   "outputs": [
    {
     "name": "stdout",
     "output_type": "stream",
     "text": [
      "True\n",
      "False\n"
     ]
    }
   ],
   "source": [
    "#5. Write a Python program to determine whether the given number is a Harshad Number?\n",
    "\n",
    "print(obj.check_harshad(171))\n",
    "print(obj.check_harshad(353))"
   ]
  },
  {
   "cell_type": "code",
   "execution_count": 178,
   "id": "585e47a8",
   "metadata": {},
   "outputs": [
    {
     "name": "stdout",
     "output_type": "stream",
     "text": [
      "2 6 12 20 30 42 56 72 90 <--------Here is your all Pronic Numbers in between 1 to 100 \n"
     ]
    }
   ],
   "source": [
    "#6. Write a Python program to print all pronic numbers between 1 and 100?\n",
    "\n",
    "print(obj.print_pronic())"
   ]
  },
  {
   "cell_type": "code",
   "execution_count": 179,
   "id": "2bf6a3c8",
   "metadata": {},
   "outputs": [
    {
     "name": "stdout",
     "output_type": "stream",
     "text": [
      "This Class Contains a  Methods or Functions for Assignments_9 Solutions\n"
     ]
    }
   ],
   "source": [
    "print(obj)"
   ]
  }
 ],
 "metadata": {
  "kernelspec": {
   "display_name": "Python 3 (ipykernel)",
   "language": "python",
   "name": "python3"
  },
  "language_info": {
   "codemirror_mode": {
    "name": "ipython",
    "version": 3
   },
   "file_extension": ".py",
   "mimetype": "text/x-python",
   "name": "python",
   "nbconvert_exporter": "python",
   "pygments_lexer": "ipython3",
   "version": "3.9.7"
  }
 },
 "nbformat": 4,
 "nbformat_minor": 5
}
