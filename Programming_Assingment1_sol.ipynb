{
 "cells": [
  {
   "cell_type": "markdown",
   "id": "b6cd4883",
   "metadata": {},
   "source": [
    "# Programming_Assingment1_Solutions\n"
   ]
  },
  {
   "cell_type": "markdown",
   "id": "39c922e8",
   "metadata": {},
   "source": [
    "1.Write a Python program to print \"Hello Python\"?"
   ]
  },
  {
   "cell_type": "code",
   "execution_count": null,
   "id": "23e0c428",
   "metadata": {},
   "outputs": [],
   "source": [
    "print(\"Hello Python\")"
   ]
  },
  {
   "cell_type": "markdown",
   "id": "35631d35",
   "metadata": {},
   "source": [
    "2.Write a Python program to do arithmetical operations addition and division.?"
   ]
  },
  {
   "cell_type": "code",
   "execution_count": null,
   "id": "b620cac8",
   "metadata": {},
   "outputs": [],
   "source": [
    "a=int(input())\n",
    "b=int(input())\n",
    "addi=a+b\n",
    "divi=a/b\n",
    "print(\" Addition=\",addi,\"Division=\",divi)"
   ]
  },
  {
   "cell_type": "markdown",
   "id": "94f62185",
   "metadata": {},
   "source": [
    "3.Write a Python program to find the area of a triangle?"
   ]
  },
  {
   "cell_type": "code",
   "execution_count": null,
   "id": "5986b9d2",
   "metadata": {},
   "outputs": [],
   "source": [
    "base=float(input())\n",
    "height=float(input())\n",
    "area=(height*base)/2\n",
    "print(\"Area of Triangle = \",area)"
   ]
  },
  {
   "cell_type": "markdown",
   "id": "c99e1fb4",
   "metadata": {},
   "source": [
    "4.Write a Python program to swap two variables?"
   ]
  },
  {
   "cell_type": "code",
   "execution_count": null,
   "id": "43a5b0d0",
   "metadata": {},
   "outputs": [],
   "source": [
    "a=int(input())\n",
    "b=int(input())\n",
    "print(\"Before Swapping =\",a,b)\n",
    "temp=a\n",
    "a=b\n",
    "b=temp\n",
    "print(\"After Swapping =\",a,b)"
   ]
  },
  {
   "cell_type": "code",
   "execution_count": null,
   "id": "5581cf24",
   "metadata": {},
   "outputs": [],
   "source": [
    "a=int(input())\n",
    "b=int(input())\n",
    "print(\"Before Swapping =\",a,b)\n",
    "a,b=b,a\n",
    "print(\"After Swapping =\",a,b)"
   ]
  },
  {
   "cell_type": "markdown",
   "id": "2efb67dd",
   "metadata": {},
   "source": [
    "5.Write a Python program to generate a random number?"
   ]
  },
  {
   "cell_type": "code",
   "execution_count": null,
   "id": "d3f7afea",
   "metadata": {},
   "outputs": [],
   "source": [
    "import random\n",
    "print(\"Random Number = \",random.random())"
   ]
  }
 ],
 "metadata": {
  "kernelspec": {
   "display_name": "Python 3 (ipykernel)",
   "language": "python",
   "name": "python3"
  },
  "language_info": {
   "codemirror_mode": {
    "name": "ipython",
    "version": 3
   },
   "file_extension": ".py",
   "mimetype": "text/x-python",
   "name": "python",
   "nbconvert_exporter": "python",
   "pygments_lexer": "ipython3",
   "version": "3.9.7"
  }
 },
 "nbformat": 4,
 "nbformat_minor": 5
}
