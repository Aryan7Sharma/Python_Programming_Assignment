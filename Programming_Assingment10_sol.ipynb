{
 "cells": [
  {
   "cell_type": "markdown",
   "id": "aae895fb",
   "metadata": {},
   "source": [
    "# Programming_Assingment10_Solutions"
   ]
  },
  {
   "cell_type": "markdown",
   "id": "e14a730d",
   "metadata": {},
   "source": [
    "    1. Write a Python program to find sum of elements in list?\n",
    "    2. Write a Python program to  Multiply all numbers in the list?\n",
    "    3. Write a Python program to find smallest number in a list?\n",
    "    4. Write a Python program to find largest number in a list?\n",
    "    5. Write a Python program to find second largest number in a list?\n",
    "    6. Write a Python program to find N largest elements from a list?\n",
    "    7. Write a Python program to print even numbers in a list?\n",
    "    8. Write a Python program to print odd numbers in a List?\n",
    "    9. Write a Python program to Remove empty List from List?\n",
    "    10. Write a Python program to Cloning or Copying a list?\n",
    "    11. Write a Python program to Count occurrences of an element in a list?"
   ]
  },
  {
   "cell_type": "code",
   "execution_count": 230,
   "id": "8b24c31f",
   "metadata": {},
   "outputs": [],
   "source": [
    "class Assingment10:\n",
    "    def find_sum(self,arr):\n",
    "        try:\n",
    "            if len(arr)==0:return\"List is Empty\"\n",
    "            res=0\n",
    "            for i in range(len(arr)):res+=arr[i]\n",
    "            return res\n",
    "        except Exception as e:\n",
    "            return(\"Error Type---> \",e)\n",
    "                \n",
    "    def multiply(self,arr):\n",
    "        try:\n",
    "            if len(arr)==0:return\"List is Empty\"\n",
    "            res=arr[0]\n",
    "            for i in range(1,len(arr)):res*=arr[i]\n",
    "            return res\n",
    "        except Exception as e:\n",
    "            return(\"Error Type---> \",e)\n",
    "        \n",
    "    def smallest_num(self,arr):\n",
    "        try:\n",
    "            if len(arr)==0:return\"List is Empty\"\n",
    "            mini=arr[0]\n",
    "            for i in arr:\n",
    "                if i<mini:mini=i\n",
    "            return mini\n",
    "        except Exception as e:\n",
    "            return(\"Error Type---> \",e)\n",
    "        \n",
    "    def largest_numb(self,arr):\n",
    "        try:\n",
    "            if len(arr)==0:return\"List is Empty\"\n",
    "            maxi=arr[0]\n",
    "            for i in arr:\n",
    "                if i>maxi:maxi=i\n",
    "            return maxi\n",
    "        except Exception as e:\n",
    "            return(\"Error Type---> \",e)\n",
    "        \n",
    "    def secondlargest_num(self,arr):\n",
    "        try:\n",
    "            if len(arr)==0:return\"List is Empty\"\n",
    "            maxi=self.largest_numb(arr)\n",
    "            s_maxi=arr[0]\n",
    "            for i in arr:\n",
    "                if i<maxi and i>s_maxi:s_maxi=i\n",
    "            return s_maxi\n",
    "        except Exception as e:\n",
    "            return(\"Error Type---> \",e)\n",
    "        \n",
    "    def nlargest_ele(self,arr,n):\n",
    "        try:\n",
    "            if len(arr)==0:return\"List is Empty\"\n",
    "            res=[]\n",
    "            for i in range(n):\n",
    "                maxi=self.largest_numb(arr)\n",
    "                arr.remove(maxi)\n",
    "                res.append(maxi)\n",
    "            return res\n",
    "        except Exception as e:\n",
    "            return(\"Error Type---> \",e)\n",
    "        \n",
    "    def alleven_num(self,arr):\n",
    "        try:\n",
    "            for i in range(len(arr)):\n",
    "                if arr[i]%2==0:print(arr[i],end=\" \")\n",
    "            return \"\"\n",
    "        except Exception as e:\n",
    "            return(\"Error Type---> \",e)\n",
    "        \n",
    "    def allodd_num(self,arr):\n",
    "        try:\n",
    "            for i in range(len(arr)):\n",
    "                if arr[i]%2!=0:print(arr[i],end=\" \")\n",
    "            return \"\"\n",
    "        except Exception as e:\n",
    "            return(\"Error Type---> \",e)\n",
    "        \n",
    "    def Remove_empty_list(self,arr):\n",
    "        try:\n",
    "            res=list(filter(None,arr))\n",
    "            return \"New List after empty list removal {0}\".format(res)\n",
    "        except Exception as e:\n",
    "            return(\"Error Type---> \",e)\n",
    "        \n",
    "    def Copying_alist(self,arr):\n",
    "        import copy\n",
    "        try:\n",
    "            res=copy.deepcopy(arr)\n",
    "            return \"Clone of Original List -- {0}\".format(res)\n",
    "        except Exception as e:\n",
    "            return(\"Error Type---> \",e)\n",
    "        \n",
    "    def Count_occurrences(self,arr):\n",
    "        try:\n",
    "            hashmap={}\n",
    "            for i in arr:\n",
    "                if i not in hashmap:hashmap[i]=1\n",
    "                else:hashmap[i]+=1\n",
    "            for key,value in hashmap.items():print(\"{0} occurrences = {1} times\".format(key,value))\n",
    "            return \"\"\n",
    "        except Exception as e:\n",
    "            return(\"Error Type---> \",e)\n",
    "        \n",
    "    def __str__(self):\n",
    "        return\"This Class Contains a  Methods or Functions for Assignments_10 Solutions\"  \n",
    "        \n",
    "obj=Assingment10()"
   ]
  },
  {
   "cell_type": "code",
   "execution_count": 231,
   "id": "70da7444",
   "metadata": {},
   "outputs": [
    {
     "name": "stdout",
     "output_type": "stream",
     "text": [
      "55\n"
     ]
    }
   ],
   "source": [
    "#1. Write a Python program to find sum of elements in list?\n",
    "\n",
    "array=[1,2,3,4,5,6,7,8,9,10]\n",
    "print(obj.find_sum(array))"
   ]
  },
  {
   "cell_type": "code",
   "execution_count": 232,
   "id": "b81e3519",
   "metadata": {},
   "outputs": [
    {
     "name": "stdout",
     "output_type": "stream",
     "text": [
      "3628800\n"
     ]
    }
   ],
   "source": [
    "#2. Write a Python program to  Multiply all numbers in the list?\n",
    "\n",
    "array=[1,2,3,4,5,6,7,8,9,10]\n",
    "print(obj.multiply(array))"
   ]
  },
  {
   "cell_type": "code",
   "execution_count": 233,
   "id": "0603089d",
   "metadata": {},
   "outputs": [
    {
     "name": "stdout",
     "output_type": "stream",
     "text": [
      "12\n"
     ]
    }
   ],
   "source": [
    "#3. Write a Python program to find smallest number in a list?\n",
    "\n",
    "array=[100,20,35,12,57,61,73,83,19,50]\n",
    "print(obj.smallest_num(array))"
   ]
  },
  {
   "cell_type": "code",
   "execution_count": 234,
   "id": "f6224759",
   "metadata": {},
   "outputs": [
    {
     "name": "stdout",
     "output_type": "stream",
     "text": [
      "120\n"
     ]
    }
   ],
   "source": [
    "#4. Write a Python program to find largest number in a list?\n",
    "\n",
    "array=[100,20,35,120,57,61,73,83,19,50]\n",
    "print(obj.largest_numb(array))"
   ]
  },
  {
   "cell_type": "code",
   "execution_count": 235,
   "id": "44991b02",
   "metadata": {},
   "outputs": [
    {
     "name": "stdout",
     "output_type": "stream",
     "text": [
      "100\n"
     ]
    }
   ],
   "source": [
    "#5. Write a Python program to find second largest number in a list?\n",
    "\n",
    "array=[100,20,35,120,57,61,73,83,19,50]\n",
    "print(obj.secondlargest_num(array))"
   ]
  },
  {
   "cell_type": "code",
   "execution_count": 236,
   "id": "66f95181",
   "metadata": {},
   "outputs": [
    {
     "name": "stdout",
     "output_type": "stream",
     "text": [
      "[120, 100, 83, 73]\n"
     ]
    }
   ],
   "source": [
    "#6. Write a Python program to find N largest elements from a list?\n",
    "\n",
    "array=[100,20,35,120,57,61,73,83,19,50]\n",
    "n=4\n",
    "print(obj.nlargest_ele(array,n))"
   ]
  },
  {
   "cell_type": "code",
   "execution_count": 237,
   "id": "d1ee730f",
   "metadata": {},
   "outputs": [
    {
     "name": "stdout",
     "output_type": "stream",
     "text": [
      "100 20 120 50 \n"
     ]
    }
   ],
   "source": [
    "#7. Write a Python program to print even numbers in a list?\n",
    "\n",
    "array=[100,20,35,120,57,61,73,83,19,50]\n",
    "print(obj.alleven_num(array))"
   ]
  },
  {
   "cell_type": "code",
   "execution_count": 238,
   "id": "f8406d86",
   "metadata": {},
   "outputs": [
    {
     "name": "stdout",
     "output_type": "stream",
     "text": [
      "35 57 61 73 83 19 \n"
     ]
    }
   ],
   "source": [
    "#8. Write a Python program to print odd numbers in a List?\n",
    "\n",
    "array=[100,20,35,120,57,61,73,83,19,50]\n",
    "print(obj.allodd_num(array))"
   ]
  },
  {
   "cell_type": "code",
   "execution_count": 239,
   "id": "544ecf35",
   "metadata": {},
   "outputs": [
    {
     "name": "stdout",
     "output_type": "stream",
     "text": [
      "New List after empty list removal [100, 35, 57, 73, 83, 50]\n"
     ]
    }
   ],
   "source": [
    "#9. Write a Python program to Remove empty List from List?\n",
    "\n",
    "array=[100,[],35,[],57,[],73,83,[],50]\n",
    "print(obj.Remove_empty_list(array))"
   ]
  },
  {
   "cell_type": "code",
   "execution_count": 240,
   "id": "8c72a077",
   "metadata": {},
   "outputs": [
    {
     "name": "stdout",
     "output_type": "stream",
     "text": [
      "Clone of Original List -- [100, [], 35, [], 57, [], 73, 83, [], 50]\n"
     ]
    }
   ],
   "source": [
    "#10. Write a Python program to Cloning or Copying a list?\n",
    "\n",
    "array=[100,[],35,[],57,[],73,83,[],50]\n",
    "print(obj.Copying_alist(array))"
   ]
  },
  {
   "cell_type": "code",
   "execution_count": 241,
   "id": "bd780090",
   "metadata": {},
   "outputs": [
    {
     "name": "stdout",
     "output_type": "stream",
     "text": [
      "0 occurrences = 2\n",
      "1 occurrences = 3\n",
      "2 occurrences = 2\n",
      "3 occurrences = 4\n",
      "4 occurrences = 3\n",
      "5 occurrences = 5\n",
      "6 occurrences = 4\n",
      "8 occurrences = 3\n",
      "9 occurrences = 1\n",
      "7 occurrences = 1\n",
      "\n"
     ]
    }
   ],
   "source": [
    "#11. Write a Python program to Count occurrences of an element in a list?\n",
    "\n",
    "array=[0,1,1,1,2,3,4,5,6,4,3,5,6,8,9,3,5,2,6,8,3,5,4,8,0,7,6,5,]\n",
    "print(obj.Count_occurrences(array))"
   ]
  },
  {
   "cell_type": "code",
   "execution_count": 242,
   "id": "5515381c",
   "metadata": {},
   "outputs": [
    {
     "name": "stdout",
     "output_type": "stream",
     "text": [
      "This Class Contains a  Methods or Functions for Assignments_10 Solutions\n"
     ]
    }
   ],
   "source": [
    "print(obj)"
   ]
  },
  {
   "cell_type": "code",
   "execution_count": null,
   "id": "19af600a",
   "metadata": {},
   "outputs": [],
   "source": []
  }
 ],
 "metadata": {
  "kernelspec": {
   "display_name": "Python 3 (ipykernel)",
   "language": "python",
   "name": "python3"
  },
  "language_info": {
   "codemirror_mode": {
    "name": "ipython",
    "version": 3
   },
   "file_extension": ".py",
   "mimetype": "text/x-python",
   "name": "python",
   "nbconvert_exporter": "python",
   "pygments_lexer": "ipython3",
   "version": "3.9.7"
  }
 },
 "nbformat": 4,
 "nbformat_minor": 5
}
