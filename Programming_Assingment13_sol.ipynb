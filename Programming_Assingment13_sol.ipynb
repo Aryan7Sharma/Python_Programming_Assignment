{
 "cells": [
  {
   "cell_type": "markdown",
   "id": "29478076",
   "metadata": {},
   "source": [
    "# Programming_Assingment13_Solutions"
   ]
  },
  {
   "cell_type": "markdown",
   "id": "e4e2664f",
   "metadata": {},
   "source": [
    "    \n",
    "    Question 1:\n",
    "\n",
    "\n",
    "    Write a program that calculates and prints the value according to the given formula:\n",
    "\n",
    "\n",
    "    Q = Square root of [(2 * C * D)/H]\n",
    "\n",
    "\n",
    "    Following are the fixed values of C and H:\n",
    "\n",
    "\n",
    "    C is 50. H is 30.\n",
    "\n",
    "\n",
    "    D is the variable whose values should be input to your program in a comma-separated sequence.\n",
    "\n",
    "\n",
    "    Example\n",
    "\n",
    "\n",
    "    Let us assume the following comma separated input sequence is given to the program:\n",
    "\n",
    "\n",
    "    100,150,180\n",
    "\n",
    "\n",
    "    The output of the program should be:\n",
    "\n",
    "    18,22,24\n",
    "\n",
    "    Question 2:\n",
    "\n",
    "    Write a program which takes 2 digits, X,Y as input and generates a 2-dimensional array. The element value in the i-th row and j-th column of the array should be i*j.\n",
    "\n",
    "\n",
    "    Note: i=0,1.., X-1; j=0,1,¡­Y-1.\n",
    "\n",
    "\n",
    "    Example\n",
    "\n",
    "\n",
    "    Suppose the following inputs are given to the program:\n",
    "\n",
    "\n",
    "    3,5\n",
    "\n",
    "\n",
    "    Then, the output of the program should be:\n",
    "\n",
    "\n",
    "    [[0, 0, 0, 0, 0], [0, 1, 2, 3, 4], [0, 2, 4, 6, 8]] \n",
    "\n",
    "\n",
    "    Question 3:\n",
    "    Write a program that accepts a comma separated sequence of words as input and prints the words in a comma-separated sequence after sorting them alphabetically.\n",
    "\n",
    "\n",
    "    Suppose the following input is supplied to the program:\n",
    "\n",
    "\n",
    "    without,hello,bag,world\n",
    "\n",
    "\n",
    "    Then, the output should be:\n",
    "\n",
    "    bag,hello,without,world\n",
    "\n",
    "\n",
    "\n",
    "    Question 4:\n",
    "    Write a program that accepts a sequence of whitespace separated words as input and prints the words after removing all duplicate words and sorting them alphanumerically.\n",
    "\n",
    "\n",
    "    Suppose the following input is supplied to the program:\n",
    "\n",
    "\n",
    "    hello world and practice makes perfect and hello world again\n",
    "\n",
    "\n",
    "    Then, the output should be:\n",
    "\n",
    "    again and hello makes perfect practice world\n",
    "\n",
    "    Question 5:\n",
    "    Write a program that accepts a sentence and calculate the number of letters and digits.\n",
    "\n",
    "\n",
    "    Suppose the following input is supplied to the program:\n",
    "\n",
    "\n",
    "    hello world! 123\n",
    "\n",
    "\n",
    "    Then, the output should be:\n",
    "\n",
    "\n",
    "    LETTERS 10\n",
    "\n",
    "    DIGITS 3\n",
    "\n",
    "    Question 6:\n",
    "    A website requires the users to input username and password to register. Write a program to check the validity of password input by users.\n",
    "\n",
    "\n",
    "    Following are the criteria for checking the password:\n",
    "\n",
    "\n",
    "    1. At least 1 letter between [a-z]\n",
    "\n",
    "\n",
    "    2. At least 1 number between [0-9]\n",
    "\n",
    "\n",
    "    1. At least 1 letter between [A-Z]\n",
    "\n",
    "\n",
    "    3. At least 1 character from [$#@] \n",
    "    \n",
    "    4. Minimum length of transaction password: 6\n",
    "\n",
    "\n",
    "    5. Maximum length of transaction password: 12\n",
    "\n",
    "\n",
    "        Your program should accept a sequence of comma separated passwords and will check them according to the above criteria. Passwords that match the criteria are to be printed, each separated by a comma.\n",
    "\n",
    "\n",
    "Example\n",
    "\n",
    "\n",
    "If the following passwords are given as input to the program:\n",
    "\n",
    "\n",
    "ABd1234@1,a F1#,2w3E*,2We3345\n",
    "\n",
    "\n",
    "Then, the output of the program should be:\n",
    "\n",
    "ABd1234@1"
   ]
  },
  {
   "cell_type": "code",
   "execution_count": 144,
   "id": "8ea3c70b",
   "metadata": {},
   "outputs": [],
   "source": [
    "class Assingment13:\n",
    "    \n",
    "    def sol1(self,x):\n",
    "        import math\n",
    "        try:\n",
    "            C,H=50,30\n",
    "            for i in range(len(x)):\n",
    "                x[i]=math.sqrt(2*C*x[i]/H)\n",
    "                print(int(x[i]),end=',')\n",
    "        except Exception as e:\n",
    "            return(\"Error Type---> \",e)\n",
    "        \n",
    "    def sol2(self,x,y):\n",
    "        try:\n",
    "            res=[[i*j for i in range(int(y))]for j in range(int(x))]\n",
    "            return res\n",
    "        except Exception as e:\n",
    "            return(\"Error Type---> \",e)\n",
    "        \n",
    "    def sol3(self,string):\n",
    "        try:\n",
    "            string.sort()\n",
    "            return','.join(string)\n",
    "        except Exception as e:\n",
    "            return(\"Error Type---> \",e)\n",
    "        \n",
    "    def sol4(self,string):\n",
    "        try:\n",
    "            string=sorted(set(string))\n",
    "            res=' '.join(string)\n",
    "            print(res)\n",
    "        except Exception as e:\n",
    "            return(\"Error Type---> \",e)\n",
    "        \n",
    "    def sol5(self,string):\n",
    "        try:\n",
    "            l,d=0,0\n",
    "            for i in string:\n",
    "                if i.isalpha():l+=1\n",
    "                elif i.isdigit():d+=1\n",
    "                else:pass\n",
    "            print(\"LETTERS  {0}\".format(l))\n",
    "            print(\"DIGITS  {0}\".format(d))\n",
    "        except Exception as e:\n",
    "            return(\"Error Type---> \",e)\n",
    "    \n",
    "    def sol6(self,string):\n",
    "        import re\n",
    "        try:\n",
    "            for i in string:\n",
    "                if len(i)<6 or len(i)>12:continue\n",
    "                elif not re.search(\"[a-z]\",i):continue\n",
    "                elif not re.search(\"[A-z]\",i):continue\n",
    "                elif not re.search(\"[$#@]\",i):continue\n",
    "                else:\n",
    "                    print(i)\n",
    "                    break\n",
    "        except Exception as e:\n",
    "            return(\"Error Type---> \",e)\n",
    "\n",
    "    def __str__(self):\n",
    "        return\"This Class Contains a  Methods or Functions for Assignments_13 Solutions\"  \n",
    "\n",
    "obj=Assingment13()"
   ]
  },
  {
   "cell_type": "code",
   "execution_count": 16,
   "id": "24b1b8a8",
   "metadata": {},
   "outputs": [
    {
     "name": "stdout",
     "output_type": "stream",
     "text": [
      "100,150,180\n",
      "18,22,24,"
     ]
    }
   ],
   "source": [
    "#1.\n",
    "x=list(map(int,input().split(',')))\n",
    "obj.sol1(x)"
   ]
  },
  {
   "cell_type": "code",
   "execution_count": 26,
   "id": "b013c4a3",
   "metadata": {},
   "outputs": [
    {
     "name": "stdout",
     "output_type": "stream",
     "text": [
      "3,5\n",
      "3 5\n"
     ]
    },
    {
     "data": {
      "text/plain": [
       "[[0, 0, 0, 0, 0], [0, 1, 2, 3, 4], [0, 2, 4, 6, 8]]"
      ]
     },
     "execution_count": 26,
     "metadata": {},
     "output_type": "execute_result"
    }
   ],
   "source": [
    "#2.\n",
    "x,y=input().split(',')\n",
    "obj.sol2(x,y)"
   ]
  },
  {
   "cell_type": "code",
   "execution_count": 46,
   "id": "05cbaa2b",
   "metadata": {},
   "outputs": [
    {
     "name": "stdout",
     "output_type": "stream",
     "text": [
      "without,hello,bag,world\n"
     ]
    },
    {
     "data": {
      "text/plain": [
       "'bag,hello,without,world'"
      ]
     },
     "execution_count": 46,
     "metadata": {},
     "output_type": "execute_result"
    }
   ],
   "source": [
    "#3.\n",
    "inputs=input().split(',')\n",
    "obj.sol3(inputs)"
   ]
  },
  {
   "cell_type": "code",
   "execution_count": 97,
   "id": "a9594997",
   "metadata": {},
   "outputs": [
    {
     "name": "stdout",
     "output_type": "stream",
     "text": [
      "hello world and practice makes perfect and hello world again\n",
      "again and hello makes perfect practice world\n"
     ]
    }
   ],
   "source": [
    "#4.\n",
    "inputs=input().split()\n",
    "obj.sol4(inputs)"
   ]
  },
  {
   "cell_type": "code",
   "execution_count": 136,
   "id": "fe1ab301",
   "metadata": {},
   "outputs": [
    {
     "name": "stdout",
     "output_type": "stream",
     "text": [
      "hello world! 123\n",
      "LETTERS  10\n",
      "DIGITS  3\n"
     ]
    }
   ],
   "source": [
    "#5.\n",
    "sen=input()\n",
    "obj.sol5(sen)"
   ]
  },
  {
   "cell_type": "code",
   "execution_count": 148,
   "id": "77ee7d9c",
   "metadata": {},
   "outputs": [
    {
     "name": "stdout",
     "output_type": "stream",
     "text": [
      "a F1#,2w3E*,2We3345,ABd1234@1\n",
      "ABd1234@1\n"
     ]
    }
   ],
   "source": [
    "#6.\n",
    "password=input().split(',')\n",
    "obj.sol6(password)"
   ]
  }
 ],
 "metadata": {
  "kernelspec": {
   "display_name": "Python 3 (ipykernel)",
   "language": "python",
   "name": "python3"
  },
  "language_info": {
   "codemirror_mode": {
    "name": "ipython",
    "version": 3
   },
   "file_extension": ".py",
   "mimetype": "text/x-python",
   "name": "python",
   "nbconvert_exporter": "python",
   "pygments_lexer": "ipython3",
   "version": "3.9.7"
  }
 },
 "nbformat": 4,
 "nbformat_minor": 5
}
