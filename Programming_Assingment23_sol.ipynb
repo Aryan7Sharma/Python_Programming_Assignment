{
 "cells": [
  {
   "cell_type": "markdown",
   "id": "8f844431",
   "metadata": {},
   "source": [
    "# Programming_Assingment23_Solutions"
   ]
  },
  {
   "cell_type": "raw",
   "id": "c205df54",
   "metadata": {},
   "source": [
    "Question 1\n",
    "Create a function that takes a number as an argument and returns True or False depending on whether the number is symmetrical or not. A number is symmetrical when it is the same as its reverse.\n",
    "Examples\n",
    "is_symmetrical(7227) ➞ True\n",
    "\n",
    "is_symmetrical(12567) ➞ False\n",
    "\n",
    "is_symmetrical(44444444) ➞ True\n",
    "\n",
    "is_symmetrical(9939) ➞ False\n",
    "\n",
    "is_symmetrical(1112111) ➞ True\n",
    "\n",
    "\n",
    "\n",
    "\n",
    "\n",
    "Question 2\n",
    "Given a string of numbers separated by a comma and space, return the product of the numbers.\n",
    "Examples\n",
    "multiply_nums(\"2, 3\") ➞ 6\n",
    "\n",
    "multiply_nums(\"1, 2, 3, 4\") ➞ 24\n",
    "\n",
    "multiply_nums(\"54, 75, 453, 0\") ➞ 0\n",
    "\n",
    "multiply_nums(\"10, -2\") ➞ -20\n",
    "\n",
    "\n",
    "\n",
    "\n",
    "\n",
    "\n",
    "Question 3\n",
    "Create a function that squares every digit of a number.\n",
    "Examples\n",
    "square_digits(9119) ➞ 811181\n",
    "\n",
    "square_digits(2483) ➞ 416649\n",
    "\n",
    "square_digits(3212) ➞ 9414\n",
    "Notes\n",
    "The function receives an integer and must return an integer.\n",
    "\n",
    "\n",
    "\n",
    "\n",
    "\n",
    "\n",
    "Question 4\n",
    "Create a function that sorts a list and removes all duplicate items from it.\n",
    "Examples\n",
    "setify([1, 3, 3, 5, 5]) ➞ [1, 3, 5]\n",
    "\n",
    "setify([4, 4, 4, 4]) ➞ [4]\n",
    "\n",
    "setify([5, 7, 8, 9, 10, 15]) ➞ [5, 7, 8, 9, 10, 15]\n",
    "\n",
    "setify([3, 3, 3, 2, 1]) ➞ [1, 2, 3]\n",
    "\n",
    "\n",
    "\n",
    "\n",
    "\n",
    "\n",
    "Question 5\n",
    "Create a function that returns the mean of all digits.\n",
    "Examples\n",
    "mean(42) ➞ 3\n",
    "\n",
    "mean(12345) ➞ 3\n",
    "\n",
    "mean(666) ➞ 6\n",
    "Notes\n",
    "    • The mean of all digits is the sum of digits / how many digits there are (e.g. mean of digits in 512 is (5+1+2)/3(number of digits) = 8/3=2).\n",
    "    • The mean will always be an integer.\n"
   ]
  },
  {
   "cell_type": "code",
   "execution_count": 55,
   "id": "691d5764",
   "metadata": {},
   "outputs": [],
   "source": [
    "class Assingment23:\n",
    "    import logging as lg\n",
    "    lg.basicConfig(filename=\"Ass23_info\",format='%(name)s - %(levelname)s - %(message)s',filemode='w')\n",
    "    log=lg.getLogger()\n",
    "    log.setLevel(lg.ERROR)\n",
    "    \n",
    "    \n",
    "    def is_symmetrical(self,num):\n",
    "        try:\n",
    "            rev=0\n",
    "            temp=num\n",
    "            while temp:\n",
    "                rev=10*rev + temp%10\n",
    "                temp//=10\n",
    "            if num!=rev:return False\n",
    "            return True\n",
    "        except Exception as e:\n",
    "            self.log.error(e)\n",
    "            return(\"Error Type---> \",e)\n",
    "        \n",
    "        \n",
    "    def multiply_nums(self,string):\n",
    "        try:\n",
    "            s=string.split(\", \")\n",
    "            mul=1\n",
    "            for i in s:\n",
    "                mul*=int(i)\n",
    "            return mul\n",
    "        except Exception as e:\n",
    "            self.log.error(e)\n",
    "            return(\"Error Type---> \",e)\n",
    "        \n",
    "        \n",
    "    def square_digits(self,digit):\n",
    "        try:\n",
    "            res=\"\"\n",
    "            for i in str(digit):\n",
    "                res+=str(int(i)**2)\n",
    "            return int(res)\n",
    "        except Exception as e:\n",
    "            self.log.error(e)\n",
    "            return(\"Error Type---> \",e)\n",
    "        \n",
    "        \n",
    "    def setify(self,arr):\n",
    "        try:\n",
    "            arr=set(arr)\n",
    "            return list(arr)\n",
    "        except Exception as e:\n",
    "            self.log.error(e)\n",
    "            return(\"Error Type---> \",e)\n",
    "        \n",
    "        \n",
    "    def mean(self,num):\n",
    "        try:\n",
    "            res=0\n",
    "            count=0\n",
    "            while num:\n",
    "                res+=num%10\n",
    "                num//=10\n",
    "                count+=1\n",
    "            res=res//count\n",
    "            return res\n",
    "        except Exception as e:\n",
    "            self.log.error(e)\n",
    "            return(\"Error Type---> \",e)\n",
    "\n",
    "\n",
    "    def __str__(self):\n",
    "        return\"This Class Contains a  Methods or Functions for Assignments_23 Solutions\"  \n",
    "    \n",
    "\n",
    "obj=Assingment23()"
   ]
  },
  {
   "cell_type": "code",
   "execution_count": 35,
   "id": "b8edf260",
   "metadata": {},
   "outputs": [
    {
     "name": "stdout",
     "output_type": "stream",
     "text": [
      "True\n",
      "False\n",
      "True\n",
      "False\n",
      "True\n"
     ]
    }
   ],
   "source": [
    "#1\n",
    "print(obj.is_symmetrical(7227))\n",
    "print(obj.is_symmetrical(12567))\n",
    "print(obj.is_symmetrical(44444444))\n",
    "print(obj.is_symmetrical(9939))\n",
    "print(obj.is_symmetrical(1112111))"
   ]
  },
  {
   "cell_type": "code",
   "execution_count": 36,
   "id": "b18c58c0",
   "metadata": {},
   "outputs": [
    {
     "name": "stdout",
     "output_type": "stream",
     "text": [
      "6\n",
      "24\n",
      "0\n",
      "-20\n"
     ]
    }
   ],
   "source": [
    "#2\n",
    "print(obj.multiply_nums(\"2, 3\"))\n",
    "print(obj.multiply_nums(\"1, 2, 3, 4\"))\n",
    "print(obj.multiply_nums(\"54, 75, 453, 0\"))\n",
    "print(obj.multiply_nums(\"10, -2\"))"
   ]
  },
  {
   "cell_type": "code",
   "execution_count": 43,
   "id": "50b2fc33",
   "metadata": {},
   "outputs": [
    {
     "name": "stdout",
     "output_type": "stream",
     "text": [
      "811181\n",
      "416649\n",
      "9414\n"
     ]
    }
   ],
   "source": [
    "#3\n",
    "print(obj.square_digits(9119))\n",
    "print(obj.square_digits(2483))\n",
    "print(obj.square_digits(3212))"
   ]
  },
  {
   "cell_type": "code",
   "execution_count": 47,
   "id": "cea3f7ec",
   "metadata": {},
   "outputs": [
    {
     "name": "stdout",
     "output_type": "stream",
     "text": [
      "[1, 3, 5]\n",
      "[4]\n",
      "[5, 7, 8, 9, 10, 15]\n",
      "[1, 2, 3]\n"
     ]
    }
   ],
   "source": [
    "#4\n",
    "print(obj.setify([1, 3, 3, 5, 5]))\n",
    "print(obj.setify([4, 4, 4, 4]))\n",
    "print(obj.setify([5, 7, 8, 9, 10, 15]))\n",
    "print(obj.setify([3, 3, 3, 2, 1]))"
   ]
  },
  {
   "cell_type": "code",
   "execution_count": 56,
   "id": "326c683c",
   "metadata": {},
   "outputs": [
    {
     "name": "stdout",
     "output_type": "stream",
     "text": [
      "3\n",
      "3\n",
      "6\n"
     ]
    }
   ],
   "source": [
    "#5\n",
    "print(obj.mean(42))\n",
    "print(obj.mean(12345))\n",
    "print(obj.mean(666))"
   ]
  }
 ],
 "metadata": {
  "kernelspec": {
   "display_name": "Python 3 (ipykernel)",
   "language": "python",
   "name": "python3"
  },
  "language_info": {
   "codemirror_mode": {
    "name": "ipython",
    "version": 3
   },
   "file_extension": ".py",
   "mimetype": "text/x-python",
   "name": "python",
   "nbconvert_exporter": "python",
   "pygments_lexer": "ipython3",
   "version": "3.9.7"
  }
 },
 "nbformat": 4,
 "nbformat_minor": 5
}
