{
 "cells": [
  {
   "cell_type": "markdown",
   "id": "f5a2e993",
   "metadata": {},
   "source": [
    "# Programming_Assingment17_Solutions"
   ]
  },
  {
   "cell_type": "raw",
   "id": "ea05ad30",
   "metadata": {},
   "source": [
    "Question1. Create a function that takes three arguments a, b, c and returns the sum of the numbers that are evenly divided by c from the range a, b inclusive.\n",
    "Examples\n",
    "evenly_divisible(1, 10, 20) ➞ 0\n",
    "# No number between 1 and 10 can be evenly divided by 20.\n",
    "\n",
    "evenly_divisible(1, 10, 2) ➞ 30\n",
    "# 2 + 4 + 6 + 8 + 10 = 30\n",
    "\n",
    "evenly_divisible(1, 10, 3) ➞ 18\n",
    "# 3 + 6 + 9 = 18\n",
    "\n",
    "\n",
    "Question2. Create a function that returns True if a given inequality expression is correct and False otherwise.\n",
    "Examples\n",
    "correct_signs(\"3 < 7 < 11\") ➞ True\n",
    "\n",
    "correct_signs(\"13 > 44 > 33 > 1\") ➞ False\n",
    "\n",
    "correct_signs(\"1 < 2 < 6 < 9 > 3\") ➞ True\n",
    "\n",
    "Question3. Create a function that replaces all the vowels in a string with a specified character.\n",
    "Examples\n",
    "replace_vowels(\"the aardvark\", \"#\") ➞ \"th# ##rdv#rk\"\n",
    "\n",
    "replace_vowels(\"minnie mouse\", \"?\") ➞ \"m?nn?? m??s?\"\n",
    "\n",
    "replace_vowels(\"shakespeare\", \"*\") ➞ \"sh*k*sp**r*\"\n",
    "\n",
    "Question4. Write a function that calculates the factorial of a number recursively.\n",
    "Examples\n",
    "factorial(5) ➞ 120\n",
    "\n",
    "factorial(3) ➞ 6\n",
    "\n",
    "factorial(1) ➞ 1\n",
    "\n",
    "factorial(0) ➞ 1\n",
    "\n",
    "Question 5\n",
    "Hamming distance is the number of characters that differ between two strings.\n",
    "To illustrate:\n",
    "String1: \"abcbba\"\n",
    "String2: \"abcbda\"\n",
    "\n",
    "Hamming Distance: 1 - \"b\" vs. \"d\" is the only difference.\n",
    "Create a function that computes the hamming distance between two strings.\n",
    "Examples\n",
    "hamming_distance(\"abcde\", \"bcdef\") ➞ 5\n",
    "\n",
    "hamming_distance(\"abcde\", \"abcde\") ➞ 0\n",
    "\n",
    "hamming_distance(\"strong\", \"strung\") ➞ 1\n",
    "\n"
   ]
  },
  {
   "cell_type": "code",
   "execution_count": 7,
   "id": "28686069",
   "metadata": {},
   "outputs": [],
   "source": [
    "class Assingment17:\n",
    "    \n",
    "    def evenly_divisible(self,a,b,c):\n",
    "        try:\n",
    "            res=0\n",
    "            if c>b:return\"No number between {0} and {1} can be evenly divided by {2}\".format(a,b,c)\n",
    "            for i in range(a,b+1):\n",
    "                if i%c==0:\n",
    "                    res+=i\n",
    "            return res\n",
    "        except Exception as e:\n",
    "            return(\"Error Type---> \",e)\n",
    "        \n",
    "    def str_expression(self,s):\n",
    "        try:\n",
    "            return eval(s)\n",
    "        except Exception as e:\n",
    "            return(\"Error Type---> \",e)\n",
    "        \n",
    "        \n",
    "    def replace_vowels(self,s,w):\n",
    "        try:\n",
    "            v=\"aeiou\"\n",
    "            for i in v:\n",
    "                s=s.replace(i,w)\n",
    "            return s\n",
    "        except Exception as e:\n",
    "            return(\"Error Type---> \",e)\n",
    "    def factorial(self,num):\n",
    "        try:\n",
    "            if num<=1:return 1\n",
    "            return num*self.factorial(num-1)\n",
    "        except Exception as e:\n",
    "            return(\"Error Type---> \",e)\n",
    "        \n",
    "    def hamming_distance(self,s1,s2):\n",
    "        try:\n",
    "            count=0\n",
    "            for i in range(len(s1)):\n",
    "                if s1[i]!=s2[i]:count+=1\n",
    "            return \"Hamming distance between  ({0}  and  {1})  =  {2}\".format(s1,s2,count)\n",
    "        except Exception as e:\n",
    "            return(\"Error Type---> \",e)\n",
    "\n",
    "\n",
    "    def __str__(self):\n",
    "        return\"This Class Contains a  Methods or Functions for Assignments_17 Solutions\"  \n",
    "\n",
    "obj=Assingment17()"
   ]
  },
  {
   "cell_type": "code",
   "execution_count": 25,
   "id": "026ba0da",
   "metadata": {},
   "outputs": [
    {
     "name": "stdout",
     "output_type": "stream",
     "text": [
      "No number between 1 and 10 can be evenly divided by 20\n",
      "30\n",
      "18\n"
     ]
    }
   ],
   "source": [
    "#1\n",
    "print(obj.evenly_divisible(1,10,20))\n",
    "print(obj.evenly_divisible(1,10,2))\n",
    "print(obj.evenly_divisible(1,10,3))"
   ]
  },
  {
   "cell_type": "code",
   "execution_count": 36,
   "id": "d68cf12e",
   "metadata": {},
   "outputs": [
    {
     "name": "stdout",
     "output_type": "stream",
     "text": [
      "True\n",
      "False\n",
      "True\n"
     ]
    }
   ],
   "source": [
    "#2\n",
    "print(obj.str_expression(\"3 < 7 < 11\"))\n",
    "print(obj.str_expression(\"13 > 44 > 33 > 1\"))\n",
    "print(obj.str_expression(\"1 < 2 < 6 < 9 > 3\"))"
   ]
  },
  {
   "cell_type": "code",
   "execution_count": 10,
   "id": "1ef83f40",
   "metadata": {},
   "outputs": [
    {
     "name": "stdout",
     "output_type": "stream",
     "text": [
      "th# ##rdv#rk\n",
      "m?nn?? m??s?\n",
      "sh*k*sp**r*\n"
     ]
    }
   ],
   "source": [
    "#3\n",
    "print(obj.replace_vowels(\"the aardvark\", \"#\"))\n",
    "print(obj.replace_vowels(\"minnie mouse\", \"?\"))\n",
    "print(obj.replace_vowels(\"shakespeare\", \"*\"))"
   ]
  },
  {
   "cell_type": "code",
   "execution_count": 4,
   "id": "487326ed",
   "metadata": {},
   "outputs": [
    {
     "name": "stdout",
     "output_type": "stream",
     "text": [
      "120\n",
      "6\n",
      "1\n",
      "1\n"
     ]
    }
   ],
   "source": [
    "#4\n",
    "print(obj.factorial(5))\n",
    "print(obj.factorial(3))\n",
    "print(obj.factorial(1))\n",
    "print(obj.factorial(0))"
   ]
  },
  {
   "cell_type": "code",
   "execution_count": 9,
   "id": "7efb6c0d",
   "metadata": {},
   "outputs": [
    {
     "name": "stdout",
     "output_type": "stream",
     "text": [
      "Hamming distance between  (abcde  and  bcdef)  =  5\n",
      "Hamming distance between  (abcde  and  abcde)  =  0\n",
      "Hamming distance between  (strong  and  strung)  =  1\n"
     ]
    }
   ],
   "source": [
    "#5\n",
    "print(obj.hamming_distance(\"abcde\", \"bcdef\"))\n",
    "print(obj.hamming_distance(\"abcde\", \"abcde\"))\n",
    "print(obj.hamming_distance(\"strong\", \"strung\"))"
   ]
  }
 ],
 "metadata": {
  "kernelspec": {
   "display_name": "Python 3 (ipykernel)",
   "language": "python",
   "name": "python3"
  },
  "language_info": {
   "codemirror_mode": {
    "name": "ipython",
    "version": 3
   },
   "file_extension": ".py",
   "mimetype": "text/x-python",
   "name": "python",
   "nbconvert_exporter": "python",
   "pygments_lexer": "ipython3",
   "version": "3.9.7"
  }
 },
 "nbformat": 4,
 "nbformat_minor": 5
}
