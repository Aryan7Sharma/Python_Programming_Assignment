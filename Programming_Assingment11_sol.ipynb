{
 "cells": [
  {
   "cell_type": "markdown",
   "id": "78053dd0",
   "metadata": {},
   "source": [
    "# Programming_Assingment11_Solutions"
   ]
  },
  {
   "cell_type": "markdown",
   "id": "2c96e2e2",
   "metadata": {},
   "source": [
    "    1. Write a Python program to find words which are greater than given length k?\n",
    "    2. Write a Python program for removing i-th character from a string?\n",
    "    3. Write a Python program to split and join a string?\n",
    "    4. Write a Python to check if a given string is binary string or not?\n",
    "    5. Write a Python program to find uncommon words from two Strings?\n",
    "    6. Write a Python to find all duplicate characters in string?\n",
    "    7. Write a Python Program to check if a string contains any special character?"
   ]
  },
  {
   "cell_type": "code",
   "execution_count": 220,
   "id": "ef0f136b",
   "metadata": {},
   "outputs": [],
   "source": [
    "class Assingment11:\n",
    "    \n",
    "    def find_words(self,words,k):\n",
    "        try:\n",
    "            temp=words.split(\" \")\n",
    "            nstr=\"\"\n",
    "            for i in temp:\n",
    "                if len(i)>k:\n",
    "                    nstr+=i\n",
    "                    nstr+=\" \"\n",
    "            return nstr\n",
    "        except Exception as e:\n",
    "            return(\"Error Type---> \",e)\n",
    "        \n",
    "    def rem_ith_char(self,string,i):\n",
    "        try:\n",
    "            res=string[:i]+string[b+1::]\n",
    "            return res\n",
    "        except Exception as e:\n",
    "            return(\"Error Type---> \",e)\n",
    "        \n",
    "    def split_join(self,n):\n",
    "        try:\n",
    "            temp=n.split(\" \")\n",
    "            print(\"After spliting through space-->\",temp)\n",
    "            string=\"_\".join(temp)\n",
    "            return \"After joining through underscore--> {0}\".format(string)\n",
    "        except Exception as e:\n",
    "            return(\"Error Type---> \",e)\n",
    "        \n",
    "    def check_binary_str(self,string):\n",
    "        try:\n",
    "            for i in string:\n",
    "                if i!=\"0\" and i!=\"1\":return False\n",
    "            return True\n",
    "        except Exception as e:\n",
    "            return(\"Error Type---> \",e)\n",
    "        \n",
    "    def find_uncommon_words(self,str1,str2):\n",
    "        try:\n",
    "            hashmap,res={},[]\n",
    "            l1=str1.split(\" \")\n",
    "            l2=str2.split(\" \")\n",
    "            for i in l1:\n",
    "                if i not in hashmap:hashmap[i]=1\n",
    "                else: hashmap[i]+=1\n",
    "            for i in l2:\n",
    "                if i in hashmap:\n",
    "                    hashmap[i]-=1\n",
    "                    if hashmap[i]==0:del hashmap[i]\n",
    "                else:\n",
    "                    res.append(i)\n",
    "            return res\n",
    "        except Exception as e:\n",
    "            return(\"Error Type---> \",e)\n",
    "        \n",
    "    def duplicate_char(self,string):\n",
    "        try:\n",
    "            res=[i for i in string if string.lower().count(i)>1]\n",
    "            return set(res)\n",
    "        except Exception as e:\n",
    "            return(\"Error Type---> \",e)\n",
    "        \n",
    "    def check_special_char(self,string):\n",
    "        import re\n",
    "        try:\n",
    "            r=re.compile('[@_!#$%^&*()<>?/\\|}{~:]')\n",
    "            if (r.search(string)==None):return False\n",
    "            return True\n",
    "        except Exception as e:\n",
    "            return(\"Error Type---> \",e)\n",
    "    \n",
    "    def __str__(self):\n",
    "        return\"This Class Contains a  Methods or Functions for Assignments_11 Solutions\"  \n",
    "\n",
    "obj=Assingment11()"
   ]
  },
  {
   "cell_type": "code",
   "execution_count": 221,
   "id": "eaa89645",
   "metadata": {},
   "outputs": [
    {
     "data": {
      "text/plain": [
       "'Assignment Provided iNeuron '"
      ]
     },
     "execution_count": 221,
     "metadata": {},
     "output_type": "execute_result"
    }
   ],
   "source": [
    "#1. Write a Python program to find words which are greater than given length k?\n",
    "\n",
    "words=\"This Assignment is Provided by the iNeuron\"\n",
    "k=4\n",
    "obj.find_words(words,k)"
   ]
  },
  {
   "cell_type": "code",
   "execution_count": 222,
   "id": "8a02c70f",
   "metadata": {},
   "outputs": [
    {
     "data": {
      "text/plain": [
       "'iNeuron'"
      ]
     },
     "execution_count": 222,
     "metadata": {},
     "output_type": "execute_result"
    }
   ],
   "source": [
    "#2. Write a Python program for removing i-th character from a string?\n",
    "\n",
    "character=\"iNeuroZn\"\n",
    "index=6\n",
    "obj.rem_ith_char(character,index)"
   ]
  },
  {
   "cell_type": "code",
   "execution_count": 223,
   "id": "c9a8c181",
   "metadata": {},
   "outputs": [
    {
     "name": "stdout",
     "output_type": "stream",
     "text": [
      "After spliting through space--> ['i', 'N', 'e', 'u', 'r', 'o', 'n']\n"
     ]
    },
    {
     "data": {
      "text/plain": [
       "'After joining through underscore--> i_N_e_u_r_o_n'"
      ]
     },
     "execution_count": 223,
     "metadata": {},
     "output_type": "execute_result"
    }
   ],
   "source": [
    "#3. Write a Python program to split and join a string?\n",
    "\n",
    "string=\"i N e u r o n\"\n",
    "obj.split_join(string)"
   ]
  },
  {
   "cell_type": "code",
   "execution_count": 224,
   "id": "e9244487",
   "metadata": {},
   "outputs": [
    {
     "name": "stdout",
     "output_type": "stream",
     "text": [
      "True\n",
      "False\n"
     ]
    }
   ],
   "source": [
    "#4. Write a Python to check if a given string is binary string or not?\n",
    "\n",
    "string1=\"10101\"\n",
    "string2=\"10011i\"\n",
    "print(obj.check_binary_str(string1))\n",
    "print(obj.check_binary_str(string2))"
   ]
  },
  {
   "cell_type": "code",
   "execution_count": 225,
   "id": "787f5664",
   "metadata": {},
   "outputs": [
    {
     "data": {
      "text/plain": [
       "['not', 'a', 'word', 'between', 'str']"
      ]
     },
     "execution_count": 225,
     "metadata": {},
     "output_type": "execute_result"
    }
   ],
   "source": [
    "#5. Write a Python program to find uncommon words from two Strings?\n",
    "\n",
    "str1=\"This is a Python program program to find uncommon words from two Strings\"\n",
    "str2=\"This is a not a Python program program to find word between str Strings\"\n",
    "obj.find_uncommon_words(str1,str2)"
   ]
  },
  {
   "cell_type": "code",
   "execution_count": 226,
   "id": "684b49c7",
   "metadata": {},
   "outputs": [
    {
     "data": {
      "text/plain": [
       "{'e', 'l', 'n', 'o'}"
      ]
     },
     "execution_count": 226,
     "metadata": {},
     "output_type": "execute_result"
    }
   ],
   "source": [
    "#6. Write a Python to find all duplicate characters in string?\n",
    "\n",
    "string=\"Hello! iNeuron\"\n",
    "obj.duplicate_char(string)"
   ]
  },
  {
   "cell_type": "code",
   "execution_count": 230,
   "id": "4dc1b2d8",
   "metadata": {},
   "outputs": [
    {
     "name": "stdout",
     "output_type": "stream",
     "text": [
      "True\n",
      "False\n"
     ]
    }
   ],
   "source": [
    "#7. Write a Python Program to check if a string contains any special character?\n",
    "\n",
    "str1=\"i!Neur@on\"\n",
    "str2=\"iNeuron\"\n",
    "print(obj.check_special_char(str1))\n",
    "print(obj.check_special_char(str2))"
   ]
  },
  {
   "cell_type": "code",
   "execution_count": 231,
   "id": "4984ddff",
   "metadata": {},
   "outputs": [
    {
     "name": "stdout",
     "output_type": "stream",
     "text": [
      "This Class Contains a  Methods or Functions for Assignments_11 Solutions\n"
     ]
    }
   ],
   "source": [
    "print(obj)"
   ]
  }
 ],
 "metadata": {
  "kernelspec": {
   "display_name": "Python 3 (ipykernel)",
   "language": "python",
   "name": "python3"
  },
  "language_info": {
   "codemirror_mode": {
    "name": "ipython",
    "version": 3
   },
   "file_extension": ".py",
   "mimetype": "text/x-python",
   "name": "python",
   "nbconvert_exporter": "python",
   "pygments_lexer": "ipython3",
   "version": "3.9.7"
  }
 },
 "nbformat": 4,
 "nbformat_minor": 5
}
