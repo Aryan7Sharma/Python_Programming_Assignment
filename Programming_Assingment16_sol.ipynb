{
 "cells": [
  {
   "cell_type": "markdown",
   "id": "0a7d5089",
   "metadata": {},
   "source": [
    "# Programming_Assingment16_Solutions"
   ]
  },
  {
   "cell_type": "markdown",
   "id": "3789a26f",
   "metadata": {},
   "source": [
    "    Question1. Write a function that stutters a word as if someone is struggling to read it. The first two letters are repeated twice with an ellipsis ... and space after each, and then the word is pronounced with a question mark ?.\n",
    "    Examples\n",
    "    stutter(\"incredible\") ➞ \"in... in... incredible?\"\n",
    "\n",
    "    stutter(\"enthusiastic\") ➞ \"en... en... enthusiastic?\"\n",
    "\n",
    "    stutter(\"outstanding\") ➞ \"ou... ou... outstanding?\"\n",
    "\n",
    "    Hint :- Assume all input is in lower case and at least two characters long.\n",
    "\n",
    "    Question 2.Create a function that takes an angle in radians and returns the corresponding angle in degrees rounded to one decimal place.\n",
    "    Examples\n",
    "    radians_to_degrees(1) ➞ 57.3\n",
    "\n",
    "    radians_to_degrees(20) ➞ 1145.9\n",
    "\n",
    "    radians_to_degrees(50) ➞ 2864.8\n",
    "\n",
    "\n",
    "    Question 3. In this challenge, establish if a given integer num is a Curzon number. If 1 plus 2 elevated to num is exactly divisible by 1 plus 2 multiplied by num, then num is a Curzon number.\n",
    "    Given a non-negative integer num, implement a function that returns True if num is a Curzon number, or False otherwise.\n",
    "    Examples\n",
    "    is_curzon(5) ➞ True\n",
    "# 2 ** 5 + 1 = 33\n",
    "# 2 * 5 + 1 = 11\n",
    "# 33 is a multiple of 11\n",
    "\n",
    "    is_curzon(10) ➞ False\n",
    "# 2 ** 10 + 1 = 1025\n",
    "# 2 * 10 + 1 = 21\n",
    "# 1025 is not a multiple of 21\n",
    "\n",
    "    is_curzon(14) ➞ True\n",
    "# 2 ** 14 + 1 = 16385\n",
    "# 2 * 14 + 1 = 29\n",
    "# 16385 is a multiple of 29\n",
    "\n",
    "    Question 4.Given the side length x find the area of a hexagon.\n",
    "\n",
    "    Examples\n",
    "    area_of_hexagon(1) ➞ 2.6\n",
    "\n",
    "    area_of_hexagon(2) ➞ 10.4\n",
    "\n",
    "    area_of_hexagon(3) ➞ 23.4\n",
    "\n",
    "\n",
    "\n",
    "    Question 5. Create a function that returns a base-2 (binary) representation of a base-10 (decimal) string number. To convert is simple: ((2) means base-2 and (10) means base-10) 010101001(2) = 1 + 8 + 32 + 128.\n",
    "    Going from right to left, the value of the most right bit is 1, now from that every bit to the left will be x2 the value, value of an 8 bit binary numbers are (256, 128, 64, 32, 16, 8, 4, 2, 1).\n",
    "    Examples\n",
    "# binary(1) ➞ \"1\"\n",
    "# 1*1 = 1\n",
    "\n",
    "# binary(5) ➞ \"101\"\n",
    "# 1*1 + 1*4 = 5\n",
    "\n",
    "# binary(10) ➞ \"1010\"\n",
    "# 1*2 + 1*8 = 10"
   ]
  },
  {
   "cell_type": "code",
   "execution_count": 68,
   "id": "3e53dbd1",
   "metadata": {},
   "outputs": [],
   "source": [
    "class Assingment16:\n",
    "    \n",
    "    def stutter(self,s):\n",
    "        try:\n",
    "            temp=s[0:2]\n",
    "            return (2*(temp+\"...\"+\" \"))+s+\"?\"\n",
    "        except Exception as e:\n",
    "            return(\"Error Type---> \",e)\n",
    "        \n",
    "    def radian_degree(self,r):\n",
    "        #2pi*rad = 360°\n",
    "        try:\n",
    "            pi=3.141592653589793\n",
    "            d=r*(180/pi)\n",
    "            return \"Degree  =  {0:.1f}\".format(d)\n",
    "        except Exception as e:\n",
    "            return(\"Error Type---> \",e)\n",
    "        \n",
    "        \n",
    "    def is_curzon(self,num):\n",
    "        try:\n",
    "            if num<0:return \"Negative Numbers are not allowed as Input\"\n",
    "            var1=2**num+1\n",
    "            var2=2*num+1\n",
    "            return var1%var2==0\n",
    "        except Exception as e:\n",
    "            return(\"Error Type---> \",e)\n",
    "    def area_of_hexagon(self,s):\n",
    "        s=s*s\n",
    "        a=5.20*s/2\n",
    "        return \"Area Of Hexagon  =  {0:.1f}\".format(a)\n",
    "        print(name)\n",
    "        \n",
    "    def binary(self,decimal):\n",
    "        result = \"\"\n",
    "        if (decimal == 0):\n",
    "            result = \"0\"\n",
    "        while (decimal > 0):\n",
    "            result += str(int(decimal%2))\n",
    "            decimal = decimal//2\n",
    "        return '''\"'''+result[::-1]+'''\"'''\n",
    "\n",
    "\n",
    "    def __str__(self):\n",
    "        return\"This Class Contains a  Methods or Functions for Assignments_16 Solutions\"  \n",
    "\n",
    "obj=Assingment16()"
   ]
  },
  {
   "cell_type": "code",
   "execution_count": 13,
   "id": "3ab3c1b1",
   "metadata": {},
   "outputs": [
    {
     "name": "stdout",
     "output_type": "stream",
     "text": [
      "in... in... incredible?\n",
      "en... en... enthusiastic?\n",
      "ou... ou... outstanding?\n"
     ]
    }
   ],
   "source": [
    "#1\n",
    "print(obj.stutter(\"incredible\"))\n",
    "print(obj.stutter(\"enthusiastic\"))\n",
    "print(obj.stutter(\"outstanding\"))"
   ]
  },
  {
   "cell_type": "code",
   "execution_count": 22,
   "id": "9b787bf9",
   "metadata": {},
   "outputs": [
    {
     "name": "stdout",
     "output_type": "stream",
     "text": [
      "Degree  =  57.3\n",
      "Degree  =  1145.9\n",
      "Degree  =  2864.8\n"
     ]
    }
   ],
   "source": [
    "#2\n",
    "print(obj.radian_degree(1))\n",
    "print(obj.radian_degree(20))\n",
    "print(obj.radian_degree(50))"
   ]
  },
  {
   "cell_type": "code",
   "execution_count": 30,
   "id": "3cbc9a3f",
   "metadata": {},
   "outputs": [
    {
     "name": "stdout",
     "output_type": "stream",
     "text": [
      "True\n",
      "False\n",
      "True\n"
     ]
    }
   ],
   "source": [
    "#3\n",
    "print(obj.is_curzon(5))\n",
    "print(obj.is_curzon(10))\n",
    "print(obj.is_curzon(14))"
   ]
  },
  {
   "cell_type": "code",
   "execution_count": 40,
   "id": "ff8be3ee",
   "metadata": {},
   "outputs": [
    {
     "name": "stdout",
     "output_type": "stream",
     "text": [
      "Area Of Hexagon  =  2.6\n",
      "Area Of Hexagon  =  10.4\n",
      "Area Of Hexagon  =  23.4\n"
     ]
    }
   ],
   "source": [
    "#4\n",
    "print(obj.area_of_hexagon(1))\n",
    "print(obj.area_of_hexagon(2))\n",
    "print(obj.area_of_hexagon(3))"
   ]
  },
  {
   "cell_type": "code",
   "execution_count": 69,
   "id": "df5fe072",
   "metadata": {},
   "outputs": [
    {
     "name": "stdout",
     "output_type": "stream",
     "text": [
      "\"101\"\n",
      "\"1\"\n",
      "\"1010\"\n"
     ]
    }
   ],
   "source": [
    "#5\n",
    "print(obj.binary(5))\n",
    "print(obj.binary(1))\n",
    "print(obj.binary(10))"
   ]
  },
  {
   "cell_type": "code",
   "execution_count": null,
   "id": "142e433d",
   "metadata": {},
   "outputs": [],
   "source": []
  }
 ],
 "metadata": {
  "kernelspec": {
   "display_name": "Python 3 (ipykernel)",
   "language": "python",
   "name": "python3"
  },
  "language_info": {
   "codemirror_mode": {
    "name": "ipython",
    "version": 3
   },
   "file_extension": ".py",
   "mimetype": "text/x-python",
   "name": "python",
   "nbconvert_exporter": "python",
   "pygments_lexer": "ipython3",
   "version": "3.9.7"
  }
 },
 "nbformat": 4,
 "nbformat_minor": 5
}
