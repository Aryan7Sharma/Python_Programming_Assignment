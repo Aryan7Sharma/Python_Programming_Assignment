{
 "cells": [
  {
   "cell_type": "markdown",
   "id": "902c48ac",
   "metadata": {},
   "source": [
    "# Programming_Assingment2_sol "
   ]
  },
  {
   "cell_type": "markdown",
   "id": "efb0c4b4",
   "metadata": {},
   "source": [
    "1.Write a Python program to convert kilometers to miles?"
   ]
  },
  {
   "cell_type": "code",
   "execution_count": 3,
   "id": "60073471",
   "metadata": {},
   "outputs": [
    {
     "name": "stdout",
     "output_type": "stream",
     "text": [
      "2.5\n",
      "kilometers to miles = 1.55\n"
     ]
    }
   ],
   "source": [
    "kilometer=float(input())\n",
    "miles=kilometer/1.609\n",
    "print(\"kilometers to miles =\",round(miles,2))"
   ]
  },
  {
   "cell_type": "markdown",
   "id": "7a28788f",
   "metadata": {},
   "source": [
    "2.Write a Python program to convert Celsius to Fahrenheit?"
   ]
  },
  {
   "cell_type": "code",
   "execution_count": 6,
   "id": "6d13f3e5",
   "metadata": {},
   "outputs": [
    {
     "name": "stdout",
     "output_type": "stream",
     "text": [
      "5\n",
      "Celsius to Fahrenheit = 41\n"
     ]
    }
   ],
   "source": [
    "Celsius=int(input())\n",
    "Fahrenheit=Celsius*1.8+32\n",
    "print(\"Celsius to Fahrenheit =\",round(Fahrenheit))"
   ]
  },
  {
   "cell_type": "markdown",
   "id": "5df10fac",
   "metadata": {},
   "source": [
    "3.Write a Python program to display calendar?"
   ]
  },
  {
   "cell_type": "code",
   "execution_count": 8,
   "id": "edfd5ebd",
   "metadata": {},
   "outputs": [
    {
     "name": "stdout",
     "output_type": "stream",
     "text": [
      "2022\n",
      "5\n",
      "      May 2022\n",
      "Mo Tu We Th Fr Sa Su\n",
      "                   1\n",
      " 2  3  4  5  6  7  8\n",
      " 9 10 11 12 13 14 15\n",
      "16 17 18 19 20 21 22\n",
      "23 24 25 26 27 28 29\n",
      "30 31\n",
      "\n"
     ]
    }
   ],
   "source": [
    "import calendar\n",
    "year=int(input())\n",
    "month=int(input())\n",
    "print(calendar.month(year,month))"
   ]
  },
  {
   "cell_type": "markdown",
   "id": "06a5280e",
   "metadata": {},
   "source": [
    "4.Write a Python program to solve quadratic equation?"
   ]
  },
  {
   "cell_type": "code",
   "execution_count": 2,
   "id": "a964a7e1",
   "metadata": {},
   "outputs": [],
   "source": [
    "import cmath"
   ]
  },
  {
   "cell_type": "code",
   "execution_count": 15,
   "id": "2dea2f9c",
   "metadata": {},
   "outputs": [
    {
     "name": "stdout",
     "output_type": "stream",
     "text": [
      "1\n",
      "4\n",
      "2\n",
      "((-3.414213562373095+0j), (-0.5857864376269049+0j))\n"
     ]
    }
   ],
   "source": [
    "#a.x^2+b.x+c\n",
    "# x=-b*sqrt(b^2-4.a.c)/2.a\n",
    "def quadratic_equation(a,b,c):\n",
    "    x=(b**2)-(4*a*c)\n",
    "    res1=(-b-cmath.sqrt(x))/(2*a)\n",
    "    res2=(-b+cmath.sqrt(x))/(2*a)\n",
    "    return res1,res2\n",
    "a=int(input())\n",
    "b=int(input())\n",
    "c=int(input())\n",
    "print(quadratic_equation(a,b,c))"
   ]
  },
  {
   "cell_type": "code",
   "execution_count": 8,
   "id": "35c1e74c",
   "metadata": {},
   "outputs": [
    {
     "data": {
      "text/plain": [
       "4.0"
      ]
     },
     "execution_count": 8,
     "metadata": {},
     "output_type": "execute_result"
    }
   ],
   "source": [
    "math.sqrt(16)"
   ]
  },
  {
   "cell_type": "markdown",
   "id": "c0af40a8",
   "metadata": {},
   "source": [
    "5.Write a Python program to swap two variables without temp variable?"
   ]
  },
  {
   "cell_type": "code",
   "execution_count": null,
   "id": "6c052592",
   "metadata": {},
   "outputs": [],
   "source": [
    "a=int(input())\n",
    "b=int(input())\n",
    "print(\"Before Swapping =\",a,b)\n",
    "a,b=b,a\n",
    "print(\"After Swapping =\",a,b)"
   ]
  },
  {
   "cell_type": "code",
   "execution_count": null,
   "id": "d175002a",
   "metadata": {},
   "outputs": [],
   "source": []
  }
 ],
 "metadata": {
  "kernelspec": {
   "display_name": "Python 3 (ipykernel)",
   "language": "python",
   "name": "python3"
  },
  "language_info": {
   "codemirror_mode": {
    "name": "ipython",
    "version": 3
   },
   "file_extension": ".py",
   "mimetype": "text/x-python",
   "name": "python",
   "nbconvert_exporter": "python",
   "pygments_lexer": "ipython3",
   "version": "3.9.7"
  }
 },
 "nbformat": 4,
 "nbformat_minor": 5
}
