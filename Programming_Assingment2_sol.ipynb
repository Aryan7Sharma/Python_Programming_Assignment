{
 "cells": [
  {
   "cell_type": "markdown",
   "id": "902c48ac",
   "metadata": {},
   "source": [
    "# Programming_Assingment2_sol "
   ]
  },
  {
   "cell_type": "markdown",
   "id": "efb0c4b4",
   "metadata": {},
   "source": [
    "1.Write a Python program to convert kilometers to miles?"
   ]
  },
  {
   "cell_type": "code",
   "execution_count": null,
   "id": "60073471",
   "metadata": {},
   "outputs": [],
   "source": [
    "kilometer=float(input())\n",
    "miles=kilometer/1.609\n",
    "print(\"kilometers to miles =\",round(miles,2))"
   ]
  },
  {
   "cell_type": "markdown",
   "id": "7a28788f",
   "metadata": {},
   "source": [
    "2.Write a Python program to convert Celsius to Fahrenheit?"
   ]
  },
  {
   "cell_type": "code",
   "execution_count": null,
   "id": "6d13f3e5",
   "metadata": {},
   "outputs": [],
   "source": [
    "Celsius=int(input())\n",
    "Fahrenheit=Celsius*1.8+32\n",
    "print(\"Celsius to Fahrenheit =\",round(Fahrenheit))"
   ]
  },
  {
   "cell_type": "markdown",
   "id": "5df10fac",
   "metadata": {},
   "source": [
    "3.Write a Python program to display calendar?"
   ]
  },
  {
   "cell_type": "code",
   "execution_count": null,
   "id": "edfd5ebd",
   "metadata": {},
   "outputs": [],
   "source": [
    "import calendar\n",
    "year=int(input())\n",
    "month=int(input())\n",
    "print(calendar.month(year,month))"
   ]
  },
  {
   "cell_type": "markdown",
   "id": "06a5280e",
   "metadata": {},
   "source": [
    "4.Write a Python program to solve quadratic equation?"
   ]
  },
  {
   "cell_type": "code",
   "execution_count": null,
   "id": "a964a7e1",
   "metadata": {},
   "outputs": [],
   "source": [
    "import cmath"
   ]
  },
  {
   "cell_type": "code",
   "execution_count": null,
   "id": "9a5aa497",
   "metadata": {},
   "outputs": [],
   "source": [
    "#a.x^2+b.x+c\n",
    "# x=-b*sqrt(b^2-4.a.c)/2.a\n",
    "def quadratic_equation(a,b,c):\n",
    "    x=(b**2)-(4*a*c)\n",
    "    res1=(-b-cmath.sqrt(x))/(2*a)\n",
    "    res2=(-b+cmath.sqrt(x))/(2*a)\n",
    "    return res1,res2\n",
    "a=int(input())\n",
    "b=int(input())\n",
    "c=int(input())\n",
    "print(quadratic_equation(a,b,c))"
   ]
  },
  {
   "cell_type": "code",
   "execution_count": null,
   "id": "2a3d554d",
   "metadata": {},
   "outputs": [],
   "source": [
    "math.sqrt(16)"
   ]
  },
  {
   "cell_type": "markdown",
   "id": "c0af40a8",
   "metadata": {},
   "source": [
    "5.Write a Python program to swap two variables without temp variable?"
   ]
  },
  {
   "cell_type": "code",
   "execution_count": null,
   "id": "6c052592",
   "metadata": {},
   "outputs": [],
   "source": [
    "a=int(input())\n",
    "b=int(input())\n",
    "print(\"Before Swapping =\",a,b)\n",
    "a,b=b,a\n",
    "print(\"After Swapping =\",a,b)"
   ]
  }
 ],
 "metadata": {
  "kernelspec": {
   "display_name": "Python 3 (ipykernel)",
   "language": "python",
   "name": "python3"
  },
  "language_info": {
   "codemirror_mode": {
    "name": "ipython",
    "version": 3
   },
   "file_extension": ".py",
   "mimetype": "text/x-python",
   "name": "python",
   "nbconvert_exporter": "python",
   "pygments_lexer": "ipython3",
   "version": "3.9.7"
  }
 },
 "nbformat": 4,
 "nbformat_minor": 5
}
