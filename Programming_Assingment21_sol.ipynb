{
 "cells": [
  {
   "cell_type": "markdown",
   "id": "6888e3e3",
   "metadata": {},
   "source": [
    "# Programming_Assingment21_Solutions"
   ]
  },
  {
   "cell_type": "raw",
   "id": "cfab32db",
   "metadata": {},
   "source": [
    "Question1\n",
    "Write a function that takes a list and a number as arguments. Add the number to the end of the list, then remove the first element of the list. The function should then return the updated list.\n",
    "Examples\n",
    "next_in_line([5, 6, 7, 8, 9], 1) ➞ [6, 7, 8, 9, 1]\n",
    "\n",
    "next_in_line([7, 6, 3, 23, 17], 10) ➞ [6, 3, 23, 17, 10]\n",
    "\n",
    "next_in_line([1, 10, 20, 42 ], 6) ➞ [10, 20, 42, 6]\n",
    "\n",
    "next_in_line([], 6) ➞ \"No list has been selected\"\n",
    "\n",
    "\n",
    "\n",
    "\n",
    "\n",
    "Question2\n",
    "Create the function that takes a list of dictionaries and returns the sum of people's budgets.\n",
    "Examples\n",
    "get_budgets([\n",
    "  { \"name\": \"John\", \"age\": 21, \"budget\": 23000 },\n",
    "  { \"name\": \"Steve\",  \"age\": 32, \"budget\": 40000 },\n",
    "  { \"name\": \"Martin\",  \"age\": 16, \"budget\": 2700 }\n",
    "]) ➞ 65700\n",
    "\n",
    "get_budgets([\n",
    "  { \"name\": \"John\",  \"age\": 21, \"budget\": 29000 },\n",
    "  { \"name\": \"Steve\",  \"age\": 32, \"budget\": 32000 },\n",
    "  { \"name\": \"Martin\",  \"age\": 16, \"budget\": 1600 }\n",
    "]) ➞ 62600\n",
    "\n",
    "\n",
    "\n",
    "\n",
    "\n",
    "\n",
    "Question3\n",
    "Create a function that takes a string and returns a string with its letters in alphabetical order.\n",
    "Examples\n",
    "alphabet_soup(\"hello\") ➞ \"ehllo\"\n",
    "\n",
    "alphabet_soup(\"edabit\") ➞ \"abdeit\"\n",
    "\n",
    "alphabet_soup(\"hacker\") ➞ \"acehkr\"\n",
    "\n",
    "alphabet_soup(\"geek\") ➞ \"eegk\"\n",
    "\n",
    "alphabet_soup(\"javascript\") ➞ \"aacijprstv\"\n",
    "\n",
    "\n",
    "\n",
    "\n",
    "\n",
    "Question4\n",
    "Suppose that you invest $10,000 for 10 years at an interest rate of 6% compounded monthly. What will be the value of your investment at the end of the 10 year period?\n",
    "Create a function that accepts the principal p, the term in years t, the interest rate r, and the number of compounding periods per year n. The function returns the value at the end of term rounded to the nearest cent.\n",
    "For the example above:\n",
    "compound_interest(10000, 10, 0.06, 12) ➞ 18193.97\n",
    "Note that the interest rate is given as a decimal and n=12 because with monthly compounding there are 12 periods per year. Compounding can also be done annually, quarterly, weekly, or daily.\n",
    "Examples\n",
    "compound_interest(100, 1, 0.05, 1) ➞ 105.0\n",
    "\n",
    "compound_interest(3500, 15, 0.1, 4) ➞ 15399.26\n",
    "\n",
    "compound_interest(100000, 20, 0.15, 365) ➞ 2007316.26\n",
    "\n",
    "\n",
    "\n",
    "\n",
    "\n",
    "Question5\n",
    "Write a function that takes a list of elements and returns only the integers.\n",
    "Examples\n",
    "return_only_integer([9, 2, \"space\", \"car\", \"lion\", 16]) ➞ [9, 2, 16]\n",
    "\n",
    "return_only_integer([\"hello\", 81, \"basketball\", 123, \"fox\"]) ➞ [81, 123]\n",
    "\n",
    "return_only_integer([10, \"121\", 56, 20, \"car\", 3, \"lion\"]) ➞ [10, 56, 20, 3]\n",
    "\n",
    "return_only_integer([\"String\",  True,  3.3,  1]) ➞ [1]\n",
    "\n"
   ]
  },
  {
   "cell_type": "code",
   "execution_count": 1,
   "id": "7fb86863",
   "metadata": {},
   "outputs": [],
   "source": [
    "class Assingment21:\n",
    "    import logging as lg\n",
    "    lg.basicConfig(filename=\"Ass21_info\",format='%(name)s - %(levelname)s - %(message)s',filemode='w')\n",
    "    log=lg.getLogger()\n",
    "    log.setLevel(lg.ERROR)\n",
    "    \n",
    "    \n",
    "    def next_in_line(self,arr,n):\n",
    "        try:\n",
    "            if len(arr)<1:return \"No list has been selected\"\n",
    "            arr.append(n)\n",
    "            arr.pop(0)\n",
    "            return arr\n",
    "        except Exception as e:\n",
    "            self.log.error(e)\n",
    "            return(\"Error Type---> \",e)\n",
    "        \n",
    "        \n",
    "    def get_budgets(self,l_ofdict):\n",
    "        try:\n",
    "            total_budget=0\n",
    "            for i in l_ofdict:\n",
    "                total_budget+=i[\"budget\"]\n",
    "            return total_budget\n",
    "        except Exception as e:\n",
    "            self.log.error(e)\n",
    "            return(\"Error Type---> \",e)\n",
    "        \n",
    "        \n",
    "    def alphabet_soup(self,s):\n",
    "        try:\n",
    "            l=sorted(s)\n",
    "            print('''\"'''+''.join(l)+'''\"''')\n",
    "            l.clear()\n",
    "            return ''\n",
    "        except Exception as e:\n",
    "            self.log.error(e)\n",
    "            return(\"Error Type---> \",e)\n",
    "        \n",
    "        \n",
    "    def compound_interest(self,p,t,r,n):\n",
    "        try:\n",
    "            comm_time=t*n\n",
    "            total=float(p)\n",
    "            for i in range(comm_time):\n",
    "                interest=total*r/n\n",
    "                total+=interest\n",
    "            return round(total,2)\n",
    "        except Exception as e:\n",
    "            self.log.error(e)\n",
    "            return(\"Error Type---> \",e)\n",
    "        \n",
    "        \n",
    "    def return_only_integer(self,arr):\n",
    "        try:\n",
    "            return [x for x in arr if type(x)==int]\n",
    "        except Exception as e:\n",
    "            self.log.error(e)\n",
    "            return(\"Error Type---> \",e)\n",
    "\n",
    "\n",
    "    def __str__(self):\n",
    "        return\"This Class Contains a  Methods or Functions for Assignments_21 Solutions\"  \n",
    "    \n",
    "\n",
    "obj=Assingment21()"
   ]
  },
  {
   "cell_type": "code",
   "execution_count": 2,
   "id": "3052550f",
   "metadata": {},
   "outputs": [
    {
     "name": "stdout",
     "output_type": "stream",
     "text": [
      "[6, 7, 8, 9, 1]\n",
      "[6, 3, 23, 17, 10]\n",
      "[10, 20, 42, 6]\n"
     ]
    }
   ],
   "source": [
    "#1\n",
    "print(obj.next_in_line([5, 6, 7, 8, 9], 1))\n",
    "print(obj.next_in_line([7, 6, 3, 23, 17], 10))\n",
    "print(obj.next_in_line([1, 10, 20, 42 ], 6))"
   ]
  },
  {
   "cell_type": "code",
   "execution_count": 3,
   "id": "f263fa75",
   "metadata": {},
   "outputs": [
    {
     "name": "stdout",
     "output_type": "stream",
     "text": [
      "65700\n",
      "62600\n"
     ]
    }
   ],
   "source": [
    "#2\n",
    "print(obj.get_budgets([\n",
    "  { \"name\": \"John\", \"age\": 21, \"budget\": 23000 },\n",
    "  { \"name\": \"Steve\",  \"age\": 32, \"budget\": 40000 },\n",
    "  { \"name\": \"Martin\",  \"age\": 16, \"budget\": 2700 }\n",
    "]))\n",
    "print(obj.get_budgets([\n",
    "  { \"name\": \"John\",  \"age\": 21, \"budget\": 29000 },\n",
    "  { \"name\": \"Steve\",  \"age\": 32, \"budget\": 32000 },\n",
    "  { \"name\": \"Martin\",  \"age\": 16, \"budget\": 1600 }\n",
    "]))"
   ]
  },
  {
   "cell_type": "code",
   "execution_count": 4,
   "id": "5a4503a6",
   "metadata": {},
   "outputs": [
    {
     "name": "stdout",
     "output_type": "stream",
     "text": [
      "\"ehllo\"\n",
      "\n",
      "\"abdeit\"\n",
      "\n",
      "\"acehkr\"\n",
      "\n",
      "\"eegk\"\n",
      "\n",
      "\"aacijprstv\"\n",
      "\n"
     ]
    }
   ],
   "source": [
    "#3\n",
    "print(obj.alphabet_soup(\"hello\"))\n",
    "print(obj.alphabet_soup(\"edabit\"))\n",
    "print(obj.alphabet_soup(\"hacker\"))\n",
    "print(obj.alphabet_soup(\"geek\"))\n",
    "print(obj.alphabet_soup(\"javascript\"))"
   ]
  },
  {
   "cell_type": "code",
   "execution_count": 5,
   "id": "1aefcacf",
   "metadata": {},
   "outputs": [
    {
     "name": "stdout",
     "output_type": "stream",
     "text": [
      "105.0\n",
      "15399.26\n",
      "2007316.26\n"
     ]
    }
   ],
   "source": [
    "#4\n",
    "print(obj.compound_interest(100, 1, 0.05, 1))\n",
    "print(obj.compound_interest(3500, 15, 0.1, 4))\n",
    "print(obj.compound_interest(100000, 20, 0.15, 365))"
   ]
  },
  {
   "cell_type": "code",
   "execution_count": 6,
   "id": "2ca0bf7e",
   "metadata": {},
   "outputs": [
    {
     "name": "stdout",
     "output_type": "stream",
     "text": [
      "[9, 2, 16]\n",
      "[81, 123]\n",
      "[10, 56, 20, 3]\n",
      "[1]\n"
     ]
    }
   ],
   "source": [
    "#5\n",
    "print(obj.return_only_integer([9, 2, \"space\", \"car\", \"lion\", 16]))\n",
    "print(obj.return_only_integer([\"hello\", 81, \"basketball\", 123, \"fox\"]))\n",
    "print(obj.return_only_integer([10, \"121\", 56, 20, \"car\", 3, \"lion\"]))\n",
    "print(obj.return_only_integer([\"String\",  True,  3.3,  1]))"
   ]
  },
  {
   "cell_type": "code",
   "execution_count": null,
   "id": "7e6e9d6d",
   "metadata": {},
   "outputs": [],
   "source": []
  }
 ],
 "metadata": {
  "kernelspec": {
   "display_name": "Python 3 (ipykernel)",
   "language": "python",
   "name": "python3"
  },
  "language_info": {
   "codemirror_mode": {
    "name": "ipython",
    "version": 3
   },
   "file_extension": ".py",
   "mimetype": "text/x-python",
   "name": "python",
   "nbconvert_exporter": "python",
   "pygments_lexer": "ipython3",
   "version": "3.9.7"
  }
 },
 "nbformat": 4,
 "nbformat_minor": 5
}
