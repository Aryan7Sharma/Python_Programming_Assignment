{
 "cells": [
  {
   "cell_type": "markdown",
   "id": "a806e6f7",
   "metadata": {},
   "source": [
    "# Programming_Assingment7_Solutions"
   ]
  },
  {
   "cell_type": "markdown",
   "id": "55366424",
   "metadata": {},
   "source": [
    "    1. Write a Python Program to find sum of array?\n",
    "    2. Write a Python Program to find largest element in an array?\n",
    "    3. Write a Python Program for array rotation?\n",
    "    4. Write a Python Program to Split the array and add the first part to the end?\n",
    "    5. Write a Python Program to check if given array is Monotonic?"
   ]
  },
  {
   "cell_type": "code",
   "execution_count": 15,
   "id": "efc1e133",
   "metadata": {},
   "outputs": [
    {
     "data": {
      "text/plain": [
       "25"
      ]
     },
     "execution_count": 15,
     "metadata": {},
     "output_type": "execute_result"
    }
   ],
   "source": [
    "#1. Write a Python Program to find sum of array?\n",
    "\n",
    "def sum_arr(arr):\n",
    "    try:\n",
    "        if len(arr)==0:return\"List is Empty\"\n",
    "        res=0\n",
    "        for i in arr:res+=i\n",
    "        return res\n",
    "    except Exception as e:\n",
    "            print(\"Error type --> \",e)\n",
    "            \n",
    "array=[1,2,3,4,5,10]           \n",
    "sum_arr(array)\n",
    "\n",
    "#There is Pre-built func() is also aviable of calculating the sum of array which is -->(sum(array))"
   ]
  },
  {
   "cell_type": "code",
   "execution_count": 16,
   "id": "43970772",
   "metadata": {},
   "outputs": [
    {
     "data": {
      "text/plain": [
       "9"
      ]
     },
     "execution_count": 16,
     "metadata": {},
     "output_type": "execute_result"
    }
   ],
   "source": [
    "#2. Write a Python Program to find largest element in an array?\n",
    "\n",
    "def lar_ele(arr):\n",
    "    try:\n",
    "        if len(arr)==0:return\"List is Empty\"\n",
    "        res=arr[0]\n",
    "        for i in range(1,len(arr)-1):\n",
    "            if arr[i]>res:res=arr[i]\n",
    "        return res\n",
    "    except Exception as e:\n",
    "            print(\"Error type --> \",e)            \n",
    "lar_ele([6,2,3,8,3,6,9,4,3,6,8,2])"
   ]
  },
  {
   "cell_type": "code",
   "execution_count": 17,
   "id": "3a605dca",
   "metadata": {},
   "outputs": [
    {
     "name": "stdout",
     "output_type": "stream",
     "text": [
      "[10, 9, 8, 7, 6, 5, 4, 3, 2, 1]\n"
     ]
    }
   ],
   "source": [
    "#3. Write a Python Program for array rotation?\n",
    "\n",
    "class Rotation:\n",
    "    try:\n",
    "        def rotation(self,array):\n",
    "            start=0\n",
    "            end=len(array)-1\n",
    "            while start<end:\n",
    "                array[start],array[end]=array[end],array[start]\n",
    "                start+=1\n",
    "                end-=1\n",
    "            return array\n",
    "    except Exception as e:\n",
    "            print(\"Error type --> \",e)\n",
    "    def __str__(self):\n",
    "        return \"This Class is Made for Rotation\"\n",
    "    \n",
    "arr=[1,2,3,4,5,6,7,8,9,10]        \n",
    "obj=Rotation()\n",
    "print(obj.rotation(arr))"
   ]
  },
  {
   "cell_type": "code",
   "execution_count": 18,
   "id": "75574f5f",
   "metadata": {},
   "outputs": [
    {
     "name": "stdout",
     "output_type": "stream",
     "text": [
      "[3, 4, 5, 6, 7, 8, 9, 10, 1, 2]\n"
     ]
    }
   ],
   "source": [
    "#4. Write a Python Program to Split the array and add the first part to the end?\n",
    "\n",
    "class Split:\n",
    "    try:\n",
    "        def splitarr(self,array,pos_ofsplit):\n",
    "            '''pos_ofsplit is the size of first part'''\n",
    "            l=len(array)-1\n",
    "            self.rotation(array,0,pos_ofsplit-1)\n",
    "            self.rotation(array,pos_ofsplit,l)\n",
    "            self.rotation(array,0,l)\n",
    "            return array\n",
    "    except Exception as e:\n",
    "        print(\"Error type --> \",e)\n",
    "    try:\n",
    "        def rotation(self,array,start,end):\n",
    "            while start<end:\n",
    "                array[start],array[end]=array[end],array[start]\n",
    "                start+=1\n",
    "                end-=1\n",
    "    except Exception as e:\n",
    "            print(\"Error type --> \",e)\n",
    "    def __str__(self):\n",
    "        return \"This Class is Made for Spliting the first part to the end\"\n",
    "\n",
    "arr=[1,2,3,4,5,6,7,8,9,10]        \n",
    "obj=Split()\n",
    "print(obj.splitarr(arr,2))"
   ]
  },
  {
   "cell_type": "code",
   "execution_count": 19,
   "id": "964f0a25",
   "metadata": {},
   "outputs": [
    {
     "name": "stdout",
     "output_type": "stream",
     "text": [
      "True\n",
      "False\n",
      "True\n"
     ]
    }
   ],
   "source": [
    "#5. Write a Python Program to check if given array is Monotonic?\n",
    "\n",
    "class Monotonic:\n",
    "    def check(self,array):\n",
    "        l=len(array)-1\n",
    "        if all(array[i]<=array[i+1] for i in range(l)) or all(array[i]>=array[i+1] for i in range(l)):\n",
    "            return True\n",
    "        return False\n",
    "    def __str__(self):\n",
    "        return \"This Class is made for Checking the array is Monotonic or Not\"\n",
    "    \n",
    "obj=Monotonic()\n",
    "arr1=[1,2,3,4,5]\n",
    "arr2=[1,2,0,4,5]\n",
    "arr3=[5,4,3,2,1]\n",
    "print(obj.check(arr1))\n",
    "print(obj.check(arr2))\n",
    "print(obj.check(arr3))"
   ]
  }
 ],
 "metadata": {
  "kernelspec": {
   "display_name": "Python 3 (ipykernel)",
   "language": "python",
   "name": "python3"
  },
  "language_info": {
   "codemirror_mode": {
    "name": "ipython",
    "version": 3
   },
   "file_extension": ".py",
   "mimetype": "text/x-python",
   "name": "python",
   "nbconvert_exporter": "python",
   "pygments_lexer": "ipython3",
   "version": "3.9.7"
  }
 },
 "nbformat": 4,
 "nbformat_minor": 5
}
