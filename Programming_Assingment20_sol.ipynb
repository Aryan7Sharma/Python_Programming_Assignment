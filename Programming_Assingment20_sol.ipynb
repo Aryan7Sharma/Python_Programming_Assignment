{
 "cells": [
  {
   "cell_type": "markdown",
   "id": "a10532b5",
   "metadata": {},
   "source": [
    "# Programming_Assingment20_Solutions"
   ]
  },
  {
   "cell_type": "raw",
   "id": "6d1e4edc",
   "metadata": {},
   "source": [
    "Question1\n",
    "Create a function that takes a list of strings and integers, and filters out the list so that it returns a list of integers only.\n",
    "Examples\n",
    "filter_list([1, 2, 3, \"a\", \"b\", 4]) ➞ [1, 2, 3, 4]\n",
    "\n",
    "filter_list([\"A\", 0, \"Edabit\", 1729, \"Python\", \"1729\"]) ➞ [0, 1729]\n",
    "\n",
    "filter_list([\"Nothing\", \"here\"]) ➞ []\n",
    "\n",
    "\n",
    "\n",
    "\n",
    "\n",
    "Question2\n",
    "Given a list of numbers, create a function which returns the list but with each element's index in the list added to itself. This means you add 0 to the number at index 0, add 1 to the number at index 1, etc...\n",
    "Examples\n",
    "add_indexes([0, 0, 0, 0, 0]) ➞ [0, 1, 2, 3, 4]\n",
    "\n",
    "add_indexes([1, 2, 3, 4, 5]) ➞ [1, 3, 5, 7, 9]\n",
    "\n",
    "add_indexes([5, 4, 3, 2, 1]) ➞ [5, 5, 5, 5, 5]\n",
    "\n",
    "\n",
    "\n",
    "\n",
    "\n",
    "\n",
    "Question3\n",
    "Create a function that takes the height and radius of a cone as arguments and returns the volume of the cone rounded to the nearest hundredth. See the resources tab for the formula.\n",
    "\n",
    "Examples\n",
    "cone_volume(3, 2) ➞ 12.57\n",
    "\n",
    "cone_volume(15, 6) ➞ 565.49\n",
    "\n",
    "cone_volume(18, 0) ➞ 0\n",
    "\n",
    "\n",
    "\n",
    "\n",
    "\n",
    "Question4\n",
    "This Triangular Number Sequence is generated from a pattern of dots that form a triangle. The first 5 numbers of the sequence, or dots, are: \n",
    "1, 3, 6, 10, 15\n",
    "This means that the first triangle has just one dot, the second one has three dots, the third one has 6 dots and so on.\n",
    "Write a function that gives the number of dots with its corresponding triangle number of the sequence.\n",
    "Examples\n",
    "triangle(1) ➞ 1\n",
    "\n",
    "triangle(6) ➞ 21\n",
    "\n",
    "triangle(215) ➞ 23220\n",
    "\n",
    "\n",
    "\n",
    "\n",
    "\n",
    "Question5\n",
    "Create a function that takes a list of numbers between 1 and 10 (excluding one number) and returns the missing number.\n",
    "Examples\n",
    "missing_num([1, 2, 3, 4, 6, 7, 8, 9, 10]) ➞ 5\n",
    "\n",
    "missing_num([7, 2, 3, 6, 5, 9, 1, 4, 8]) ➞ 10\n",
    "\n",
    "missing_num([10, 5, 1, 2, 4, 6, 8, 3, 9]) ➞ 7\n",
    "\n"
   ]
  },
  {
   "cell_type": "code",
   "execution_count": 19,
   "id": "aa8f1abc",
   "metadata": {},
   "outputs": [],
   "source": [
    "class Assingment20:\n",
    "    import logging as lg\n",
    "    lg.basicConfig(filename=\"Ass20_info\",format='%(name)s - %(levelname)s - %(message)s',filemode='w')\n",
    "    log=lg.getLogger()\n",
    "    log.setLevel(lg.ERROR)\n",
    "    \n",
    "    \n",
    "    def filter_list(self,l):\n",
    "        try:\n",
    "            res=[]\n",
    "            for i in l:\n",
    "                if type(i)==int:res.append(i)\n",
    "            return res\n",
    "        except Exception as e:\n",
    "            self.log.error(e)\n",
    "            return(\"Error Type---> \",e)\n",
    "        \n",
    "        \n",
    "    def add_indexes(self,arr):\n",
    "        try:\n",
    "            for i in range(len(arr)): arr[i]+=i\n",
    "            return arr\n",
    "        except Exception as e:\n",
    "            self.log.error(e)\n",
    "            return(\"Error Type---> \",e)\n",
    "        \n",
    "        \n",
    "    def cone_volume(self,h,r):\n",
    "        #volume = 1/3(pi * r * r * h)\n",
    "        try:\n",
    "            pi=3.141592653589793\n",
    "            volume=(1 / 3) * pi * r * r * h\n",
    "            return round(volume,2)\n",
    "        except Exception as e:\n",
    "            self.log.error(e)\n",
    "            return(\"Error Type---> \",e)\n",
    "        \n",
    "        \n",
    "    def triangle(self,n):\n",
    "        try:\n",
    "            dots=n*(n+1)//2\n",
    "            return dots\n",
    "        except Exception as e:\n",
    "            self.log.error(e)\n",
    "            return(\"Error Type---> \",e)\n",
    "        \n",
    "        \n",
    "    def missing_num(self,arr):\n",
    "        try:\n",
    "            for i in range(1,11):\n",
    "                if i not in arr:return \"Missing Number  --{0}--  \".format(i)\n",
    "        except Exception as e:\n",
    "            self.log.error(e)\n",
    "            return(\"Error Type---> \",e)\n",
    "\n",
    "\n",
    "    def __str__(self):\n",
    "        return\"This Class Contains a  Methods or Functions for Assignments_20 Solutions\"  \n",
    "    \n",
    "\n",
    "obj=Assingment20()"
   ]
  },
  {
   "cell_type": "code",
   "execution_count": 4,
   "id": "6180367d",
   "metadata": {},
   "outputs": [
    {
     "name": "stdout",
     "output_type": "stream",
     "text": [
      "[1, 2, 4]\n",
      "[0, 1729]\n",
      "[]\n"
     ]
    }
   ],
   "source": [
    "#1\n",
    "print(obj.filter_list([1, 2, \"a\", \"b\",4]))\n",
    "print(obj.filter_list([\"A\", 0, \"Edabit\", 1729, \"Python\", \"1729\"]))\n",
    "print(obj.filter_list([\"Nothing\", \"here\"]))"
   ]
  },
  {
   "cell_type": "code",
   "execution_count": 5,
   "id": "91ba354f",
   "metadata": {},
   "outputs": [
    {
     "name": "stdout",
     "output_type": "stream",
     "text": [
      "[0, 1, 2, 3, 4]\n",
      "[1, 3, 5, 7, 9]\n",
      "[5, 5, 5, 5, 5]\n"
     ]
    }
   ],
   "source": [
    "#2\n",
    "print(obj.add_indexes([0, 0, 0, 0, 0]))\n",
    "print(obj.add_indexes([1, 2, 3, 4, 5]))\n",
    "print(obj.add_indexes([5, 4, 3, 2, 1]))"
   ]
  },
  {
   "cell_type": "code",
   "execution_count": 13,
   "id": "7371a679",
   "metadata": {},
   "outputs": [
    {
     "name": "stdout",
     "output_type": "stream",
     "text": [
      "12.57\n",
      "565.49\n",
      "0.0\n"
     ]
    }
   ],
   "source": [
    "#3\n",
    "print(obj.cone_volume(3,2))\n",
    "print(obj.cone_volume(15,6))\n",
    "print(obj.cone_volume(18,0))"
   ]
  },
  {
   "cell_type": "code",
   "execution_count": 18,
   "id": "51d44a89",
   "metadata": {},
   "outputs": [
    {
     "name": "stdout",
     "output_type": "stream",
     "text": [
      "1\n",
      "21\n",
      "23220\n"
     ]
    }
   ],
   "source": [
    "#4\n",
    "print(obj.triangle(1))\n",
    "print(obj.triangle(6))\n",
    "print(obj.triangle(215))"
   ]
  },
  {
   "cell_type": "code",
   "execution_count": 21,
   "id": "ce8951e8",
   "metadata": {},
   "outputs": [
    {
     "name": "stdout",
     "output_type": "stream",
     "text": [
      "Missing Number  --5--  \n",
      "Missing Number  --10--  \n",
      "Missing Number  --7--  \n"
     ]
    }
   ],
   "source": [
    "#5\n",
    "print(obj.missing_num([1, 2, 3, 4, 6, 7, 8, 9, 10]))\n",
    "print(obj.missing_num([7, 2, 3, 6, 5, 9, 1, 4, 8]))\n",
    "print(obj.missing_num([10, 5, 1, 2, 4, 6, 8, 3, 9]))"
   ]
  }
 ],
 "metadata": {
  "kernelspec": {
   "display_name": "Python 3 (ipykernel)",
   "language": "python",
   "name": "python3"
  },
  "language_info": {
   "codemirror_mode": {
    "name": "ipython",
    "version": 3
   },
   "file_extension": ".py",
   "mimetype": "text/x-python",
   "name": "python",
   "nbconvert_exporter": "python",
   "pygments_lexer": "ipython3",
   "version": "3.9.7"
  }
 },
 "nbformat": 4,
 "nbformat_minor": 5
}
