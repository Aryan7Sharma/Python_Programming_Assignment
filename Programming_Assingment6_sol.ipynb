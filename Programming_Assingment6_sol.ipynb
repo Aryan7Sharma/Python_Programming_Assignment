{
 "cells": [
  {
   "cell_type": "markdown",
   "id": "4e63a56d",
   "metadata": {},
   "source": [
    "# Programming_Assingment6_Solutions"
   ]
  },
  {
   "cell_type": "markdown",
   "id": "4e3c8c8d",
   "metadata": {},
   "source": [
    "    1. Write a Python Program to Display Fibonacci Sequence Using Recursion?\n",
    "    2. Write a Python Program to Find Factorial of Number Using Recursion?\n",
    "    3. Write a Python Program to calculate your Body Mass Index?\n",
    "    4. Write a Python Program to calculate the natural logarithm of any number?\n",
    "    5. Write a Python Program for cube sum of first n natural numbers?"
   ]
  },
  {
   "cell_type": "code",
   "execution_count": 1,
   "id": "1dba4814",
   "metadata": {},
   "outputs": [
    {
     "name": "stdout",
     "output_type": "stream",
     "text": [
      "8\n",
      "This Class is made for Calculating the Fibonacci Series by Recursion Method\n"
     ]
    }
   ],
   "source": [
    "#1. Write a Python Program to Display Fibonacci Sequence Using Recursion?\n",
    "\n",
    "class Fibonacci:\n",
    "    def feb_seq(self,n):\n",
    "        try:\n",
    "            if n<0:return \"Please Enter a Positive Integer \"\n",
    "            elif n==0:return 0\n",
    "            elif n==1 or n==2:return 1\n",
    "            return self.feb_seq(n-1)+self.feb_seq(n-2)\n",
    "        except Exception as e:\n",
    "            print(\"Error type --> \",e) \n",
    "    def __str__(self):\n",
    "        return\"This Class is made for Calculating the Fibonacci Series by Recursion Method\"\n",
    "obj=Fibonacci()\n",
    "print(obj.feb_seq(6))\n",
    "print(obj)"
   ]
  },
  {
   "cell_type": "code",
   "execution_count": 3,
   "id": "6792420f",
   "metadata": {},
   "outputs": [
    {
     "name": "stdout",
     "output_type": "stream",
     "text": [
      "720\n",
      "This Class is made for Calculating the Factorial by Recursion Method\n"
     ]
    }
   ],
   "source": [
    "#2. Write a Python Program to Find Factorial of Number Using Recursion?\n",
    "\n",
    "class Factorial:\n",
    "    def find_fact(self,n):\n",
    "        try:\n",
    "            if n==1 or n==0:return 1\n",
    "            return n*self.find_fact(n-1)\n",
    "        except Exception as e:\n",
    "            print(\"Error type --> \",e) \n",
    "    def __str__(self):\n",
    "        return\"This Class is made for Calculating the Factorial by Recursion Method\"\n",
    "obj=Factorial()\n",
    "print(obj.find_fact(6))\n",
    "print(obj)"
   ]
  },
  {
   "cell_type": "code",
   "execution_count": 15,
   "id": "8a31d34c",
   "metadata": {},
   "outputs": [
    {
     "name": "stdout",
     "output_type": "stream",
     "text": [
      "Your bmi is 16.41 and you are severely underweight.\n",
      "This Class is made for Calculating the Calculating your Body Mass Index\n"
     ]
    }
   ],
   "source": [
    "#3. Write a Python Program to calculate your Body Mass Index?\n",
    "\n",
    "class BMI:\n",
    "    def __init__(self,w,h):\n",
    "        '''\n",
    "        This Class takes two arguments,\n",
    "        first one is weight in Kg abd\n",
    "        the second is height in centimeters\n",
    "        '''\n",
    "        self.weight=w\n",
    "        self.height=h\n",
    "    def findbmi(self):\n",
    "        try:\n",
    "            meters=self.height/100\n",
    "            bmi=self.weight/(meters**2)\n",
    "            if bmi<18.5:return(\"Your bmi is {0:.2f} and you are severely underweight.\".format(bmi))\n",
    "            elif bmi>=25:return(\"Your bmi is {0:.2f} and you are considered heavily overweight.\".format(bmi))\n",
    "            else:return(\"Your bmi is {0:.2f} and your Weight is Normal.\".format(bmi))\n",
    "        except Exception as e:\n",
    "            print(\"Error type --> \",e) \n",
    "    def __str__(self):\n",
    "        return\"This Class is made for Calculating the Calculating your Body Mass Index\"\n",
    "obj=BMI(52,178)\n",
    "print(obj.findbmi())\n",
    "print(obj)"
   ]
  },
  {
   "cell_type": "code",
   "execution_count": 30,
   "id": "98e634f1",
   "metadata": {},
   "outputs": [
    {
     "name": "stdout",
     "output_type": "stream",
     "text": [
      "Natural logarithm of 6 is = 1.7918\n",
      "This Class is made for Calculating the natural logarithm of any number\n"
     ]
    }
   ],
   "source": [
    "#4. Write a Python Program to calculate the natural logarithm of any number?\n",
    "\n",
    "class Logarithm:\n",
    "    import math\n",
    "    def findlog(self,x):\n",
    "        try:\n",
    "            return \"Natural logarithm of {0} is = {1:.4f}\".format(x,math.log(x))\n",
    "        except Exception as e:\n",
    "            print(\"Error type --> \",e) \n",
    "    def __str__(self):\n",
    "        return\"This Class is made for Calculating the natural logarithm of any number\"\n",
    "obj=Logarithm()\n",
    "print(obj.findlog(6))\n",
    "print(obj)"
   ]
  },
  {
   "cell_type": "code",
   "execution_count": 41,
   "id": "e760b0e8",
   "metadata": {},
   "outputs": [
    {
     "name": "stdout",
     "output_type": "stream",
     "text": [
      "Cube sum of first n natural numbers = 225.0\n",
      "This Class is made for Calculating the Cube sum of first n natural numbers\n"
     ]
    }
   ],
   "source": [
    "#5. Write a Python Program for cube sum of first n natural numbers?\n",
    "\n",
    "class Cubesum:\n",
    "    def cubesum_ofn(self,n):\n",
    "        try:\n",
    "            if n<0:return\"Please Enter a Positive Integer\"\n",
    "            return \"Cube sum of first n natural numbers = {0}\".format(((n**2)*(n+1)**2)/4)\n",
    "        except Exception as e:\n",
    "            print(\"Error type --> \",e) \n",
    "    def __str__(self):\n",
    "        return\"This Class is made for Calculating the Cube sum of first n natural numbers\"\n",
    "obj=Cubesum()\n",
    "print(obj.cubesum_ofn(5))\n",
    "print(obj)"
   ]
  }
 ],
 "metadata": {
  "kernelspec": {
   "display_name": "Python 3 (ipykernel)",
   "language": "python",
   "name": "python3"
  },
  "language_info": {
   "codemirror_mode": {
    "name": "ipython",
    "version": 3
   },
   "file_extension": ".py",
   "mimetype": "text/x-python",
   "name": "python",
   "nbconvert_exporter": "python",
   "pygments_lexer": "ipython3",
   "version": "3.9.7"
  }
 },
 "nbformat": 4,
 "nbformat_minor": 5
}
