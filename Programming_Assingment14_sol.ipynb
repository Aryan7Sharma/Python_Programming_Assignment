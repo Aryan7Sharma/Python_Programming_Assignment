{
 "cells": [
  {
   "cell_type": "markdown",
   "id": "9b0b47a1",
   "metadata": {},
   "source": [
    "# Programming_Assingment14_Solutions "
   ]
  },
  {
   "cell_type": "markdown",
   "id": "8f2e8446",
   "metadata": {},
   "source": [
    "\n",
    "    Question 1:\n",
    "\n",
    "    Define a class with a generator which can iterate the numbers, which are divisible by 7, between a given range 0 and n.\n",
    "\n",
    "    Question 2:\n",
    "    Write a program to compute the frequency of the words from the input. The output should output after sorting the key alphanumerically. \n",
    "\n",
    "\n",
    "    Suppose the following input is supplied to the program:\n",
    "\n",
    "\n",
    "    New to Python or choosing between Python 2 and Python 3? Read Python 2 or Python 3.\n",
    "\n",
    "\n",
    "    Then, the output should be:\n",
    "\n",
    "\n",
    "    2:2\n",
    "\n",
    "\n",
    "    3.:1\n",
    "\n",
    "\n",
    "    3?:1\n",
    "\n",
    "\n",
    "    New:1\n",
    "\n",
    "\n",
    "    Python:5\n",
    "\n",
    "\n",
    "    Read:1\n",
    "\n",
    "\n",
    "    and:1\n",
    "\n",
    "\n",
    "    between:1\n",
    "\n",
    "\n",
    "    choosing:1\n",
    "\n",
    "\n",
    "    or:2\n",
    "\n",
    "    to:1\n",
    "\n",
    "    Question 3:\n",
    "\n",
    "\n",
    "\n",
    "\n",
    "    Define a class Person and its two child classes: Male and Female. All classes have a method \"getGender\" which can print \"Male\" for Male class and \"Female\" for Female class.\n",
    "\n",
    "    Question 4:\n",
    "    Please write a program to generate all sentences where subject is in [\"I\", \"You\"] and verb is in [\"Play\", \"Love\"] and the object is in [\"Hockey\",\"Football\"].\n",
    "\n",
    "\n",
    "    Question 5:\n",
    "    Please write a program to compress and decompress the string \"hello world!hello world!hello world!hello world!\".\n",
    "\n",
    "    Question 6:\n",
    "    Please write a binary search function which searches an item in a sorted list. The function should return the index of element to be searched in the list."
   ]
  },
  {
   "cell_type": "code",
   "execution_count": 46,
   "id": "a50e9db8",
   "metadata": {},
   "outputs": [],
   "source": [
    "class Assingment14:\n",
    "    \n",
    "    def sol1(self,n):\n",
    "        try:\n",
    "            for i in range(n):\n",
    "                if i%7==0:yield i\n",
    "        except Exception as e:\n",
    "            return(\"Error Type---> \",e)\n",
    "        \n",
    "    def sol2(self,s):\n",
    "        from collections import Counter\n",
    "        try:\n",
    "            s=sorted(s)\n",
    "            res=Counter(s)\n",
    "            for k,v in res.items():print(\"{0} : {1}\".format(k,v))\n",
    "        except Exception as e:\n",
    "            return(\"Error Type---> \",e)\n",
    "        \n",
    "        \n",
    "    def sol4(self,s,v,o):\n",
    "        try:\n",
    "            res=[[i,j,k]for i in s for j in v for k in o]\n",
    "            for i in res:\n",
    "                yield(\" \".join(i))\n",
    "        except Exception as e:\n",
    "            return(\"Error Type---> \",e)\n",
    "        \n",
    "    def sol5(self,string):\n",
    "        import zlib\n",
    "        try:\n",
    "            temp=zlib.compress(string)\n",
    "            temp1=zlib.decompress(temp)\n",
    "            print(\"After Compreesing ----\",temp)\n",
    "            print(\"After Decompressing ----\",temp1)\n",
    "        except Exception as e:\n",
    "            return(\"Error Type---> \",e)\n",
    "    \n",
    "    def binary_search(self,arr,n):\n",
    "        try:\n",
    "            start,end=0,len(arr)-1\n",
    "            while start<=end:\n",
    "                mid=start+(end-start)//2\n",
    "                if arr[mid]==n:return \"Searched Item Index --{0}--\".format(mid) \n",
    "                elif arr[mid]<n:start=mid+1\n",
    "                else:end=mid-1\n",
    "            return \"Searched item did not exists in the list\"\n",
    "        except Exception as e:\n",
    "            return(\"Error Type---> \",e)\n",
    "\n",
    "    def __str__(self):\n",
    "        return\"This Class Contains a  Methods or Functions for Assignments_14 Solutions\"  \n",
    "\n",
    "obj=Assingment14()"
   ]
  },
  {
   "cell_type": "code",
   "execution_count": 54,
   "id": "194d2bf3",
   "metadata": {},
   "outputs": [
    {
     "name": "stdout",
     "output_type": "stream",
     "text": [
      "71\n",
      "0 7 14 21 28 35 42 49 56 63 70 "
     ]
    }
   ],
   "source": [
    "#1\n",
    "n=int(input())\n",
    "for i in obj.sol1(n):\n",
    "    print(i,end=\" \")"
   ]
  },
  {
   "cell_type": "code",
   "execution_count": 55,
   "id": "b939c2d2",
   "metadata": {},
   "outputs": [
    {
     "name": "stdout",
     "output_type": "stream",
     "text": [
      "New to Python or choosing between Python 2 and Python 3? Read Python 2 or Python 3.\n",
      "2 : 2\n",
      "3. : 1\n",
      "3? : 1\n",
      "New : 1\n",
      "Python : 5\n",
      "Read : 1\n",
      "and : 1\n",
      "between : 1\n",
      "choosing : 1\n",
      "or : 2\n",
      "to : 1\n"
     ]
    }
   ],
   "source": [
    "#2\n",
    "s=input().split()\n",
    "obj.sol2(s)"
   ]
  },
  {
   "cell_type": "code",
   "execution_count": 37,
   "id": "296229ed",
   "metadata": {},
   "outputs": [
    {
     "name": "stdout",
     "output_type": "stream",
     "text": [
      "Male\n",
      "Female\n"
     ]
    }
   ],
   "source": [
    "#3\n",
    "class Person:\n",
    "    def getGender(self):\n",
    "        return\"\"\n",
    "class Child_male(Person):\n",
    "    def getGender(self):\n",
    "        return \"Male\"\n",
    "class Child_female(Person):\n",
    "    def getGender(self):\n",
    "        return \"Female\"\n",
    "\n",
    "obj1=Child_male()\n",
    "obj2=Child_female()\n",
    "print(obj1.getGender())\n",
    "print(obj2.getGender())"
   ]
  },
  {
   "cell_type": "code",
   "execution_count": 59,
   "id": "d437556a",
   "metadata": {},
   "outputs": [
    {
     "name": "stdout",
     "output_type": "stream",
     "text": [
      "I Play Hockey\n",
      "I Play Football\n",
      "I Love Hockey\n",
      "I Love Football\n",
      "You Play Hockey\n",
      "You Play Football\n",
      "You Love Hockey\n",
      "You Love Football\n"
     ]
    }
   ],
   "source": [
    "#4\n",
    "s,v,o=[\"I\", \"You\"],[\"Play\", \"Love\"],[\"Hockey\",\"Football\"]\n",
    "for i in obj.sol4(s,v,o):\n",
    "    print(i)"
   ]
  },
  {
   "cell_type": "code",
   "execution_count": 37,
   "id": "ae74f964",
   "metadata": {},
   "outputs": [
    {
     "name": "stdout",
     "output_type": "stream",
     "text": [
      "hello world!hello world!hello world!hello world!\n",
      "After Compreesing ---- b'x\\x9c\\xcbH\\xcd\\xc9\\xc9W(\\xcf/\\xcaIQ\\xcc \\x82\\r\\x00\\xbd[\\x11\\xf5'\n",
      "After Decompressing ---- b'hello world!hello world!hello world!hello world!'\n"
     ]
    }
   ],
   "source": [
    "#5\n",
    "s =input().encode()\n",
    "obj.sol5(s)"
   ]
  },
  {
   "cell_type": "code",
   "execution_count": 48,
   "id": "acdf0af1",
   "metadata": {},
   "outputs": [
    {
     "name": "stdout",
     "output_type": "stream",
     "text": [
      "1 3 5 7 8 6 5 4 10 6 12 20 2 25\n",
      "8\n",
      "[1, 2, 3, 4, 5, 5, 6, 6, 7, 8, 10, 12, 20, 25]\n"
     ]
    },
    {
     "data": {
      "text/plain": [
       "'Searched Item Index --9--'"
      ]
     },
     "execution_count": 48,
     "metadata": {},
     "output_type": "execute_result"
    }
   ],
   "source": [
    "#6\n",
    "arr=list(int(x)for x in input().split())\n",
    "arr.sort()\n",
    "item=int(input())\n",
    "print(arr)\n",
    "obj.binary_search(arr,item)"
   ]
  },
  {
   "cell_type": "code",
   "execution_count": null,
   "id": "336eab7d",
   "metadata": {},
   "outputs": [],
   "source": []
  }
 ],
 "metadata": {
  "kernelspec": {
   "display_name": "Python 3 (ipykernel)",
   "language": "python",
   "name": "python3"
  },
  "language_info": {
   "codemirror_mode": {
    "name": "ipython",
    "version": 3
   },
   "file_extension": ".py",
   "mimetype": "text/x-python",
   "name": "python",
   "nbconvert_exporter": "python",
   "pygments_lexer": "ipython3",
   "version": "3.9.7"
  }
 },
 "nbformat": 4,
 "nbformat_minor": 5
}
