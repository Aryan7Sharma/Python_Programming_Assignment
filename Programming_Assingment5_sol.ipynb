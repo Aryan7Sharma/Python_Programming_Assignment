{
 "cells": [
  {
   "cell_type": "markdown",
   "id": "909070ac",
   "metadata": {},
   "source": [
    "# Programming_Assingment5_Solutions"
   ]
  },
  {
   "cell_type": "markdown",
   "id": "61fc93af",
   "metadata": {},
   "source": [
    "    1. Write a Python Program to Find LCM?\n",
    "    2. Write a Python Program to Find HCF?\n",
    "    3. Write a Python Program to Convert Decimal to Binary, Octal and Hexadecimal?\n",
    "    4. Write a Python Program To Find ASCII value of a character?\n",
    "    5. Write a Python Program to Make a Simple Calculator with 4 basic mathematical operations?"
   ]
  },
  {
   "cell_type": "code",
   "execution_count": 1,
   "id": "ec720164",
   "metadata": {},
   "outputs": [
    {
     "name": "stdout",
     "output_type": "stream",
     "text": [
      "798\n"
     ]
    }
   ],
   "source": [
    "#1. Write a Python Program to Find LCM?\n",
    "\n",
    "class Lcm(): \n",
    "    def __init__(self,val1,val2):\n",
    "        self.val1=val1\n",
    "        self.val2=val2\n",
    "    def findlcm(self):\n",
    "        try: \n",
    "            x=self.val1\n",
    "            y=self.val2\n",
    "            if x > y:gcd=x%y\n",
    "            else:gcd=y%x\n",
    "            lcm = (x*y)//gcd\n",
    "            return lcm\n",
    "        except Exception as e:\n",
    "            print(\"Error type --> \",e)  \n",
    "obj=Lcm(114,14)\n",
    "print(obj.findlcm())"
   ]
  },
  {
   "cell_type": "code",
   "execution_count": 6,
   "id": "85d64fc6",
   "metadata": {},
   "outputs": [
    {
     "name": "stdout",
     "output_type": "stream",
     "text": [
      "3\n"
     ]
    }
   ],
   "source": [
    "#2. Write a Python Program to Find HCF?\n",
    "\n",
    "class Hcf(): \n",
    "    def __init__(self,val1,val2):\n",
    "        self.val1=val1\n",
    "        self.val2=val2\n",
    "    def findhcf(self):\n",
    "        try: \n",
    "            x=self.val1\n",
    "            y=self.val2\n",
    "            while y:\n",
    "                x,y=y,x%y\n",
    "            return x\n",
    "        except Exception as e:\n",
    "            print(\"Error type --> \",e)  \n",
    "obj=Hcf(15,18)\n",
    "print(obj.findhcf())"
   ]
  },
  {
   "cell_type": "code",
   "execution_count": 7,
   "id": "47a361ab",
   "metadata": {},
   "outputs": [
    {
     "name": "stdout",
     "output_type": "stream",
     "text": [
      "10\n",
      "2\n",
      "0x2\n"
     ]
    }
   ],
   "source": [
    "#3. Write a Python Program to Convert Decimal to Binary, Octal and Hexadecimal?\n",
    "\n",
    "class Conversion:\n",
    "    def __init__(self,value):\n",
    "        self.deci_value=value\n",
    "    try:\n",
    "        def con_binary(self):\n",
    "            val=self.deci_value\n",
    "            return \"{0:b}\".format(int(val))\n",
    "    except Exception as e:\n",
    "            print(\"Error type --> \",e)\n",
    "    try:\n",
    "        def con_octal(self):\n",
    "            val=self.deci_value\n",
    "            return \"{0:}\".format(int(val))\n",
    "    except Exception as e:\n",
    "            print(\"Error type --> \",e)\n",
    "    try:        \n",
    "        def con_hexa(self):\n",
    "            val=self.deci_value\n",
    "            return hex(int(val))\n",
    "    except Exception as e:\n",
    "            print(\"Error type --> \",e)\n",
    "obj=Conversion(2)\n",
    "print(obj.con_binary())\n",
    "print(obj.con_octal())\n",
    "print(obj.con_hexa())"
   ]
  },
  {
   "cell_type": "code",
   "execution_count": 2,
   "id": "43ce5a03",
   "metadata": {},
   "outputs": [
    {
     "name": "stdout",
     "output_type": "stream",
     "text": [
      "65\n",
      "This Class is made for converting the Character into their ASCII Value.\n"
     ]
    }
   ],
   "source": [
    "#4. Write a Python Program To Find ASCII value of a character?\n",
    "\n",
    "class Findascii:\n",
    "    try:    \n",
    "        def con_in_ascii(self,char):\n",
    "            self.char=str(char)\n",
    "            return ord(self.char)\n",
    "    except Exception as e:\n",
    "            print(\"Error type --> \",e)\n",
    "    def __str__(self): \n",
    "        return(\"This Class is made for converting the Character into their ASCII Value.\")\n",
    "obj=Findascii()\n",
    "print(obj.con_in_ascii('A'))\n",
    "print(obj)"
   ]
  },
  {
   "cell_type": "code",
   "execution_count": 4,
   "id": "826a43ce",
   "metadata": {},
   "outputs": [
    {
     "name": "stdout",
     "output_type": "stream",
     "text": [
      "('Addition = ', 15)\n",
      "('Substraction = ', 5)\n",
      "('Division = ', 2.0)\n",
      "('Multiplication = ', 50)\n"
     ]
    }
   ],
   "source": [
    "#5. Write a Python Program to Make a Simple Calculator with 4 basic mathematical operations?\n",
    "\n",
    "class Calculator:\n",
    "    def __init__(self,n1,n2):\n",
    "        self.value1=n1\n",
    "        self.value2=n2\n",
    "    try:    \n",
    "        def addi(self):\n",
    "            a=self.value1\n",
    "            b=self.value2\n",
    "            return \"Addition = \",a+b\n",
    "    except Exception as e:\n",
    "            print(\"Error type --> \",e)\n",
    "    try:    \n",
    "        def subs(self):\n",
    "            a=self.value1\n",
    "            b=self.value2\n",
    "            return \"Substraction = \",a-b\n",
    "    except Exception as e:\n",
    "            print(\"Error type --> \",e)\n",
    "    try:    \n",
    "        def multi(self):\n",
    "            a=self.value1\n",
    "            b=self.value2\n",
    "            return \"Multiplication = \",a*b\n",
    "    except Exception as e:\n",
    "            print(\"Error type --> \",e)\n",
    "    try:    \n",
    "        def divi(self):\n",
    "            a=self.value1\n",
    "            b=self.value2\n",
    "            return \"Division = \",a/b\n",
    "    except Exception as e:\n",
    "            print(\"Error type --> \",e)        \n",
    "    def __str__(self): \n",
    "        return(\"This Class is made for Basic Calculator.\")\n",
    "    \n",
    "obj=Calculator(10,5)\n",
    "print(obj.addi())\n",
    "print(obj.subs())\n",
    "print(obj.divi())\n",
    "print(obj.multi())"
   ]
  },
  {
   "cell_type": "code",
   "execution_count": null,
   "id": "97585395",
   "metadata": {},
   "outputs": [],
   "source": []
  }
 ],
 "metadata": {
  "kernelspec": {
   "display_name": "Python 3 (ipykernel)",
   "language": "python",
   "name": "python3"
  },
  "language_info": {
   "codemirror_mode": {
    "name": "ipython",
    "version": 3
   },
   "file_extension": ".py",
   "mimetype": "text/x-python",
   "name": "python",
   "nbconvert_exporter": "python",
   "pygments_lexer": "ipython3",
   "version": "3.9.7"
  }
 },
 "nbformat": 4,
 "nbformat_minor": 5
}
