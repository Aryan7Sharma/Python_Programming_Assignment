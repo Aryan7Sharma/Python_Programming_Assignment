{
 "cells": [
  {
   "cell_type": "markdown",
   "id": "c5945fbf",
   "metadata": {},
   "source": [
    "#  First Challenge\n",
    "###### https://codeshare.io/X8PY8Y"
   ]
  },
  {
   "cell_type": "markdown",
   "id": "1737b613",
   "metadata": {},
   "source": [
    "    q1 : Try to print this by using while loop \n",
    "    * \n",
    "    * * \n",
    "    * * * \n",
    "    * * * * \n",
    "    * * * * * \n",
    "    * * * * * * \n",
    "    * * * * * * * \n",
    "    * * * * * * * * \n",
    "    * * * * * * * * * "
   ]
  },
  {
   "cell_type": "code",
   "execution_count": 3,
   "id": "5123be18",
   "metadata": {},
   "outputs": [
    {
     "name": "stdout",
     "output_type": "stream",
     "text": [
      "* \n",
      "* * \n",
      "* * * \n",
      "* * * * \n",
      "* * * * * \n",
      "* * * * * * \n",
      "* * * * * * * \n",
      "* * * * * * * * \n",
      "* * * * * * * * * \n",
      "* * * * * * * * * * \n"
     ]
    }
   ],
   "source": [
    "#q1 sol\n",
    "a=1\n",
    "while a<=10:\n",
    "    print(\"* \"*a)\n",
    "    a+=1"
   ]
  },
  {
   "cell_type": "markdown",
   "id": "ad3e404e",
   "metadata": {},
   "source": [
    "    q2 : try to print below by using while loop : \n",
    "        \n",
    "    A\n",
    "    B H \n",
    "    C I N\n",
    "    D J o S\n",
    "    E K p T W\n",
    "    F L Q U X z\n",
    "    G M R V Y "
   ]
  },
  {
   "cell_type": "code",
   "execution_count": 11,
   "id": "e28ea5a0",
   "metadata": {},
   "outputs": [
    {
     "name": "stdout",
     "output_type": "stream",
     "text": [
      "A \n",
      "B C \n",
      "D E F \n",
      "G H I J \n",
      "K L M N O \n",
      "P Q R S T U \n",
      "V W X Y Z \n"
     ]
    }
   ],
   "source": [
    "#q2 sol\n",
    "char=65\n",
    "jump=1\n",
    "while char<=90:\n",
    "    i=1\n",
    "    while i<=jump:\n",
    "        if char>90:break\n",
    "        print(chr(char),end=\" \")\n",
    "        char+=1\n",
    "        i+=1\n",
    "    print()\n",
    "    jump+=1\n",
    "    "
   ]
  },
  {
   "cell_type": "markdown",
   "id": "8d83336d",
   "metadata": {},
   "source": [
    "q3 : Try to print all the number divisible by 3 in between a range of 40 - 400"
   ]
  },
  {
   "cell_type": "code",
   "execution_count": 6,
   "id": "c6733afb",
   "metadata": {},
   "outputs": [
    {
     "name": "stdout",
     "output_type": "stream",
     "text": [
      "42\n",
      "45\n",
      "48\n",
      "51\n",
      "54\n",
      "57\n",
      "60\n",
      "63\n",
      "66\n",
      "69\n",
      "72\n",
      "75\n",
      "78\n",
      "81\n",
      "84\n",
      "87\n",
      "90\n",
      "93\n",
      "96\n",
      "99\n",
      "102\n",
      "105\n",
      "108\n",
      "111\n",
      "114\n",
      "117\n",
      "120\n",
      "123\n",
      "126\n",
      "129\n",
      "132\n",
      "135\n",
      "138\n",
      "141\n",
      "144\n",
      "147\n",
      "150\n",
      "153\n",
      "156\n",
      "159\n",
      "162\n",
      "165\n",
      "168\n",
      "171\n",
      "174\n",
      "177\n",
      "180\n",
      "183\n",
      "186\n",
      "189\n",
      "192\n",
      "195\n",
      "198\n",
      "201\n",
      "204\n",
      "207\n",
      "210\n",
      "213\n",
      "216\n",
      "219\n",
      "222\n",
      "225\n",
      "228\n",
      "231\n",
      "234\n",
      "237\n",
      "240\n",
      "243\n",
      "246\n",
      "249\n",
      "252\n",
      "255\n",
      "258\n",
      "261\n",
      "264\n",
      "267\n",
      "270\n",
      "273\n",
      "276\n",
      "279\n",
      "282\n",
      "285\n",
      "288\n",
      "291\n",
      "294\n",
      "297\n",
      "300\n",
      "303\n",
      "306\n",
      "309\n",
      "312\n",
      "315\n",
      "318\n",
      "321\n",
      "324\n",
      "327\n",
      "330\n",
      "333\n",
      "336\n",
      "339\n",
      "342\n",
      "345\n",
      "348\n",
      "351\n",
      "354\n",
      "357\n",
      "360\n",
      "363\n",
      "366\n",
      "369\n",
      "372\n",
      "375\n",
      "378\n",
      "381\n",
      "384\n",
      "387\n",
      "390\n",
      "393\n",
      "396\n",
      "399\n"
     ]
    }
   ],
   "source": [
    "#q3 sol\n",
    "for i in range(40,400):\n",
    "    if i%3==0:print(i)"
   ]
  },
  {
   "cell_type": "markdown",
   "id": "6ca82414",
   "metadata": {},
   "source": [
    "    q4 : Try to filter out all the vowels form below text by using while loop : \n",
    "     \"\"\"Python is a high-level, interpreted, general-purpose programming language. Its design philosophy emphasizes code readability with the use of significant indentation.[32]\n",
    "\n",
    "    Python is dynamically-typed and garbage-collected. It supports multiple programming paradigms, including structured (particularly procedural), object-oriented and functional programming. It is often described as a \"batteries included\" language due to its comprehensive standard library.[33][34]\n",
    "\n",
    "    Guido van Rossum began working on Python in the late 1980s as a successor to the ABC programming language and first released it in 1991 as Python 0.9.0.[35] Python 2.0 was released in 2000 and introduced new features such as list comprehensions, cycle-detecting garbage collection, reference counting, and Unicode support. Python 3.0, released in 2008, was a major revision that is not completely backward-compatible with earlier versions. Python 2 was discontinued with version 2.7.18 in 2020.[36]\n",
    "\n",
    "    Python consistently ranks as one of the most popular programming languagesc\"\"\" "
   ]
  },
  {
   "cell_type": "code",
   "execution_count": 16,
   "id": "338299b0",
   "metadata": {},
   "outputs": [
    {
     "name": "stdout",
     "output_type": "stream",
     "text": [
      "    o  i  a  i    e e   i  e   e e    e e a   u  o e   o  a  i    a  ua e       e i     i o o       o e  ea a i i    i     e u e o   i  i i a   i  e  a io          o  i     a i a       e  a    a  a e  o  e  e        u  o     u  i  e   o  a  i    a a i     i   u i      u  u e    a  i u a      o e u a    o  e   o ie  e  a     u   io a    o  a  i       i  o  e   e   i e  a  a   a  e ie  i   u e    a  ua e  ue  o i    o   e e  i e   a  a     i  a            ui o  a   o  u   e a   o  i   o      o  i    e  a e       a  a  u  e  o   o   e       o  a  i     a  ua e a    i     e ea e  i  i       a      o                 o       a   e ea e  i       a   i   o u e   e    ea u e   u   a   i    o   e e  io        e  e e  i    a  a e  o  e  io    e e e  e  ou  i    a     i o e  u  o         o        e ea e  i         a  a  a o   e i io    a  i   o   o   e e    a   a    o  a i  e  i   ea  ie   e  io         o     a   i  o  i ue   i    e  io         i               o   o  i  e      a    a  o e o    e  o    o u a     o  a  i    a  ua e  \n"
     ]
    }
   ],
   "source": [
    "#q4 sol\n",
    "string=\"\"\"Python is a high-level, interpreted, general-purpose programming language. Its design philosophy  \n",
    "code readability with the use of significant indentation.[32]Python is dynamically-typed and garbage-collected. It \n",
    "supports multiple programming paradigms, including structured (particularly procedural), object-oriented and \n",
    "functional programming. It is often described as a \"batteries included\" language due to its comprehensive standard \n",
    "library.[33][34]Guido van Rossum began working on Python in the late 1980s as a successor to the ABC programming \n",
    "language and first released it in 1991 as Python 0.9.0.[35] Python 2.0 was released in 2000 and introduced new \n",
    "features such as list comprehensions, cycle-detecting garbage collection, reference counting, and Unicode support. \n",
    "Python 3.0, released in 2008, was a major revision that is not completely backward-compatible with earlier versions\n",
    ". Python 2 was discontinued with version 2.7.18 in 2020.[36]Python consistently ranks as one of the most popular \n",
    "programming languagesc\"\"\" \n",
    "\n",
    "\n",
    "\n",
    "\n",
    "all_vowels=\"\"\n",
    "index=0\n",
    "vowel=\"aeiou\"\n",
    "while index<len(string):\n",
    "    if string[index] in vowel: \n",
    "        all_vowels+=string[index]\n",
    "    else:all_vowels+=\" \"\n",
    "    index+=1\n",
    "    \n",
    "print(all_vowels)"
   ]
  },
  {
   "cell_type": "code",
   "execution_count": 14,
   "id": "cfaaa6d8",
   "metadata": {},
   "outputs": [
    {
     "data": {
      "text/plain": [
       "''"
      ]
     },
     "execution_count": 14,
     "metadata": {},
     "output_type": "execute_result"
    }
   ],
   "source": [
    "all_vowels"
   ]
  },
  {
   "cell_type": "markdown",
   "id": "1eb355a2",
   "metadata": {},
   "source": [
    "q5 : Try to generate all the even number between 1- 1000"
   ]
  },
  {
   "cell_type": "code",
   "execution_count": 18,
   "id": "c46c1be8",
   "metadata": {},
   "outputs": [
    {
     "name": "stdout",
     "output_type": "stream",
     "text": [
      "2 4 6 8 10 12 14 16 18 20 22 24 26 28 30 32 34 36 38 40 42 44 46 48 50 52 54 56 58 60 62 64 66 68 70 72 74 76 78 80 82 84 86 88 90 92 94 96 98 100 102 104 106 108 110 112 114 116 118 120 122 124 126 128 130 132 134 136 138 140 142 144 146 148 150 152 154 156 158 160 162 164 166 168 170 172 174 176 178 180 182 184 186 188 190 192 194 196 198 200 202 204 206 208 210 212 214 216 218 220 222 224 226 228 230 232 234 236 238 240 242 244 246 248 250 252 254 256 258 260 262 264 266 268 270 272 274 276 278 280 282 284 286 288 290 292 294 296 298 300 302 304 306 308 310 312 314 316 318 320 322 324 326 328 330 332 334 336 338 340 342 344 346 348 350 352 354 356 358 360 362 364 366 368 370 372 374 376 378 380 382 384 386 388 390 392 394 396 398 400 402 404 406 408 410 412 414 416 418 420 422 424 426 428 430 432 434 436 438 440 442 444 446 448 450 452 454 456 458 460 462 464 466 468 470 472 474 476 478 480 482 484 486 488 490 492 494 496 498 500 502 504 506 508 510 512 514 516 518 520 522 524 526 528 530 532 534 536 538 540 542 544 546 548 550 552 554 556 558 560 562 564 566 568 570 572 574 576 578 580 582 584 586 588 590 592 594 596 598 600 602 604 606 608 610 612 614 616 618 620 622 624 626 628 630 632 634 636 638 640 642 644 646 648 650 652 654 656 658 660 662 664 666 668 670 672 674 676 678 680 682 684 686 688 690 692 694 696 698 700 702 704 706 708 710 712 714 716 718 720 722 724 726 728 730 732 734 736 738 740 742 744 746 748 750 752 754 756 758 760 762 764 766 768 770 772 774 776 778 780 782 784 786 788 790 792 794 796 798 800 802 804 806 808 810 812 814 816 818 820 822 824 826 828 830 832 834 836 838 840 842 844 846 848 850 852 854 856 858 860 862 864 866 868 870 872 874 876 878 880 882 884 886 888 890 892 894 896 898 900 902 904 906 908 910 912 914 916 918 920 922 924 926 928 930 932 934 936 938 940 942 944 946 948 950 952 954 956 958 960 962 964 966 968 970 972 974 976 978 980 982 984 986 988 990 992 994 996 998 "
     ]
    }
   ],
   "source": [
    "#q5 sol\n",
    "for i in range(1,1000):\n",
    "    if i%2==0:print(i,end=\" \")"
   ]
  },
  {
   "cell_type": "markdown",
   "id": "fef52a00",
   "metadata": {},
   "source": [
    "    q6 : Define a function for all the above problem statememnt  ."
   ]
  },
  {
   "cell_type": "code",
   "execution_count": 15,
   "id": "293b5895",
   "metadata": {},
   "outputs": [],
   "source": [
    "#q6 sol\n",
    "\n",
    "def sol1():\n",
    "    a=1\n",
    "    while a<=10:\n",
    "        print(\"* \"*a)\n",
    "        a+=1\n",
    "    return 'Solution 1 Excuted Sucessfully'\n",
    "\n",
    "\n",
    "def sol2():\n",
    "    char=65\n",
    "    jump=1\n",
    "    while char<=90:\n",
    "        i=1\n",
    "        while i<=jump:\n",
    "            if char>90:break\n",
    "            print(chr(char),end=\" \")\n",
    "            char+=1\n",
    "            i+=1\n",
    "        print()\n",
    "        jump+=1\n",
    "    return 'Solution 2 Excuted Sucessfully'\n",
    "    \n",
    "\n",
    "def sol3():\n",
    "    for i in range(40,400):\n",
    "        if i%3==0:print(i)\n",
    "    return 'Solution 3 Excuted Sucessfully'\n",
    "\n",
    "def sol4(string):\n",
    "    all_vowels=\"\"\n",
    "    index=0\n",
    "    vowel=\"aeiou\"\n",
    "    while index<len(string):\n",
    "        if string[index] in vowel: \n",
    "            all_vowels+=string[index]\n",
    "        else:all_vowels+=\" \"\n",
    "        index+=1\n",
    "    \n",
    "    return all_vowels\n",
    "\n",
    "def sol5():\n",
    "    for i in range(1,1000):\n",
    "        if i%2==0:print(i,end=\" \")    \n",
    "    return 'Solution 5 Excuted Sucessfully'"
   ]
  },
  {
   "cell_type": "markdown",
   "id": "9ff8c783",
   "metadata": {},
   "source": [
    "q7 : write a code to get a time of your system "
   ]
  },
  {
   "cell_type": "code",
   "execution_count": 10,
   "id": "496cdf8e",
   "metadata": {},
   "outputs": [
    {
     "data": {
      "text/plain": [
       "'04:35:14'"
      ]
     },
     "execution_count": 10,
     "metadata": {},
     "output_type": "execute_result"
    }
   ],
   "source": [
    "#q7 sol\n",
    "import time\n",
    "time.strftime(\"%I:%M:%S\")"
   ]
  },
  {
   "cell_type": "markdown",
   "id": "fc7fe88d",
   "metadata": {},
   "source": [
    "q8 : Write a code to fetch date form your system"
   ]
  },
  {
   "cell_type": "code",
   "execution_count": 20,
   "id": "5dd7479e",
   "metadata": {},
   "outputs": [
    {
     "data": {
      "text/plain": [
       "datetime.date(2022, 5, 31)"
      ]
     },
     "execution_count": 20,
     "metadata": {},
     "output_type": "execute_result"
    }
   ],
   "source": [
    "#q8 sol\n",
    "from datetime import date \n",
    "date.today()"
   ]
  },
  {
   "cell_type": "markdown",
   "id": "27969ae6",
   "metadata": {},
   "source": [
    "q9 : Write a code to send a mail to your friend"
   ]
  },
  {
   "cell_type": "code",
   "execution_count": 36,
   "id": "1ef59685",
   "metadata": {},
   "outputs": [],
   "source": [
    "#q10 sol\n",
    "import smtplib\n",
    "\n",
    "email_ids=[\"aryansharma2003march@gmail.com\",\"lucifermorningstar1978november@gmail.com\"]\n",
    "for email in email_ids:\n",
    "    e=smtplib.SMTP('smtp.gmail.com', 587)\n",
    "    e.starttls()\n",
    "    e.login(\"tanyagupt2003@gmail.com\",\"Elon@2003\")\n",
    "    message=\"I am just doing my 1st ineuron Challenge\"\n",
    "    e.sendmail(\"its done\",email,message)\n",
    "    e.quit()"
   ]
  },
  {
   "cell_type": "markdown",
   "id": "c1e48627",
   "metadata": {},
   "source": [
    "q10 : write a code to trigger alarm for you at scheduled time "
   ]
  },
  {
   "cell_type": "code",
   "execution_count": 39,
   "id": "2f34d44c",
   "metadata": {},
   "outputs": [
    {
     "name": "stdout",
     "output_type": "stream",
     "text": [
      "Collecting playsound\n",
      "  Downloading playsound-1.3.0.tar.gz (7.7 kB)\n",
      "Building wheels for collected packages: playsound\n",
      "  Building wheel for playsound (setup.py) ... \u001b[?25ldone\n",
      "\u001b[?25h  Created wheel for playsound: filename=playsound-1.3.0-py3-none-any.whl size=7037 sha256=721e0fef72f651722518814861d4b0aee6915844589535108f809196f813e6c1\n",
      "  Stored in directory: /home/aryan/.cache/pip/wheels/ba/39/54/c8f7ff9a88a644d3c58b4dec802d90b79a2e0fb2a6b884bf82\n",
      "Successfully built playsound\n",
      "Installing collected packages: playsound\n",
      "Successfully installed playsound-1.3.0\n"
     ]
    }
   ],
   "source": [
    "#q10 sol\n",
    "!pip install playsound"
   ]
  },
  {
   "cell_type": "code",
   "execution_count": 40,
   "id": "ca5da8da",
   "metadata": {},
   "outputs": [
    {
     "name": "stderr",
     "output_type": "stream",
     "text": [
      "playsound is relying on another python subprocess. Please use `pip install pygobject` if you want playsound to run more efficiently.\n"
     ]
    }
   ],
   "source": [
    "import playsound"
   ]
  },
  {
   "cell_type": "code",
   "execution_count": 1,
   "id": "bb319465",
   "metadata": {},
   "outputs": [
    {
     "name": "stderr",
     "output_type": "stream",
     "text": [
      "playsound is relying on another python subprocess. Please use `pip install pygobject` if you want playsound to run more efficiently.\n"
     ]
    }
   ],
   "source": [
    "from playsound import playsound\n",
    "from datetime import datetime"
   ]
  },
  {
   "cell_type": "code",
   "execution_count": 79,
   "id": "6550f28d",
   "metadata": {},
   "outputs": [
    {
     "name": "stdout",
     "output_type": "stream",
     "text": [
      "Wake Up!\n"
     ]
    },
    {
     "data": {
      "text/plain": [
       "'Program Excuted Sucessfully'"
      ]
     },
     "execution_count": 79,
     "metadata": {},
     "output_type": "execute_result"
    }
   ],
   "source": [
    "def alarm(time):\n",
    "    alarm_time=time\n",
    "    if len(alarm_time) !=8:\n",
    "            return \"Invalid time format! Please try again\"\n",
    "    else:    \n",
    "        hour = alarm_time[0:2]\n",
    "        mins = alarm_time[3:5]\n",
    "        period = alarm_time[6:8].upper()\n",
    "        \n",
    "    while True:\n",
    "        now = datetime.now()\n",
    "        chour = now.strftime(\"%I\")\n",
    "        cmin = now.strftime(\"%M\")\n",
    "        cperiod = now.strftime(\"%p\")\n",
    "        if period == cperiod:\n",
    "            if hour == chour:\n",
    "                if mins == cmin:\n",
    "                    print(\"Wake Up!\")\n",
    "                    playsound('/home/aryan/Desktop/Ineuron/Assignments/attention_please.mp3')\n",
    "                    return \"Program Excuted Sucessfully\"\n",
    "                    \n",
    "        \n",
    "alarm(\"06:10 PM\")#Please enter a time in 'HH:MM AM/PM' format"
   ]
  },
  {
   "cell_type": "markdown",
   "id": "ae0f0572",
   "metadata": {},
   "source": [
    "q11: write a code to check ip address of your system "
   ]
  },
  {
   "cell_type": "code",
   "execution_count": 85,
   "id": "8e029076",
   "metadata": {},
   "outputs": [
    {
     "data": {
      "text/plain": [
       "'127.0.1.1'"
      ]
     },
     "execution_count": 85,
     "metadata": {},
     "output_type": "execute_result"
    }
   ],
   "source": [
    "#q11 sol\n",
    "import socket as s\n",
    "s.gethostbyname('aryan777')"
   ]
  },
  {
   "cell_type": "markdown",
   "id": "bbcdaa12",
   "metadata": {},
   "source": [
    "q12 : Write a code to check a perticular installation in your system"
   ]
  },
  {
   "cell_type": "code",
   "execution_count": 143,
   "id": "a8b3c24d",
   "metadata": {},
   "outputs": [
    {
     "data": {
      "text/plain": [
       "['Package                            Version',\n",
       " '---------------------------------- --------------------',\n",
       " 'alabaster                          0.7.12',\n",
       " 'anaconda-client                    1.9.0',\n",
       " 'anaconda-navigator                 2.1.2',\n",
       " 'anaconda-project                   0.10.1',\n",
       " 'anyio                              2.2.0',\n",
       " 'appdirs                            1.4.4',\n",
       " 'argcomplete                        1.10.3',\n",
       " 'argh                               0.26.2',\n",
       " 'argon2-cffi                        20.1.0',\n",
       " 'arrow                              0.13.1',\n",
       " 'asn1crypto                         1.4.0',\n",
       " 'astroid                            2.6.6',\n",
       " 'astropy                            4.3.1',\n",
       " 'async-generator                    1.10',\n",
       " 'async-timeout                      4.0.2',\n",
       " 'atomicwrites                       1.4.0',\n",
       " 'attrs                              21.2.0',\n",
       " 'Automat                            20.2.0',\n",
       " 'autopep8                           1.5.7',\n",
       " 'Babel                              2.9.1',\n",
       " 'backcall                           0.2.0',\n",
       " 'backports.functools-lru-cache      1.6.4',\n",
       " 'backports.shutil-get-terminal-size 1.0.0',\n",
       " 'backports.tempfile                 1.0',\n",
       " 'backports.weakref                  1.0.post1',\n",
       " 'beautifulsoup4                     4.8.2',\n",
       " 'binaryornot                        0.4.4',\n",
       " 'bitarray                           2.3.0',\n",
       " 'bkcharts                           0.2',\n",
       " 'black                              19.10b0',\n",
       " 'bleach                             4.0.0',\n",
       " 'bokeh                              2.4.1',\n",
       " 'boto                               2.49.0',\n",
       " 'Bottleneck                         1.3.2',\n",
       " 'brotlipy                           0.7.0',\n",
       " 'cached-property                    1.5.2',\n",
       " 'certifi                            2021.10.8',\n",
       " 'cffi                               1.14.6',\n",
       " 'chardet                            3.0.4',\n",
       " 'charset-normalizer                 2.0.4',\n",
       " 'click                              8.0.3',\n",
       " 'click-plugins                      1.1.1',\n",
       " 'cligj                              0.7.2',\n",
       " 'cloudpickle                        2.0.0',\n",
       " 'clyent                             1.2.2',\n",
       " 'colorama                           0.4.4',\n",
       " 'compressed-rtf                     1.0.6',\n",
       " 'conda                              4.12.0',\n",
       " 'conda-build                        3.21.5',\n",
       " 'conda-content-trust                0+unknown',\n",
       " 'conda-pack                         0.6.0',\n",
       " 'conda-package-handling             1.7.3',\n",
       " 'conda-repo-cli                     1.0.4',\n",
       " 'conda-token                        0.3.0',\n",
       " 'conda-verify                       3.4.2',\n",
       " 'constantly                         15.1.0',\n",
       " 'contextlib2                        0.6.0.post1',\n",
       " 'cookiecutter                       1.7.2',\n",
       " 'cryptography                       3.4.8',\n",
       " 'cssselect                          1.1.0',\n",
       " 'cycler                             0.10.0',\n",
       " 'Cython                             0.29.24',\n",
       " 'cytoolz                            0.11.0',\n",
       " 'daal4py                            2021.3.0',\n",
       " 'dask                               2021.10.0',\n",
       " 'debugpy                            1.4.1',\n",
       " 'decorator                          5.1.0',\n",
       " 'defusedxml                         0.7.1',\n",
       " 'Deprecated                         1.2.13',\n",
       " 'diff-match-patch                   20200713',\n",
       " 'distributed                        2021.10.0',\n",
       " 'distro                             1.7.0',\n",
       " 'dnspython                          2.2.1',\n",
       " 'docutils                           0.17.1',\n",
       " 'docx2txt                           0.8',\n",
       " 'ebcdic                             1.1.1',\n",
       " 'entrypoints                        0.3',\n",
       " 'et-xmlfile                         1.1.0',\n",
       " 'extract-msg                        0.28.7',\n",
       " 'face-recognition                   1.4.0',\n",
       " 'fastcache                          1.1.0',\n",
       " 'filelock                           3.3.1',\n",
       " 'Fiona                              1.8.21',\n",
       " 'flake8                             3.9.2',\n",
       " 'Flask                              1.1.2',\n",
       " 'fonttools                          4.25.0',\n",
       " 'fsspec                             2021.8.1',\n",
       " 'future                             0.18.2',\n",
       " 'geographiclib                      1.52',\n",
       " 'geopandas                          0.10.2',\n",
       " 'geopy                              2.2.0',\n",
       " 'gevent                             21.8.0',\n",
       " 'glob2                              0.7',\n",
       " 'gmpy2                              2.0.8',\n",
       " 'greenlet                           1.1.1',\n",
       " 'h5py                               3.3.0',\n",
       " 'HeapDict                           1.0.1',\n",
       " 'html5lib                           1.1',\n",
       " 'htmlmin                            0.1.12',\n",
       " 'hyperlink                          21.0.0',\n",
       " 'idna                               3.2',\n",
       " 'imagecodecs                        2021.8.26',\n",
       " 'ImageHash                          4.2.1',\n",
       " 'imageio                            2.9.0',\n",
       " 'imagesize                          1.2.0',\n",
       " 'IMAPClient                         2.1.0',\n",
       " 'importlib-metadata                 4.8.1',\n",
       " 'incremental                        21.3.0',\n",
       " 'inflection                         0.5.1',\n",
       " 'iniconfig                          1.1.1',\n",
       " 'intervaltree                       3.1.0',\n",
       " 'ipykernel                          6.4.1',\n",
       " 'ipython                            7.29.0',\n",
       " 'ipython-genutils                   0.2.0',\n",
       " 'ipywidgets                         7.6.5',\n",
       " 'isort                              5.9.3',\n",
       " 'itemadapter                        0.5.0',\n",
       " 'itemloaders                        1.0.4',\n",
       " 'itsdangerous                       2.0.1',\n",
       " 'jdcal                              1.4.1',\n",
       " 'jedi                               0.18.0',\n",
       " 'jeepney                            0.7.1',\n",
       " 'Jinja2                             2.11.3',\n",
       " 'jinja2-time                        0.2.0',\n",
       " 'jmespath                           1.0.0',\n",
       " 'joblib                             1.0.1',\n",
       " 'json5                              0.9.6',\n",
       " 'jsonschema                         3.2.0',\n",
       " 'jupyter                            1.0.0',\n",
       " 'jupyter-client                     6.1.12',\n",
       " 'jupyter-console                    6.4.0',\n",
       " 'jupyter-core                       4.8.1',\n",
       " 'jupyter-server                     1.4.1',\n",
       " 'jupyterlab                         3.2.1',\n",
       " 'jupyterlab-pygments                0.1.2',\n",
       " 'jupyterlab-server                  2.8.2',\n",
       " 'jupyterlab-widgets                 1.0.0',\n",
       " 'keyring                            23.1.0',\n",
       " 'kiwisolver                         1.3.1',\n",
       " 'lazy-object-proxy                  1.6.0',\n",
       " 'libarchive-c                       2.9',\n",
       " 'llvmlite                           0.37.0',\n",
       " 'locket                             0.2.1',\n",
       " 'lxml                               4.6.3',\n",
       " 'MarkupSafe                         2.0.1',\n",
       " 'matplotlib                         3.4.3',\n",
       " 'matplotlib-inline                  0.1.2',\n",
       " 'mccabe                             0.6.1',\n",
       " 'missingno                          0.5.1',\n",
       " 'mistune                            0.8.4',\n",
       " 'mkl-fft                            1.3.1',\n",
       " 'mkl-random                         1.2.2',\n",
       " 'mkl-service                        2.4.0',\n",
       " 'mock                               4.0.3',\n",
       " 'more-itertools                     8.10.0',\n",
       " 'mpmath                             1.2.1',\n",
       " 'msgpack                            1.0.2',\n",
       " 'multimethod                        1.7',\n",
       " 'multipledispatch                   0.6.0',\n",
       " 'munch                              2.5.0',\n",
       " 'munkres                            1.1.4',\n",
       " 'mypy-extensions                    0.4.3',\n",
       " 'mysql-connector-python             8.0.29',\n",
       " 'navigator-updater                  0.2.1',\n",
       " 'nbclassic                          0.2.6',\n",
       " 'nbclient                           0.5.3',\n",
       " 'nbconvert                          6.1.0',\n",
       " 'nbformat                           5.1.3',\n",
       " 'nest-asyncio                       1.5.1',\n",
       " 'networkx                           2.6.3',\n",
       " 'nltk                               3.6.5',\n",
       " 'nose                               1.3.7',\n",
       " 'notebook                           6.4.5',\n",
       " 'numba                              0.54.1',\n",
       " 'numexpr                            2.7.3',\n",
       " 'numpy                              1.20.3',\n",
       " 'numpydoc                           1.1.0',\n",
       " 'olefile                            0.46',\n",
       " 'openpyxl                           3.0.9',\n",
       " 'packaging                          21.0',\n",
       " 'pandas                             1.3.4',\n",
       " 'pandas-profiling                   3.1.0',\n",
       " 'pandocfilters                      1.4.3',\n",
       " 'parsel                             1.6.0',\n",
       " 'parso                              0.8.2',\n",
       " 'partd                              1.2.0',\n",
       " 'path                               16.0.0',\n",
       " 'pathlib2                           2.3.6',\n",
       " 'pathspec                           0.7.0',\n",
       " 'patsy                              0.5.2',\n",
       " 'pdfminer.six                       20191110',\n",
       " 'pep8                               1.7.1',\n",
       " 'pexpect                            4.8.0',\n",
       " 'phik                               0.12.2',\n",
       " 'pickleshare                        0.7.5',\n",
       " 'Pillow                             8.4.0',\n",
       " 'pip                                21.2.4',\n",
       " 'pkginfo                            1.7.1',\n",
       " 'playsound                          1.3.0',\n",
       " 'pluggy                             0.13.1',\n",
       " 'ply                                3.11',\n",
       " 'poyo                               0.5.0',\n",
       " 'prometheus-client                  0.11.0',\n",
       " 'prompt-toolkit                     3.0.20',\n",
       " 'Protego                            0.2.1',\n",
       " 'protobuf                           4.21.0',\n",
       " 'psutil                             5.8.0',\n",
       " 'ptyprocess                         0.7.0',\n",
       " 'py                                 1.10.0',\n",
       " 'pyasn1                             0.4.8',\n",
       " 'pyasn1-modules                     0.2.8',\n",
       " 'pycodestyle                        2.7.0',\n",
       " 'pycosat                            0.6.3',\n",
       " 'pycparser                          2.20',\n",
       " 'pycryptodome                       3.14.1',\n",
       " 'pycurl                             7.44.1',\n",
       " 'pydantic                           1.9.0',\n",
       " 'PyDispatcher                       2.0.5',\n",
       " 'pydocstyle                         6.1.1',\n",
       " 'pyerfa                             2.0.0',\n",
       " 'pyflakes                           2.3.1',\n",
       " 'PyGeodesy                          22.4.4',\n",
       " 'Pygments                           2.10.0',\n",
       " 'PyInputPlus                        0.2.12',\n",
       " 'PyJWT                              2.1.0',\n",
       " 'pylint                             2.9.6',\n",
       " 'pyls-spyder                        0.4.0',\n",
       " 'pymongo                            4.1.1',\n",
       " 'pyodbc                             4.0.0-unsupported',\n",
       " 'pyOpenSSL                          21.0.0',\n",
       " 'pyparsing                          3.0.4',\n",
       " 'pyproj                             3.3.0',\n",
       " 'pyrsistent                         0.18.0',\n",
       " 'PySimpleValidate                   0.2.12',\n",
       " 'PySocks                            1.7.1',\n",
       " 'pytest                             6.2.4',\n",
       " 'python-dateutil                    2.8.2',\n",
       " 'python-lsp-black                   1.0.0',\n",
       " 'python-lsp-jsonrpc                 1.0.0',\n",
       " 'python-lsp-server                  1.2.4',\n",
       " 'python-pptx                        0.6.21',\n",
       " 'python-slugify                     5.0.2',\n",
       " 'pytz                               2021.3',\n",
       " 'pytz-deprecation-shim              0.1.0.post0',\n",
       " 'PyWavelets                         1.1.1',\n",
       " 'pyxdg                              0.27',\n",
       " 'PyYAML                             6.0',\n",
       " 'pyzmq                              22.2.1',\n",
       " 'QDarkStyle                         3.0.2',\n",
       " 'qstylizer                          0.1.10',\n",
       " 'QtAwesome                          1.0.2',\n",
       " 'qtconsole                          5.1.1',\n",
       " 'QtPy                               1.10.0',\n",
       " 'queuelib                           1.6.2',\n",
       " 'redis                              4.3.1',\n",
       " 'regex                              2021.8.3',\n",
       " 'requests                           2.26.0',\n",
       " 'requests-file                      1.5.1',\n",
       " 'rope                               0.19.0',\n",
       " 'Rtree                              0.9.7',\n",
       " 'ruamel-yaml-conda                  0.15.100',\n",
       " 'scikit-image                       0.18.3',\n",
       " 'scikit-learn                       0.24.2',\n",
       " 'scikit-learn-intelex               2021.20210714.170444',\n",
       " 'scipy                              1.7.1',\n",
       " 'Scrapy                             2.6.1',\n",
       " 'seaborn                            0.11.2',\n",
       " 'SecretStorage                      3.3.1',\n",
       " 'Send2Trash                         1.8.0',\n",
       " 'service-identity                   21.1.0',\n",
       " 'setuptools                         58.0.4',\n",
       " 'Shapely                            1.8.1.post1',\n",
       " 'simplegeneric                      0.8.1',\n",
       " 'singledispatch                     3.7.0',\n",
       " 'sip                                4.19.13',\n",
       " 'six                                1.12.0',\n",
       " 'sniffio                            1.2.0',\n",
       " 'snowballstemmer                    2.1.0',\n",
       " 'sortedcollections                  2.1.0',\n",
       " 'sortedcontainers                   2.4.0',\n",
       " 'soupsieve                          2.2.1',\n",
       " 'SpeechRecognition                  3.8.1',\n",
       " 'Sphinx                             4.2.0',\n",
       " 'sphinxcontrib-applehelp            1.0.2',\n",
       " 'sphinxcontrib-devhelp              1.0.2',\n",
       " 'sphinxcontrib-htmlhelp             2.0.0',\n",
       " 'sphinxcontrib-jsmath               1.0.1',\n",
       " 'sphinxcontrib-qthelp               1.0.3',\n",
       " 'sphinxcontrib-serializinghtml      1.1.5',\n",
       " 'sphinxcontrib-websupport           1.2.4',\n",
       " 'spyder                             5.1.5',\n",
       " 'spyder-kernels                     2.1.3',\n",
       " 'SQLAlchemy                         1.4.22',\n",
       " 'statsmodels                        0.12.2',\n",
       " 'stdiomask                          0.0.6',\n",
       " 'sympy                              1.9',\n",
       " 'tables                             3.6.1',\n",
       " 'tabula                             1.0.5',\n",
       " 'tabula-py                          2.3.0',\n",
       " 'tangled-up-in-unicode              0.1.0',\n",
       " 'TBB                                0.2',\n",
       " 'tblib                              1.7.0',\n",
       " 'termcolor                          1.1.0',\n",
       " 'terminado                          0.9.4',\n",
       " 'testpath                           0.5.0',\n",
       " 'text-unidecode                     1.3',\n",
       " 'textdistance                       4.2.1',\n",
       " 'textract                           1.6.5',\n",
       " 'threadpoolctl                      2.2.0',\n",
       " 'three-merge                        0.1.1',\n",
       " 'tifffile                           2021.7.2',\n",
       " 'tinycss                            0.4',\n",
       " 'tldextract                         3.2.0',\n",
       " 'toml                               0.10.2',\n",
       " 'toolz                              0.11.1',\n",
       " 'tornado                            6.1',\n",
       " 'tqdm                               4.62.3',\n",
       " 'traitlets                          5.1.0',\n",
       " 'Twisted                            22.2.0',\n",
       " 'typed-ast                          1.4.3',\n",
       " 'typing-extensions                  3.10.0.2',\n",
       " 'tzdata                             2022.1',\n",
       " 'tzlocal                            4.2',\n",
       " 'ujson                              4.0.2',\n",
       " 'unicodecsv                         0.14.1',\n",
       " 'Unidecode                          1.2.0',\n",
       " 'urllib3                            1.26.7',\n",
       " 'visions                            0.7.4',\n",
       " 'w3lib                              1.22.0',\n",
       " 'watchdog                           2.1.3',\n",
       " 'wcwidth                            0.2.5',\n",
       " 'webencodings                       0.5.1',\n",
       " 'Werkzeug                           2.0.2',\n",
       " 'wheel                              0.37.0',\n",
       " 'whichcraft                         0.6.1',\n",
       " 'widgetsnbextension                 3.5.1',\n",
       " 'wrapt                              1.12.1',\n",
       " 'wurlitzer                          2.1.1',\n",
       " 'xlrd                               1.2.0',\n",
       " 'XlsxWriter                         3.0.1',\n",
       " 'xlwt                               1.3.0',\n",
       " 'xmltodict                          0.12.0',\n",
       " 'yapf                               0.31.0',\n",
       " 'zict                               2.0.0',\n",
       " 'zipp                               3.6.0',\n",
       " 'zope.event                         4.5.0',\n",
       " 'zope.interface                     5.4.0']"
      ]
     },
     "execution_count": 143,
     "metadata": {},
     "output_type": "execute_result"
    }
   ],
   "source": [
    "#q12 sol\n",
    "all_pakages=!pip list\n",
    "all_pakages\n"
   ]
  },
  {
   "cell_type": "markdown",
   "id": "7032cb50",
   "metadata": {},
   "source": [
    "q13 : Write a code to convert any text in to voice"
   ]
  },
  {
   "cell_type": "code",
   "execution_count": 147,
   "id": "5a056c03",
   "metadata": {},
   "outputs": [
    {
     "name": "stdout",
     "output_type": "stream",
     "text": [
      "Collecting pyttsx3\n",
      "  Downloading pyttsx3-2.90-py3-none-any.whl (39 kB)\n",
      "Installing collected packages: pyttsx3\n",
      "Successfully installed pyttsx3-2.90\n"
     ]
    }
   ],
   "source": [
    "#q13 sol\n",
    "!pip install pyttsx3  "
   ]
  },
  {
   "cell_type": "code",
   "execution_count": 148,
   "id": "f7f64e7a",
   "metadata": {},
   "outputs": [
    {
     "name": "stdout",
     "output_type": "stream",
     "text": [
      "Collecting gTTS\n",
      "  Downloading gTTS-2.2.4-py3-none-any.whl (26 kB)\n",
      "Requirement already satisfied: click in /home/aryan/anaconda3/lib/python3.9/site-packages (from gTTS) (8.0.3)\n",
      "Requirement already satisfied: six in /home/aryan/anaconda3/lib/python3.9/site-packages (from gTTS) (1.12.0)\n",
      "Requirement already satisfied: requests in /home/aryan/anaconda3/lib/python3.9/site-packages (from gTTS) (2.26.0)\n",
      "Requirement already satisfied: urllib3<1.27,>=1.21.1 in /home/aryan/anaconda3/lib/python3.9/site-packages (from requests->gTTS) (1.26.7)\n",
      "Requirement already satisfied: charset-normalizer~=2.0.0 in /home/aryan/anaconda3/lib/python3.9/site-packages (from requests->gTTS) (2.0.4)\n",
      "Requirement already satisfied: certifi>=2017.4.17 in /home/aryan/anaconda3/lib/python3.9/site-packages (from requests->gTTS) (2021.10.8)\n",
      "Requirement already satisfied: idna<4,>=2.5 in /home/aryan/anaconda3/lib/python3.9/site-packages (from requests->gTTS) (3.2)\n",
      "Installing collected packages: gTTS\n",
      "Successfully installed gTTS-2.2.4\n"
     ]
    }
   ],
   "source": [
    "!pip install gTTS"
   ]
  },
  {
   "cell_type": "code",
   "execution_count": 4,
   "id": "4534cfa5",
   "metadata": {},
   "outputs": [],
   "source": [
    "import gtts\n",
    "def voice_func(message):\n",
    "    voice=gtts.gTTS(message)\n",
    "    voice.save(\"voice.mp3\")  \n",
    "    return playsound(\"voice.mp3\")\n",
    "msg='''Hi sudhanshu sir I hope you find this solution and thanks for giving us a Challenge so we learn everything more efficiently'''\n",
    "voice_func(msg)"
   ]
  },
  {
   "cell_type": "markdown",
   "id": "32ea129f",
   "metadata": {},
   "source": [
    "q14 : you have to write a fun which will take string and return a len of \n",
    "it without using a inbuilt fun len"
   ]
  },
  {
   "cell_type": "code",
   "execution_count": 159,
   "id": "1de4198d",
   "metadata": {},
   "outputs": [
    {
     "data": {
      "text/plain": [
       "7"
      ]
     },
     "execution_count": 159,
     "metadata": {},
     "output_type": "execute_result"
    }
   ],
   "source": [
    "#q14 sol\n",
    "def get_len(string):\n",
    "    count=0\n",
    "    for i in string:count+=1\n",
    "    return count\n",
    "\n",
    "st=\"iNeuron\"\n",
    "get_len(st)"
   ]
  },
  {
   "cell_type": "markdown",
   "id": "db2a1462",
   "metadata": {},
   "source": [
    "q15 :write a fun which will be able to print an index of all premitive element which you will pass"
   ]
  },
  {
   "cell_type": "code",
   "execution_count": 160,
   "id": "ccfeb5e2",
   "metadata": {},
   "outputs": [
    {
     "name": "stdout",
     "output_type": "stream",
     "text": [
      "index -->0 value-->1\n",
      "index -->1 value-->2\n",
      "index -->2 value-->3\n",
      "index -->3 value-->4\n",
      "index -->4 value-->5\n",
      "index -->5 value-->6\n",
      "index -->6 value-->7\n"
     ]
    },
    {
     "data": {
      "text/plain": [
       "'Program Excuted Sucessfully'"
      ]
     },
     "execution_count": 160,
     "metadata": {},
     "output_type": "execute_result"
    }
   ],
   "source": [
    "#q15 sol\n",
    "def get_index(data):\n",
    "    for i in range(len(data)):\n",
    "        print(f\"index -->{i} value-->{data[i]}\")\n",
    "    return \"Program Excuted Sucessfully\"\n",
    "\n",
    "data=[1,2,3,4,5,6,7]\n",
    "get_index(data)"
   ]
  },
  {
   "cell_type": "markdown",
   "id": "bee93d18",
   "metadata": {},
   "source": [
    "q16 : Write a fun which will take input as a dict and give me out as a list of all the values \n",
    "even in case of 2 level nesting it should work ."
   ]
  },
  {
   "cell_type": "code",
   "execution_count": 202,
   "id": "a67a1ba0",
   "metadata": {},
   "outputs": [
    {
     "data": {
      "text/plain": [
       "[['Aryan', 'Rohan', 'Tanya', 'Krishna'],\n",
       " [19, 20, 19, 21],\n",
       " ['Python', 'C++', 'C++', 'Javascript']]"
      ]
     },
     "execution_count": 202,
     "metadata": {},
     "output_type": "execute_result"
    }
   ],
   "source": [
    "#q16 sol\n",
    "def dict_value(dicti):\n",
    "    res=[]\n",
    "    for k,v in dicti.items():\n",
    "        if type(v)==dict:\n",
    "            for nk,nv in v.items(): \n",
    "                res.append(v[nk])\n",
    "        else:\n",
    "            res.append(dicti[k])\n",
    "    return res\n",
    "\n",
    "dicti={1:{\"names\":[\"Aryan\",\"Rohan\",\"Tanya\",\"Krishna\"]},2:{\"age\":[19,20,19,21]},3:{\"lang\":[\"Python\",\"C++\",\"C++\",\"Javascript\"]}}\n",
    "dict_value(dicti)"
   ]
  },
  {
   "cell_type": "code",
   "execution_count": 199,
   "id": "7e6cc0c6",
   "metadata": {},
   "outputs": [
    {
     "data": {
      "text/plain": [
       "[dict_keys(['names'])]"
      ]
     },
     "execution_count": 199,
     "metadata": {},
     "output_type": "execute_result"
    }
   ],
   "source": [
    "d={1:{\"names\":[\"Aryan\",\"Rohan\",\"Tanya\",\"Krishna\"]},2:{\"age\":[19,20,19,21]},3:{\"lang\":[\"Python\",\"C++\",\"C++\",\"Javascript\"]}}\n",
    "d\n",
    "a=d[1]\n",
    "[a.keys()]"
   ]
  },
  {
   "cell_type": "markdown",
   "id": "12d43d2a",
   "metadata": {},
   "source": [
    "q17 : write a function which will take multiple list as a input and give me concatnation of all the element as \n",
    "and output"
   ]
  },
  {
   "cell_type": "code",
   "execution_count": 218,
   "id": "2985a5a8",
   "metadata": {},
   "outputs": [
    {
     "data": {
      "text/plain": [
       "[1, 2, 3, 4, 5, 6, 7, 8, 9, 10]"
      ]
     },
     "execution_count": 218,
     "metadata": {},
     "output_type": "execute_result"
    }
   ],
   "source": [
    "#q17 sol\n",
    "def concatnation(*lists):\n",
    "    res=[]\n",
    "    for i in range(len(lists)):\n",
    "        res+=lists[i]\n",
    "    return res\n",
    "\n",
    "concatnation([1,2,3,4],[5,6,7],[8,9],[10],[])"
   ]
  },
  {
   "cell_type": "markdown",
   "id": "90af7631",
   "metadata": {},
   "source": [
    "q18 : Write a function which will whould return list of all the file name from a directory . "
   ]
  },
  {
   "cell_type": "code",
   "execution_count": 19,
   "id": "8630f9ce",
   "metadata": {},
   "outputs": [
    {
     "data": {
      "text/plain": [
       "[['0.0Python_Basics',\n",
       "  '0.1Programming Assignments',\n",
       "  '0.2Python_Advanced-Assignments',\n",
       "  'Ineuron_First_Challenge.ipynb',\n",
       "  'voice.mp3']]"
      ]
     },
     "execution_count": 19,
     "metadata": {},
     "output_type": "execute_result"
    }
   ],
   "source": [
    "#q18 sol\n",
    "res=[]\n",
    "files=!ls\n",
    "res.append(files)\n",
    "res"
   ]
  },
  {
   "cell_type": "markdown",
   "id": "1fdf8815",
   "metadata": {},
   "source": [
    "q19 : write a function whihc will be able to read a image file and show it to you ."
   ]
  },
  {
   "cell_type": "code",
   "execution_count": 11,
   "id": "586e7810",
   "metadata": {},
   "outputs": [],
   "source": [
    "#q19 sol\n",
    "from PIL import Image"
   ]
  },
  {
   "cell_type": "code",
   "execution_count": 12,
   "id": "437f9d0f",
   "metadata": {},
   "outputs": [],
   "source": [
    "img = Image.open(\"/home/aryan/Pictures/0.jpg\")\n",
    "img.show()"
   ]
  },
  {
   "cell_type": "markdown",
   "id": "5e83c424",
   "metadata": {},
   "source": [
    "q20 : write a function by which you will be able to append two PDF files . "
   ]
  },
  {
   "cell_type": "code",
   "execution_count": 16,
   "id": "4b10c9f1",
   "metadata": {},
   "outputs": [],
   "source": [
    "#q20 sol\n",
    "from PyPDF2 import PdfMerger\n",
    "def pdf_merger(pdfs)\n",
    "    merger = PdfMerger()\n",
    "    for pdf in pdfs:\n",
    "        merger.append(pdf)\n",
    "\n",
    "    merger.write(\"result.pdf\")\n",
    "    merger.close()\n",
    "\n",
    "pdfs = ['Thinkstats.pdf', 'FDS.pdf']\n",
    "pdf_merger(pdfs)"
   ]
  },
  {
   "cell_type": "markdown",
   "id": "22873738",
   "metadata": {},
   "source": [
    "q21 : write a function which can help you to filter only word file from a directory . "
   ]
  },
  {
   "cell_type": "code",
   "execution_count": 18,
   "id": "2c3e31f7",
   "metadata": {},
   "outputs": [],
   "source": [
    "#q21 sol\n",
    "import os\n",
    "def filters():\n",
    "    for file in os.listdir(r'/home/aryan/Desktop/Ineuron'):\n",
    "        if file.endswith(\".png\"):\n",
    "            print(os.path.join(r'/home/aryan/Desktop/Ineuron', file))\n",
    "            \n",
    "filters()"
   ]
  },
  {
   "cell_type": "markdown",
   "id": "f6ef366c",
   "metadata": {},
   "source": [
    "q22 : write a function which can read video file and play for you ."
   ]
  },
  {
   "cell_type": "code",
   "execution_count": 22,
   "id": "ee817821",
   "metadata": {},
   "outputs": [],
   "source": [
    "#q22 sol\n"
   ]
  },
  {
   "cell_type": "markdown",
   "id": "50616879",
   "metadata": {},
   "source": [
    "q23 : write a function which will be able to shutdonw your system ."
   ]
  },
  {
   "cell_type": "code",
   "execution_count": 9,
   "id": "eac86c57",
   "metadata": {},
   "outputs": [
    {
     "name": "stdout",
     "output_type": "stream",
     "text": [
      "Do you wish to shutdown your computer(yes/no): no\n"
     ]
    }
   ],
   "source": [
    "#q23 sol\n",
    "def shutdown():\n",
    "    shutdown = input(\"Do you wish to shutdown your computer(yes/no): \") \n",
    "    if shutdown == 'no':\n",
    "        exit()\n",
    "    else:\n",
    "        os.system(\"shutdown /s /t 1\")\n",
    "        \n",
    "shutdown()"
   ]
  },
  {
   "cell_type": "markdown",
   "id": "76872647",
   "metadata": {},
   "source": [
    "q24 : Write a function which will whould return list of all the file name from a directory . "
   ]
  },
  {
   "cell_type": "code",
   "execution_count": 7,
   "id": "41e5d05a",
   "metadata": {},
   "outputs": [
    {
     "data": {
      "text/plain": [
       "['Programming_Assingment14.docx',\n",
       " 'Programming_Assingment25_sol.ipynb',\n",
       " 'Programming_Assingment01_sol.ipynb',\n",
       " 'Programming_Assingment7.docx',\n",
       " 'Programming_Assingment8.docx',\n",
       " 'Programming_Assingment5.docx',\n",
       " 'Programming_Assingment12_sol.ipynb',\n",
       " 'Programming_Assingment17.docx',\n",
       " 'Programming_Assingment11.docx',\n",
       " 'Programming_Assingment23_sol.ipynb',\n",
       " 'Programming_Assingment24_sol.ipynb',\n",
       " 'Programming_Assingment5_sol.ipynb',\n",
       " 'Programming_Assingment2.docx',\n",
       " 'Programming_Assingment7_sol.ipynb',\n",
       " 'Programming_Assingment19.docx',\n",
       " 'Programming_Assingment2_sol.ipynb',\n",
       " 'temp',\n",
       " 'Programming_Assingment4.docx',\n",
       " 'Programming_Assingment13.docx',\n",
       " 'Programming_Assingment09_sol.ipynb',\n",
       " 'Programming_Assingment21_sol.ipynb',\n",
       " 'Programming_Assingment13_sol.ipynb',\n",
       " 'Programming_Assingment6_sol.ipynb',\n",
       " 'Programming_Assingment4_sol.ipynb',\n",
       " 'Programming_Assingment10_sol.ipynb',\n",
       " 'Programming_Assingment3_sol.ipynb',\n",
       " 'Programming_Assingment3.docx',\n",
       " 'Programming_Assingment17_sol.ipynb',\n",
       " 'Programming_Assingment25.docx',\n",
       " 'Programming_Assingment9.docx',\n",
       " 'Programming_Assingment08_sol.ipynb',\n",
       " 'Programming_Assingment20.docx',\n",
       " 'Programming_Assingment19_sol.ipynb',\n",
       " 'Programming_Assingment12.docx',\n",
       " 'Programming_Assingment22_sol.ipynb',\n",
       " 'Programming_Assingment22.docx',\n",
       " '.ipynb_checkpoints',\n",
       " 'Programming_Assingment11_sol.ipynb',\n",
       " 'Programming_Assingment23.docx',\n",
       " 'Programming_Assingment6.docx',\n",
       " 'Programming_Assingment18_sol.ipynb',\n",
       " 'Programming_Assingment16_sol.ipynb',\n",
       " 'Programming_Assingment24.docx',\n",
       " 'Programming_Assingment14_sol.ipynb',\n",
       " 'Programming_Assingment15_sol.ipynb',\n",
       " 'Programming_Assingment1.docx',\n",
       " 'Programming_Assingment16.docx',\n",
       " 'Programming_Assingment15.docx',\n",
       " 'Programming_Assingment20_sol.ipynb',\n",
       " 'Programming_Assingment10.docx',\n",
       " 'Programming_Assingment18.docx',\n",
       " 'Programming_Assingment21.docx']"
      ]
     },
     "execution_count": 7,
     "metadata": {},
     "output_type": "execute_result"
    }
   ],
   "source": [
    "#q24 sol\n",
    "def file_list(path):\n",
    "    dir_list = os.listdir(path)\n",
    "    return dir_list\n",
    "\n",
    "path=\"/home/aryan/Desktop/Ineuron/Assignments/0.1Programming Assignments\"\n",
    "file_list(path)"
   ]
  },
  {
   "cell_type": "markdown",
   "id": "39dee5c1",
   "metadata": {},
   "source": [
    "q25 : write a function whihc will be able to access your mail ."
   ]
  },
  {
   "cell_type": "code",
   "execution_count": 226,
   "id": "aeea0af1",
   "metadata": {},
   "outputs": [],
   "source": [
    "#q25 sol\n"
   ]
  },
  {
   "cell_type": "code",
   "execution_count": null,
   "id": "7f47943c",
   "metadata": {},
   "outputs": [],
   "source": []
  }
 ],
 "metadata": {
  "kernelspec": {
   "display_name": "Python 3 (ipykernel)",
   "language": "python",
   "name": "python3"
  },
  "language_info": {
   "codemirror_mode": {
    "name": "ipython",
    "version": 3
   },
   "file_extension": ".py",
   "mimetype": "text/x-python",
   "name": "python",
   "nbconvert_exporter": "python",
   "pygments_lexer": "ipython3",
   "version": "3.9.7"
  }
 },
 "nbformat": 4,
 "nbformat_minor": 5
}
